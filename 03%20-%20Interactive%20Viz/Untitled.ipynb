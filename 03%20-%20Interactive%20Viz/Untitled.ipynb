{
 "cells": [
  {
   "cell_type": "code",
   "execution_count": 1,
   "metadata": {
    "collapsed": true
   },
   "outputs": [],
   "source": [
    "import folium\n",
    "import pandas as pd\n",
    "import numpy as np\n",
    "import requests\n",
    "from bs4 import BeautifulSoup"
   ]
  },
  {
   "cell_type": "code",
   "execution_count": 33,
   "metadata": {
    "collapsed": false
   },
   "outputs": [],
   "source": [
    "geo_path = r'data/antarctic_ice_edge.json'\n",
    "topo_path1 = r'ch-cantons.topojson.json'\n",
    "ch_map = folium.Map(location=[46.8418522,7.9253733],\n",
    "                   tiles='Mapbox Bright', zoom_start=8)\n",
    "ch_map.choropleth(geo_path=geo_path)\n",
    "ch_map.choropleth(geo_path=topo_path1,topojson='objects.cantons')\n",
    "ch_map.save('ch_map.html')"
   ]
  },
  {
   "cell_type": "code",
   "execution_count": 147,
   "metadata": {
    "collapsed": false
   },
   "outputs": [],
   "source": [
    "# read the data\n",
    "p3_grant = r'P3_GrantExport.csv'\n",
    "grant_data = pd.read_csv(p3_grant,sep = ';')\n",
    "grant_data = pd.DataFrame(grant_data[~grant_data.University.isnull()])"
   ]
  },
  {
   "cell_type": "code",
   "execution_count": 152,
   "metadata": {
    "collapsed": false
   },
   "outputs": [],
   "source": [
    "un_splited_uni_name = grant_data['University'].unique()\n",
    "uni_name_matrix = []\n",
    "for i in range(len(un_splited_uni_name)):\n",
    "    #print(un_splited_uni_name[i])\n",
    "    a = un_splited_uni_name[i]\n",
    "    b = a.split(' - ')[0]\n",
    "    #print(b)\n",
    "    uni_name_matrix.append(b)"
   ]
  },
  {
   "cell_type": "markdown",
   "metadata": {},
   "source": [
    "#### We have to remove the () for some universities"
   ]
  },
  {
   "cell_type": "code",
   "execution_count": 170,
   "metadata": {
    "collapsed": false
   },
   "outputs": [],
   "source": [
    "def extract_info(uni_name):\n",
    "    # url\n",
    "    original_url = 'http://www.geonames.org/search.html?'\n",
    "    payload={}\n",
    "    payload['q']=uni_name\n",
    "    payload['country']='CH'\n",
    "    get_url = requests.get(original_url, params=payload, timeout=30)\n",
    "    soup = BeautifulSoup(get_url.text,\"lxml\")\n",
    "    if soup.select('table tr td span[class=latitude]') == [] and soup.select('table tr td span[class=longitude]')==[]:\n",
    "        #print('The univeristy:', uni_name, 'is not found!')\n",
    "        latitude = 0;longitude = 0;state = np.nan\n",
    "    else:\n",
    "        latitude = float(soup.select('table tr td span[class=latitude]')[0].text)\n",
    "        longitude = float(soup.select('table tr td span[class=longitude]')[0].text)\n",
    "        l2 = soup.select('div table tr td')\n",
    "        state = (l2[3].contents)[1].split(', ')[1]\n",
    "    return latitude,longitude,state"
   ]
  },
  {
   "cell_type": "code",
   "execution_count": 178,
   "metadata": {
    "collapsed": false,
    "scrolled": true
   },
   "outputs": [],
   "source": [
    "# define the latitude and longitude matrix\n",
    "latitude_longitude_dic = {}\n",
    "# store the unsucceed university name\n",
    "unsucceed_university_name = []\n",
    "for uni_name in uni_name_matrix:\n",
    "    latitude,longitude,state = extract_info(uni_name)\n",
    "    if latitude==0:\n",
    "        unsucceed_university_name.append(uni_name)\n",
    "    else:\n",
    "        latitude_longitude_dic[uni_name] = [state,latitude,longitude]    "
   ]
  },
  {
   "cell_type": "code",
   "execution_count": 179,
   "metadata": {
    "collapsed": false
   },
   "outputs": [
    {
     "data": {
      "text/plain": [
       "{'ETH Zürich': ['Zurich', 47.3763034523898, 8.54804992675781],\n",
       " 'Kantonsspital St. Gallen': ['Saint Gallen',\n",
       "  47.42925492892253,\n",
       "  9.388259837297506],\n",
       " 'Universität Basel': ['Basel-City', 47.55831967091123, 7.584031820297241],\n",
       " 'Universität Bern': ['Bern', 46.95095609536347, 7.4354831442083436],\n",
       " 'Universität Zürich': ['Zurich', 47.37092, 8.53434],\n",
       " 'Université de Fribourg': ['Fribourg', 46.80683246786493, 7.153167516669125],\n",
       " 'Université de Lausanne': ['Vaud', 46.52376278378653, 6.5840935707092285],\n",
       " 'Université de Neuchâtel': ['Neuchâtel',\n",
       "  46.993854489413216,\n",
       "  6.937892486542709]}"
      ]
     },
     "execution_count": 179,
     "metadata": {},
     "output_type": "execute_result"
    }
   ],
   "source": [
    "latitude_longitude_dic"
   ]
  },
  {
   "cell_type": "code",
   "execution_count": 180,
   "metadata": {
    "collapsed": false
   },
   "outputs": [
    {
     "data": {
      "text/plain": [
       "['Nicht zuteilbar',\n",
       " 'Université de Genève',\n",
       " 'NPO (Biblioth., Museen, Verwalt.)',\n",
       " 'Eidg. Forschungsanstalt für Wald,Schnee,Land',\n",
       " 'Inst. de Hautes Etudes Internat. et du Dév',\n",
       " 'Universität St. Gallen',\n",
       " 'Weitere Institute',\n",
       " 'Firmen/Privatwirtschaft',\n",
       " 'Pädagogische Hochschule Graubünden',\n",
       " 'EPF Lausanne',\n",
       " 'Pädagogische Hochschule Zürich',\n",
       " 'Universität Luzern',\n",
       " 'Schweiz. Institut für Kunstwissenschaft',\n",
       " 'SUP della Svizzera italiana',\n",
       " 'HES de Suisse occidentale',\n",
       " 'Robert Walser-Stiftung Bern',\n",
       " 'Paul Scherrer Institut',\n",
       " 'Pädagogische Hochschule St. Gallen',\n",
       " 'Eidg. Anstalt für Wasserversorgung',\n",
       " 'Eidg. Material und Prüfungsanstalt',\n",
       " 'Physikal.-Meteorolog. Observatorium Davos',\n",
       " 'Berner Fachhochschule',\n",
       " 'Swiss Center for Electronics and Microtech.',\n",
       " 'Weitere Spitäler',\n",
       " 'AO Research Institute',\n",
       " 'Allergie- und Asthmaforschung',\n",
       " 'Forschungsinstitut für biologischen Landbau',\n",
       " 'Friedrich Miescher Institute',\n",
       " 'Forschungsanstalten Agroscope',\n",
       " 'Ente Ospedaliero Cantonale',\n",
       " 'Inst. universit. romand de Santé au Travail',\n",
       " 'Eidg. Hochschulinstitut für Berufsbildung',\n",
       " 'Zürcher Fachhochschule (ohne PH)',\n",
       " 'Università della Svizzera italiana',\n",
       " 'Institut für Kulturforschung Graubünden',\n",
       " 'Fachhochschule Nordwestschweiz (ohne PH)',\n",
       " 'Interkant. Hochschule für Heilpädagogik ZH',\n",
       " \"Centre de rech. sur l'environnement alpin\",\n",
       " 'Idiap Research Institute',\n",
       " 'Pädagogische Hochschule Bern',\n",
       " 'Institut Universitaire Kurt Bösch',\n",
       " 'Schweizer Paraplegiker Forschung',\n",
       " 'Hochschule Luzern',\n",
       " 'Forschungsinstitut für Opthalmologie',\n",
       " 'Haute école pédagogique du canton de Vaud',\n",
       " 'Fachhochschule Ostschweiz',\n",
       " 'Inst. Suisse de Spéléologie et Karstologie',\n",
       " 'Swiss Institute of Bioinformatics',\n",
       " 'Haute école pédagogique BE, JU, NE',\n",
       " 'Pädagogische Hochschule Luzern',\n",
       " 'Forschungskommission SAGW',\n",
       " 'Istituto Svizzero di Roma',\n",
       " 'Pädag. Hochschule Tessin (Teilschule SUPSI)',\n",
       " 'Haute école pédagogique fribourgeoise',\n",
       " 'Pädagogische Hochschule Schwyz',\n",
       " 'Pädagogische Hochschule Thurgau',\n",
       " 'Biotechnologie Institut Thurgau',\n",
       " 'Fachhochschule Kalaidos',\n",
       " 'Schweizer Kompetenzzentrum Sozialwissensch.',\n",
       " 'Pädagogische Hochschule Wallis',\n",
       " 'Schweiz. Hochschule für Logopädie Rorschach',\n",
       " 'Pädagogische Hochschule Zug',\n",
       " 'Instituto Ricerche Solari Locarno',\n",
       " 'Franklin University Switzerland',\n",
       " 'Pädagogische Hochschule Schaffhausen',\n",
       " 'Pädagogische Hochschule Nordwestschweiz',\n",
       " 'Staatsunabh. Theologische Hochschule Basel',\n",
       " 'Facoltà di Teologia di Lugano',\n",
       " 'Fernfachhochschule Schweiz (Mitglied SUPSI)']"
      ]
     },
     "execution_count": 180,
     "metadata": {},
     "output_type": "execute_result"
    }
   ],
   "source": [
    "unsucceed_university_name"
   ]
  },
  {
   "cell_type": "code",
   "execution_count": 35,
   "metadata": {
    "collapsed": false
   },
   "outputs": [],
   "source": [
    "# url\n",
    "original_url = 'http://www.geonames.org/search.html?'\n",
    "payload = {'q':'Université de Lausanne','country':'CH'}\n",
    "get_url = requests.get(original_url, params=payload, timeout=30)\n",
    "soup = BeautifulSoup(get_url.text,\"lxml\")"
   ]
  },
  {
   "cell_type": "code",
   "execution_count": 76,
   "metadata": {
    "collapsed": false,
    "scrolled": true
   },
   "outputs": [
    {
     "data": {
      "text/plain": [
       "[<span id=\"topmenulogin\">\n",
       " <a href=\"http://www.geonames.org/login\" title=\"login or create new user account\">login</a>\n",
       " </span>,\n",
       " <span class=\"geo\" style=\"display:none;\"><span class=\"latitude\">46.52376278378653</span><span class=\"longitude\">6.5840935707092285</span></span>,\n",
       " <span class=\"latitude\">46.52376278378653</span>,\n",
       " <span class=\"longitude\">6.5840935707092285</span>]"
      ]
     },
     "execution_count": 76,
     "metadata": {},
     "output_type": "execute_result"
    }
   ],
   "source": [
    "l = soup.select('table tr td span')\n",
    "l"
   ]
  },
  {
   "cell_type": "code",
   "execution_count": 98,
   "metadata": {
    "collapsed": false
   },
   "outputs": [
    {
     "data": {
      "text/plain": [
       "46.52376278378653"
      ]
     },
     "execution_count": 98,
     "metadata": {},
     "output_type": "execute_result"
    }
   ],
   "source": [
    "latitude = float(soup.select('table tr td span[class=latitude]')[0].text)\n",
    "latitude"
   ]
  },
  {
   "cell_type": "code",
   "execution_count": 99,
   "metadata": {
    "collapsed": false
   },
   "outputs": [
    {
     "data": {
      "text/plain": [
       "6.5840935707092285"
      ]
     },
     "execution_count": 99,
     "metadata": {},
     "output_type": "execute_result"
    }
   ],
   "source": [
    "longitude = float(soup.select('table tr td span[class=longitude]')[0].text)\n",
    "longitude"
   ]
  },
  {
   "cell_type": "code",
   "execution_count": 90,
   "metadata": {
    "collapsed": false
   },
   "outputs": [
    {
     "data": {
      "text/plain": [
       "'Vaud'"
      ]
     },
     "execution_count": 90,
     "metadata": {},
     "output_type": "execute_result"
    }
   ],
   "source": [
    "l = soup.select('div table tr td')\n",
    "(l[3].contents)[1].split(', ')[1]"
   ]
  },
  {
   "cell_type": "code",
   "execution_count": 100,
   "metadata": {
    "collapsed": false
   },
   "outputs": [
    {
     "data": {
      "text/plain": [
       "[<a href=\"/countries/CH/switzerland.html\">Switzerland</a>,\n",
       " ', Vaud',\n",
       " <br/>,\n",
       " <small>Ouest Lausannois District &gt; Chavannes-près-Renens</small>,\n",
       " '\\n']"
      ]
     },
     "execution_count": 100,
     "metadata": {},
     "output_type": "execute_result"
    }
   ],
   "source": [
    "l[3].contents"
   ]
  },
  {
   "cell_type": "code",
   "execution_count": 97,
   "metadata": {
    "collapsed": false
   },
   "outputs": [
    {
     "name": "stdout",
     "output_type": "stream",
     "text": [
      "0\n"
     ]
    }
   ],
   "source": [
    "if soup.select('table[class=restable]') is []:\n",
    "    print (1)\n",
    "else:\n",
    "    print (0)"
   ]
  },
  {
   "cell_type": "code",
   "execution_count": null,
   "metadata": {
    "collapsed": true
   },
   "outputs": [],
   "source": []
  }
 ],
 "metadata": {
  "kernelspec": {
   "display_name": "Python 3",
   "language": "python",
   "name": "python3"
  },
  "language_info": {
   "codemirror_mode": {
    "name": "ipython",
    "version": 3
   },
   "file_extension": ".py",
   "mimetype": "text/x-python",
   "name": "python",
   "nbconvert_exporter": "python",
   "pygments_lexer": "ipython3",
   "version": "3.5.1"
  }
 },
 "nbformat": 4,
 "nbformat_minor": 0
}
