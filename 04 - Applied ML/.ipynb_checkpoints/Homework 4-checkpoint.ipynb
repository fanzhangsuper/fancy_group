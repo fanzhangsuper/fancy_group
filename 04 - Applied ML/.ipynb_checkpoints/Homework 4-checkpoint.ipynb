{
 "cells": [
  {
   "cell_type": "code",
   "execution_count": 2,
   "metadata": {
    "collapsed": true
   },
   "outputs": [],
   "source": [
    "import pandas as pd\n",
    "import numpy as np\n",
    "import matplotlib.pyplot as plt\n",
    "import scipy.stats.mstats as ssm\n",
    "\n",
    "%matplotlib inline"
   ]
  },
  {
   "cell_type": "markdown",
   "metadata": {},
   "source": [
    "## Data cleaning: "
   ]
  },
  {
   "cell_type": "markdown",
   "metadata": {},
   "source": [
    "Data cleaning and Assumptions\n",
    "\n",
    "- Drop items whose `rater` column is Nan. \n",
    "- Convert the career statistics to their expectations per game. It is more reasonable to compare their expectations. Image a player who play 20 games and 50 games with same performance(temper/position/goals/referee...), we should classifier them to same class. The total statistics will be very different while the averaged stats will be similar.\n",
    "- Average the rater's score and binarize them to 0 (light skin) or 1 (dark skin)\n",
    "- Convert country/club name to index.\n",
    "- Trucate the birthday to the year. We assume that all the players enter leagues at similar age. Thus the information of birthday makes referees' creterion comparable overtime. For example, one action is considered admissible during a period of time but will get a yellow card in other time. If we compare the number of red cards of white players in 1980s with those of black players in 2010s, we may get wrong conclusions.\n",
    "- Features like `photoID`, `player` is not used because their information are covered by `player-short` and `rater`\n",
    "- stats like `meanAIT` are weighted with the number of games in a referee-player dyad. Togethor with `games`, the new stats will represent the total(average) `AIT` a player faced."
   ]
  },
  {
   "cell_type": "code",
   "execution_count": 3,
   "metadata": {
    "collapsed": true
   },
   "outputs": [],
   "source": [
    "# load the data\n",
    "filename = 'CrowdstormingDataJuly1st.csv'\n",
    "df_all = pd.read_csv(filename)\n",
    "\n",
    "df_all.dropna(inplace=True)"
   ]
  },
  {
   "cell_type": "markdown",
   "metadata": {},
   "source": [
    "Feature Engineering"
   ]
  },
  {
   "cell_type": "code",
   "execution_count": 4,
   "metadata": {
    "collapsed": true
   },
   "outputs": [],
   "source": [
    "df_all['Skin'] = ((df_all['rater1'] + df_all['rater2']) > 1 ).astype(int)\n",
    "df_all['totalCards'] = (df_all['redCards'] + df_all['yellowCards'] + df_all['yellowReds'])\n",
    "df_all['weightIAT'] = df_all['meanIAT'] * df_all['games']\n",
    "df_all['weightExp'] = df_all['meanExp'] * df_all['games']"
   ]
  },
  {
   "cell_type": "code",
   "execution_count": 5,
   "metadata": {
    "collapsed": true
   },
   "outputs": [],
   "source": [
    "# replace birthday by the birth year\n",
    "df_all['birthday'] = df_all.apply(lambda x: x.loc['birthday'].split('.')[2], axis=1).astype(int)\n",
    "\n",
    "# replace country name by number labels in order to classify\n",
    "dic_country = {'Spain':0, 'France':1, 'England':2, 'Germany':3}\n",
    "df_all['leagueCountry'] = df_all.apply(lambda x: dic_country[x.loc['leagueCountry']], axis=1)\n",
    "\n",
    "# replace club name by number labels in order to classify\n",
    "club_name = df_all['club'].unique()\n",
    "num_of_clubs = len(club_name)\n",
    "club_index = np.arange(0, num_of_clubs)\n",
    "club_name_index_map = dict(zip(club_name, club_index))\n",
    "df_all['club'] = df_all.apply(lambda x: club_name_index_map[x.loc['club']], axis=1)"
   ]
  },
  {
   "cell_type": "code",
   "execution_count": 6,
   "metadata": {
    "collapsed": true
   },
   "outputs": [],
   "source": [
    "# replace position name by number labels in order to classify\n",
    "position_name = df_all['position'].unique()\n",
    "num_of_position = len(position_name)\n",
    "position_index = np.arange(0, num_of_position)\n",
    "position_name_index_map = dict(zip(position_name,position_index))\n",
    "\n",
    "df_all['position'] = df_all.apply(lambda x: position_name_index_map[x.loc['position']], axis=1)"
   ]
  },
  {
   "cell_type": "code",
   "execution_count": 7,
   "metadata": {
    "collapsed": true
   },
   "outputs": [],
   "source": [
    "rev_position_name_index_map = {v:k for k, v in position_name_index_map.items()}"
   ]
  },
  {
   "cell_type": "code",
   "execution_count": 8,
   "metadata": {
    "collapsed": false,
    "scrolled": false
   },
   "outputs": [
    {
     "data": {
      "text/html": [
       "<div>\n",
       "<table border=\"1\" class=\"dataframe\">\n",
       "  <thead>\n",
       "    <tr style=\"text-align: right;\">\n",
       "      <th></th>\n",
       "      <th>playerShort</th>\n",
       "      <th>player</th>\n",
       "      <th>club</th>\n",
       "      <th>leagueCountry</th>\n",
       "      <th>birthday</th>\n",
       "      <th>height</th>\n",
       "      <th>weight</th>\n",
       "      <th>position</th>\n",
       "      <th>games</th>\n",
       "      <th>victories</th>\n",
       "      <th>...</th>\n",
       "      <th>meanIAT</th>\n",
       "      <th>nIAT</th>\n",
       "      <th>seIAT</th>\n",
       "      <th>meanExp</th>\n",
       "      <th>nExp</th>\n",
       "      <th>seExp</th>\n",
       "      <th>Skin</th>\n",
       "      <th>totalCards</th>\n",
       "      <th>weightIAT</th>\n",
       "      <th>weightExp</th>\n",
       "    </tr>\n",
       "  </thead>\n",
       "  <tbody>\n",
       "    <tr>\n",
       "      <th>0</th>\n",
       "      <td>lucas-wilchez</td>\n",
       "      <td>Lucas Wilchez</td>\n",
       "      <td>0</td>\n",
       "      <td>0</td>\n",
       "      <td>1983</td>\n",
       "      <td>177.0</td>\n",
       "      <td>72.0</td>\n",
       "      <td>0</td>\n",
       "      <td>1</td>\n",
       "      <td>0</td>\n",
       "      <td>...</td>\n",
       "      <td>0.326391</td>\n",
       "      <td>712.0</td>\n",
       "      <td>0.000564</td>\n",
       "      <td>0.396000</td>\n",
       "      <td>750.0</td>\n",
       "      <td>0.002696</td>\n",
       "      <td>0</td>\n",
       "      <td>0</td>\n",
       "      <td>0.326391</td>\n",
       "      <td>0.396000</td>\n",
       "    </tr>\n",
       "    <tr>\n",
       "      <th>1</th>\n",
       "      <td>john-utaka</td>\n",
       "      <td>John Utaka</td>\n",
       "      <td>1</td>\n",
       "      <td>1</td>\n",
       "      <td>1982</td>\n",
       "      <td>179.0</td>\n",
       "      <td>82.0</td>\n",
       "      <td>1</td>\n",
       "      <td>1</td>\n",
       "      <td>0</td>\n",
       "      <td>...</td>\n",
       "      <td>0.203375</td>\n",
       "      <td>40.0</td>\n",
       "      <td>0.010875</td>\n",
       "      <td>-0.204082</td>\n",
       "      <td>49.0</td>\n",
       "      <td>0.061504</td>\n",
       "      <td>1</td>\n",
       "      <td>1</td>\n",
       "      <td>0.203375</td>\n",
       "      <td>-0.204082</td>\n",
       "    </tr>\n",
       "    <tr>\n",
       "      <th>5</th>\n",
       "      <td>aaron-hughes</td>\n",
       "      <td>Aaron Hughes</td>\n",
       "      <td>2</td>\n",
       "      <td>2</td>\n",
       "      <td>1979</td>\n",
       "      <td>182.0</td>\n",
       "      <td>71.0</td>\n",
       "      <td>2</td>\n",
       "      <td>1</td>\n",
       "      <td>0</td>\n",
       "      <td>...</td>\n",
       "      <td>0.325185</td>\n",
       "      <td>127.0</td>\n",
       "      <td>0.003297</td>\n",
       "      <td>0.538462</td>\n",
       "      <td>130.0</td>\n",
       "      <td>0.013752</td>\n",
       "      <td>0</td>\n",
       "      <td>0</td>\n",
       "      <td>0.325185</td>\n",
       "      <td>0.538462</td>\n",
       "    </tr>\n",
       "    <tr>\n",
       "      <th>6</th>\n",
       "      <td>aleksandar-kolarov</td>\n",
       "      <td>Aleksandar Kolarov</td>\n",
       "      <td>3</td>\n",
       "      <td>2</td>\n",
       "      <td>1985</td>\n",
       "      <td>187.0</td>\n",
       "      <td>80.0</td>\n",
       "      <td>3</td>\n",
       "      <td>1</td>\n",
       "      <td>1</td>\n",
       "      <td>...</td>\n",
       "      <td>0.325185</td>\n",
       "      <td>127.0</td>\n",
       "      <td>0.003297</td>\n",
       "      <td>0.538462</td>\n",
       "      <td>130.0</td>\n",
       "      <td>0.013752</td>\n",
       "      <td>0</td>\n",
       "      <td>0</td>\n",
       "      <td>0.325185</td>\n",
       "      <td>0.538462</td>\n",
       "    </tr>\n",
       "    <tr>\n",
       "      <th>7</th>\n",
       "      <td>alexander-tettey</td>\n",
       "      <td>Alexander Tettey</td>\n",
       "      <td>4</td>\n",
       "      <td>2</td>\n",
       "      <td>1986</td>\n",
       "      <td>180.0</td>\n",
       "      <td>68.0</td>\n",
       "      <td>4</td>\n",
       "      <td>1</td>\n",
       "      <td>0</td>\n",
       "      <td>...</td>\n",
       "      <td>0.325185</td>\n",
       "      <td>127.0</td>\n",
       "      <td>0.003297</td>\n",
       "      <td>0.538462</td>\n",
       "      <td>130.0</td>\n",
       "      <td>0.013752</td>\n",
       "      <td>1</td>\n",
       "      <td>0</td>\n",
       "      <td>0.325185</td>\n",
       "      <td>0.538462</td>\n",
       "    </tr>\n",
       "  </tbody>\n",
       "</table>\n",
       "<p>5 rows × 32 columns</p>\n",
       "</div>"
      ],
      "text/plain": [
       "          playerShort              player  club  leagueCountry  birthday  \\\n",
       "0       lucas-wilchez       Lucas Wilchez     0              0      1983   \n",
       "1          john-utaka          John Utaka     1              1      1982   \n",
       "5        aaron-hughes        Aaron Hughes     2              2      1979   \n",
       "6  aleksandar-kolarov  Aleksandar Kolarov     3              2      1985   \n",
       "7    alexander-tettey    Alexander Tettey     4              2      1986   \n",
       "\n",
       "   height  weight  position  games  victories    ...       meanIAT   nIAT  \\\n",
       "0   177.0    72.0         0      1          0    ...      0.326391  712.0   \n",
       "1   179.0    82.0         1      1          0    ...      0.203375   40.0   \n",
       "5   182.0    71.0         2      1          0    ...      0.325185  127.0   \n",
       "6   187.0    80.0         3      1          1    ...      0.325185  127.0   \n",
       "7   180.0    68.0         4      1          0    ...      0.325185  127.0   \n",
       "\n",
       "      seIAT   meanExp   nExp     seExp Skin  totalCards  weightIAT  weightExp  \n",
       "0  0.000564  0.396000  750.0  0.002696    0           0   0.326391   0.396000  \n",
       "1  0.010875 -0.204082   49.0  0.061504    1           1   0.203375  -0.204082  \n",
       "5  0.003297  0.538462  130.0  0.013752    0           0   0.325185   0.538462  \n",
       "6  0.003297  0.538462  130.0  0.013752    0           0   0.325185   0.538462  \n",
       "7  0.003297  0.538462  130.0  0.013752    1           0   0.325185   0.538462  \n",
       "\n",
       "[5 rows x 32 columns]"
      ]
     },
     "execution_count": 8,
     "metadata": {},
     "output_type": "execute_result"
    }
   ],
   "source": [
    "df_all.head() "
   ]
  },
  {
   "cell_type": "markdown",
   "metadata": {},
   "source": [
    "#### Create a new dataframe of size (`num_player`, `num_feaures`) of each player."
   ]
  },
  {
   "cell_type": "code",
   "execution_count": 9,
   "metadata": {
    "collapsed": false
   },
   "outputs": [],
   "source": [
    "rev_club_name_index_map = {v:k for k,v in club_name_index_map.items()}"
   ]
  },
  {
   "cell_type": "code",
   "execution_count": 10,
   "metadata": {
    "collapsed": false,
    "scrolled": true
   },
   "outputs": [],
   "source": [
    "# Aggragate player's stats by summing\n",
    "df_player = df_all[['playerShort','totalCards', 'redCards', 'yellowCards', \n",
    "                    'yellowReds', 'victories', 'ties', 'weightIAT', 'weightExp',\n",
    "                    'defeats', 'goals', 'games']].groupby('playerShort').sum()\n",
    "\n",
    "# the birthday, position, skin are the same for each player, so using `mean` will not change.\n",
    "df_player[['birthday','position', 'skin', 'club', 'leagueCountry', 'height','weight']] = df_all[\n",
    "    ['playerShort', 'birthday', 'position', 'Skin', 'club', 'leagueCountry'\n",
    "    , 'height','weight']].groupby('playerShort').mean()"
   ]
  },
  {
   "cell_type": "markdown",
   "metadata": {},
   "source": [
    "#### Create a new dataframe of each player with stats per game"
   ]
  },
  {
   "cell_type": "code",
   "execution_count": 11,
   "metadata": {
    "collapsed": true
   },
   "outputs": [],
   "source": [
    "df_ave = df_player.copy()\n",
    "\n",
    "averaged_list = ['totalCards','yellowCards', 'yellowReds', 'redCards', 'victories', 'ties', \n",
    "                 'defeats', 'goals', 'weightIAT', 'weightExp']\n",
    "for feature in averaged_list:\n",
    "    df_ave[feature] = df_ave[feature]/df_ave['games']"
   ]
  },
  {
   "cell_type": "markdown",
   "metadata": {},
   "source": [
    "Analyse the skin with the red/yellow cards they receive. From this simple stats, we found the number of cards received per game are similar. Light skin player receives a little more yellow cards, while dark skin player receive more red cards."
   ]
  },
  {
   "cell_type": "code",
   "execution_count": 12,
   "metadata": {
    "collapsed": false
   },
   "outputs": [
    {
     "data": {
      "image/png": "[encoded data removed]",
      "text/plain": [
       "<matplotlib.figure.Figure at 0x1156712b0>"
      ]
     },
     "metadata": {},
     "output_type": "display_data"
    }
   ],
   "source": [
    "skin_x_cards = df_player.groupby('skin').sum()[['yellowCards', 'yellowReds', 'redCards', 'games']]\n",
    "\n",
    "for card in ['yellowCards', 'yellowReds', 'redCards']:\n",
    "    skin_x_cards[card] = skin_x_cards[card] / skin_x_cards['games']\n",
    "\n",
    "skin_x_cards[['yellowCards', 'yellowReds', 'redCards']].transpose().plot(kind='bar')\n",
    "plt.title('cards per game')\n",
    "plt.show()"
   ]
  },
  {
   "cell_type": "markdown",
   "metadata": {},
   "source": [
    "### classification objective visionlization"
   ]
  },
  {
   "cell_type": "markdown",
   "metadata": {},
   "source": [
    "Compare the number of players with their age and skin color. We found the number of player with light skin color is much more than dark skin. As the portion of young players have `light` skin than those born in 1980s, it is reasonable to think many dark skin player come from countries outside this 4 leagues.\n",
    "\n",
    "More importantly, we will have to choose an appropriate metric which measures the `desired` accuracy and a better learning option (use `class_weight=balanced_subsample` when we define classifier). In this case, we use `F1` score to choose a model as it garauntees both precision and recall. In this way, we can leviate the effect of **imbalanceness**."
   ]
  },
  {
   "cell_type": "code",
   "execution_count": 13,
   "metadata": {
    "collapsed": false,
    "scrolled": true
   },
   "outputs": [
    {
     "data": {
      "image/png": "[encoded data removed]",
      "text/plain": [
       "<matplotlib.figure.Figure at 0x114f39cf8>"
      ]
     },
     "metadata": {},
     "output_type": "display_data"
    }
   ],
   "source": [
    "rater_average = df_player[['skin', 'birthday', 'games']]\n",
    "rater_birth_count = rater_average.groupby(['skin', 'birthday']).count()\n",
    "rater_birth_count = rater_birth_count.reset_index()\n",
    "pivoted_rater_birth_count = rater_birth_count.pivot(columns='skin', values='games', index='birthday').fillna(0)\n",
    "pivoted_rater_birth_count.plot(kind='area')\n",
    "plt.ylabel('number of player')\n",
    "plt.xlabel('year of birth')\n",
    "plt.title('Number of players with their skin color and year of birth')\n",
    "plt.show()"
   ]
  },
  {
   "cell_type": "markdown",
   "metadata": {},
   "source": [
    "#### Positions\n",
    "\n",
    "Some positions are more likely to get red cards than the others. We first take a look at their distributions."
   ]
  },
  {
   "cell_type": "code",
   "execution_count": 14,
   "metadata": {
    "collapsed": false
   },
   "outputs": [],
   "source": [
    "position_x_skin_df = df_player.groupby(['position', 'skin']).sum()\n",
    "for feature in ['totalCards', 'redCards', 'yellowCards', 'yellowReds', 'victories',\n",
    "               'ties', 'weightIAT', 'weightExp', 'defeats', 'goals']:\n",
    "    position_x_skin_df[feature] = position_x_skin_df[feature]/position_x_skin_df['games']"
   ]
  },
  {
   "cell_type": "code",
   "execution_count": 15,
   "metadata": {
    "collapsed": false,
    "scrolled": false
   },
   "outputs": [
    {
     "data": {
      "text/html": [
       "<div>\n",
       "<table border=\"1\" class=\"dataframe\">\n",
       "  <thead>\n",
       "    <tr style=\"text-align: right;\">\n",
       "      <th></th>\n",
       "      <th></th>\n",
       "      <th>totalCards</th>\n",
       "      <th>redCards</th>\n",
       "      <th>yellowCards</th>\n",
       "      <th>yellowReds</th>\n",
       "      <th>victories</th>\n",
       "      <th>ties</th>\n",
       "      <th>weightIAT</th>\n",
       "      <th>weightExp</th>\n",
       "      <th>defeats</th>\n",
       "      <th>goals</th>\n",
       "      <th>games</th>\n",
       "      <th>birthday</th>\n",
       "      <th>club</th>\n",
       "      <th>leagueCountry</th>\n",
       "      <th>height</th>\n",
       "      <th>weight</th>\n",
       "    </tr>\n",
       "    <tr>\n",
       "      <th>position</th>\n",
       "      <th>skin</th>\n",
       "      <th></th>\n",
       "      <th></th>\n",
       "      <th></th>\n",
       "      <th></th>\n",
       "      <th></th>\n",
       "      <th></th>\n",
       "      <th></th>\n",
       "      <th></th>\n",
       "      <th></th>\n",
       "      <th></th>\n",
       "      <th></th>\n",
       "      <th></th>\n",
       "      <th></th>\n",
       "      <th></th>\n",
       "      <th></th>\n",
       "      <th></th>\n",
       "    </tr>\n",
       "  </thead>\n",
       "  <tbody>\n",
       "    <tr>\n",
       "      <th rowspan=\"2\" valign=\"top\">0</th>\n",
       "      <th>0</th>\n",
       "      <td>0.128570</td>\n",
       "      <td>0.002584</td>\n",
       "      <td>0.123232</td>\n",
       "      <td>0.002754</td>\n",
       "      <td>0.467288</td>\n",
       "      <td>0.229631</td>\n",
       "      <td>0.347319</td>\n",
       "      <td>0.446752</td>\n",
       "      <td>0.303081</td>\n",
       "      <td>0.161997</td>\n",
       "      <td>29408</td>\n",
       "      <td>236445</td>\n",
       "      <td>4560</td>\n",
       "      <td>205</td>\n",
       "      <td>21094.0</td>\n",
       "      <td>8504.0</td>\n",
       "    </tr>\n",
       "    <tr>\n",
       "      <th>1</th>\n",
       "      <td>0.135902</td>\n",
       "      <td>0.001605</td>\n",
       "      <td>0.130551</td>\n",
       "      <td>0.003745</td>\n",
       "      <td>0.407170</td>\n",
       "      <td>0.246656</td>\n",
       "      <td>0.345080</td>\n",
       "      <td>0.416082</td>\n",
       "      <td>0.346174</td>\n",
       "      <td>0.167469</td>\n",
       "      <td>1869</td>\n",
       "      <td>15900</td>\n",
       "      <td>293</td>\n",
       "      <td>7</td>\n",
       "      <td>1434.0</td>\n",
       "      <td>594.0</td>\n",
       "    </tr>\n",
       "    <tr>\n",
       "      <th rowspan=\"2\" valign=\"top\">1</th>\n",
       "      <th>0</th>\n",
       "      <td>0.114078</td>\n",
       "      <td>0.004108</td>\n",
       "      <td>0.108010</td>\n",
       "      <td>0.001960</td>\n",
       "      <td>0.477689</td>\n",
       "      <td>0.229742</td>\n",
       "      <td>0.350241</td>\n",
       "      <td>0.474613</td>\n",
       "      <td>0.292569</td>\n",
       "      <td>0.270911</td>\n",
       "      <td>10712</td>\n",
       "      <td>79463</td>\n",
       "      <td>1708</td>\n",
       "      <td>58</td>\n",
       "      <td>7102.0</td>\n",
       "      <td>2902.0</td>\n",
       "    </tr>\n",
       "    <tr>\n",
       "      <th>1</th>\n",
       "      <td>0.101413</td>\n",
       "      <td>0.003795</td>\n",
       "      <td>0.095298</td>\n",
       "      <td>0.002319</td>\n",
       "      <td>0.444444</td>\n",
       "      <td>0.245414</td>\n",
       "      <td>0.337989</td>\n",
       "      <td>0.388015</td>\n",
       "      <td>0.310141</td>\n",
       "      <td>0.186802</td>\n",
       "      <td>4743</td>\n",
       "      <td>31757</td>\n",
       "      <td>496</td>\n",
       "      <td>21</td>\n",
       "      <td>2844.0</td>\n",
       "      <td>1173.0</td>\n",
       "    </tr>\n",
       "    <tr>\n",
       "      <th>2</th>\n",
       "      <th>0</th>\n",
       "      <td>0.176751</td>\n",
       "      <td>0.006642</td>\n",
       "      <td>0.164081</td>\n",
       "      <td>0.006028</td>\n",
       "      <td>0.459571</td>\n",
       "      <td>0.235413</td>\n",
       "      <td>0.345425</td>\n",
       "      <td>0.439991</td>\n",
       "      <td>0.305016</td>\n",
       "      <td>0.053137</td>\n",
       "      <td>53748</td>\n",
       "      <td>418858</td>\n",
       "      <td>8218</td>\n",
       "      <td>342</td>\n",
       "      <td>39519.0</td>\n",
       "      <td>17037.0</td>\n",
       "    </tr>\n",
       "  </tbody>\n",
       "</table>\n",
       "</div>"
      ],
      "text/plain": [
       "               totalCards  redCards  yellowCards  yellowReds  victories  \\\n",
       "position skin                                                             \n",
       "0        0       0.128570  0.002584     0.123232    0.002754   0.467288   \n",
       "         1       0.135902  0.001605     0.130551    0.003745   0.407170   \n",
       "1        0       0.114078  0.004108     0.108010    0.001960   0.477689   \n",
       "         1       0.101413  0.003795     0.095298    0.002319   0.444444   \n",
       "2        0       0.176751  0.006642     0.164081    0.006028   0.459571   \n",
       "\n",
       "                   ties  weightIAT  weightExp   defeats     goals  games  \\\n",
       "position skin                                                              \n",
       "0        0     0.229631   0.347319   0.446752  0.303081  0.161997  29408   \n",
       "         1     0.246656   0.345080   0.416082  0.346174  0.167469   1869   \n",
       "1        0     0.229742   0.350241   0.474613  0.292569  0.270911  10712   \n",
       "         1     0.245414   0.337989   0.388015  0.310141  0.186802   4743   \n",
       "2        0     0.235413   0.345425   0.439991  0.305016  0.053137  53748   \n",
       "\n",
       "               birthday  club  leagueCountry   height   weight  \n",
       "position skin                                                   \n",
       "0        0       236445  4560            205  21094.0   8504.0  \n",
       "         1        15900   293              7   1434.0    594.0  \n",
       "1        0        79463  1708             58   7102.0   2902.0  \n",
       "         1        31757   496             21   2844.0   1173.0  \n",
       "2        0       418858  8218            342  39519.0  17037.0  "
      ]
     },
     "execution_count": 15,
     "metadata": {},
     "output_type": "execute_result"
    }
   ],
   "source": [
    "position_x_skin_df.head()"
   ]
  },
  {
   "cell_type": "code",
   "execution_count": 16,
   "metadata": {
    "collapsed": false
   },
   "outputs": [],
   "source": [
    "position_x_skin_redCards = position_x_skin_df.reset_index()\n",
    "position_x_skin_redCards['position'] = position_x_skin_redCards.apply(\n",
    "    lambda x: rev_position_name_index_map[x.loc['position']], axis=1)\n",
    "\n",
    "position_x_skin_redCards = position_x_skin_redCards.pivot(\n",
    "    values='redCards', columns='skin', index='position')"
   ]
  },
  {
   "cell_type": "markdown",
   "metadata": {},
   "source": [
    "In some positions like `center Back`, `Goal Keepers` and `right winger`, `right fullback`"
   ]
  },
  {
   "cell_type": "code",
   "execution_count": 17,
   "metadata": {
    "collapsed": false,
    "scrolled": true
   },
   "outputs": [
    {
     "data": {
      "text/plain": [
       "<matplotlib.axes._subplots.AxesSubplot at 0x114669358>"
      ]
     },
     "execution_count": 17,
     "metadata": {},
     "output_type": "execute_result"
    },
    {
     "data": {
      "image/png": "[encoded data removed]",
      "text/plain": [
       "<matplotlib.figure.Figure at 0x11466f048>"
      ]
     },
     "metadata": {},
     "output_type": "display_data"
    }
   ],
   "source": [
    "position_x_skin_redCards.plot(kind='bar')"
   ]
  },
  {
   "cell_type": "markdown",
   "metadata": {
    "collapsed": true
   },
   "source": [
    "#### Groupby Referees"
   ]
  },
  {
   "cell_type": "code",
   "execution_count": 18,
   "metadata": {
    "collapsed": false
   },
   "outputs": [
    {
     "data": {
      "text/html": [
       "<div>\n",
       "<table border=\"1\" class=\"dataframe\">\n",
       "  <thead>\n",
       "    <tr style=\"text-align: right;\">\n",
       "      <th></th>\n",
       "      <th>yellowCards</th>\n",
       "      <th>yellowReds</th>\n",
       "      <th>redCards</th>\n",
       "      <th>photoID</th>\n",
       "      <th>rater1</th>\n",
       "      <th>rater2</th>\n",
       "      <th>refNum</th>\n",
       "      <th>refCountry</th>\n",
       "      <th>Alpha_3</th>\n",
       "      <th>meanIAT</th>\n",
       "      <th>nIAT</th>\n",
       "      <th>seIAT</th>\n",
       "      <th>meanExp</th>\n",
       "      <th>nExp</th>\n",
       "      <th>seExp</th>\n",
       "      <th>Skin</th>\n",
       "      <th>totalCards</th>\n",
       "      <th>weightIAT</th>\n",
       "      <th>weightExp</th>\n",
       "    </tr>\n",
       "  </thead>\n",
       "  <tbody>\n",
       "    <tr>\n",
       "      <th>0</th>\n",
       "      <td>0</td>\n",
       "      <td>0</td>\n",
       "      <td>0</td>\n",
       "      <td>95212.jpg</td>\n",
       "      <td>0.25</td>\n",
       "      <td>0.50</td>\n",
       "      <td>1</td>\n",
       "      <td>1</td>\n",
       "      <td>GRC</td>\n",
       "      <td>0.326391</td>\n",
       "      <td>712.0</td>\n",
       "      <td>0.000564</td>\n",
       "      <td>0.396000</td>\n",
       "      <td>750.0</td>\n",
       "      <td>0.002696</td>\n",
       "      <td>0</td>\n",
       "      <td>0</td>\n",
       "      <td>0.326391</td>\n",
       "      <td>0.396000</td>\n",
       "    </tr>\n",
       "    <tr>\n",
       "      <th>1</th>\n",
       "      <td>1</td>\n",
       "      <td>0</td>\n",
       "      <td>0</td>\n",
       "      <td>1663.jpg</td>\n",
       "      <td>0.75</td>\n",
       "      <td>0.75</td>\n",
       "      <td>2</td>\n",
       "      <td>2</td>\n",
       "      <td>ZMB</td>\n",
       "      <td>0.203375</td>\n",
       "      <td>40.0</td>\n",
       "      <td>0.010875</td>\n",
       "      <td>-0.204082</td>\n",
       "      <td>49.0</td>\n",
       "      <td>0.061504</td>\n",
       "      <td>1</td>\n",
       "      <td>1</td>\n",
       "      <td>0.203375</td>\n",
       "      <td>-0.204082</td>\n",
       "    </tr>\n",
       "    <tr>\n",
       "      <th>5</th>\n",
       "      <td>0</td>\n",
       "      <td>0</td>\n",
       "      <td>0</td>\n",
       "      <td>3868.jpg</td>\n",
       "      <td>0.25</td>\n",
       "      <td>0.00</td>\n",
       "      <td>4</td>\n",
       "      <td>4</td>\n",
       "      <td>LUX</td>\n",
       "      <td>0.325185</td>\n",
       "      <td>127.0</td>\n",
       "      <td>0.003297</td>\n",
       "      <td>0.538462</td>\n",
       "      <td>130.0</td>\n",
       "      <td>0.013752</td>\n",
       "      <td>0</td>\n",
       "      <td>0</td>\n",
       "      <td>0.325185</td>\n",
       "      <td>0.538462</td>\n",
       "    </tr>\n",
       "  </tbody>\n",
       "</table>\n",
       "</div>"
      ],
      "text/plain": [
       "   yellowCards  yellowReds  redCards    photoID  rater1  rater2  refNum  \\\n",
       "0            0           0         0  95212.jpg    0.25    0.50       1   \n",
       "1            1           0         0   1663.jpg    0.75    0.75       2   \n",
       "5            0           0         0   3868.jpg    0.25    0.00       4   \n",
       "\n",
       "   refCountry Alpha_3   meanIAT   nIAT     seIAT   meanExp   nExp     seExp  \\\n",
       "0           1     GRC  0.326391  712.0  0.000564  0.396000  750.0  0.002696   \n",
       "1           2     ZMB  0.203375   40.0  0.010875 -0.204082   49.0  0.061504   \n",
       "5           4     LUX  0.325185  127.0  0.003297  0.538462  130.0  0.013752   \n",
       "\n",
       "   Skin  totalCards  weightIAT  weightExp  \n",
       "0     0           0   0.326391   0.396000  \n",
       "1     1           1   0.203375  -0.204082  \n",
       "5     0           0   0.325185   0.538462  "
      ]
     },
     "execution_count": 18,
     "metadata": {},
     "output_type": "execute_result"
    }
   ],
   "source": [
    "df_all.ix[:5, 13:]"
   ]
  },
  {
   "cell_type": "code",
   "execution_count": 19,
   "metadata": {
    "collapsed": false
   },
   "outputs": [
    {
     "data": {
      "text/plain": [
       "Index(['playerShort', 'player', 'club', 'leagueCountry', 'birthday', 'height',\n",
       "       'weight', 'position', 'games', 'victories', 'ties', 'defeats', 'goals',\n",
       "       'yellowCards', 'yellowReds', 'redCards', 'photoID', 'rater1', 'rater2',\n",
       "       'refNum', 'refCountry', 'Alpha_3', 'meanIAT', 'nIAT', 'seIAT',\n",
       "       'meanExp', 'nExp', 'seExp', 'Skin', 'totalCards', 'weightIAT',\n",
       "       'weightExp'],\n",
       "      dtype='object')"
      ]
     },
     "execution_count": 19,
     "metadata": {},
     "output_type": "execute_result"
    }
   ],
   "source": [
    "df_all.columns"
   ]
  },
  {
   "cell_type": "code",
   "execution_count": 20,
   "metadata": {
    "collapsed": false
   },
   "outputs": [
    {
     "data": {
      "text/html": [
       "<div>\n",
       "<table border=\"1\" class=\"dataframe\">\n",
       "  <thead>\n",
       "    <tr style=\"text-align: right;\">\n",
       "      <th></th>\n",
       "      <th>games</th>\n",
       "      <th>victories</th>\n",
       "      <th>ties</th>\n",
       "      <th>defeats</th>\n",
       "      <th>goals</th>\n",
       "      <th>yellowCards</th>\n",
       "      <th>yellowReds</th>\n",
       "      <th>redCards</th>\n",
       "      <th>refCountry</th>\n",
       "      <th>meanIAT</th>\n",
       "      <th>nIAT</th>\n",
       "      <th>seIAT</th>\n",
       "      <th>meanExp</th>\n",
       "      <th>nExp</th>\n",
       "      <th>seExp</th>\n",
       "    </tr>\n",
       "    <tr>\n",
       "      <th>refNum</th>\n",
       "      <th></th>\n",
       "      <th></th>\n",
       "      <th></th>\n",
       "      <th></th>\n",
       "      <th></th>\n",
       "      <th></th>\n",
       "      <th></th>\n",
       "      <th></th>\n",
       "      <th></th>\n",
       "      <th></th>\n",
       "      <th></th>\n",
       "      <th></th>\n",
       "      <th></th>\n",
       "      <th></th>\n",
       "      <th></th>\n",
       "    </tr>\n",
       "  </thead>\n",
       "  <tbody>\n",
       "    <tr>\n",
       "      <th>1</th>\n",
       "      <td>1</td>\n",
       "      <td>0</td>\n",
       "      <td>0</td>\n",
       "      <td>1</td>\n",
       "      <td>0</td>\n",
       "      <td>0</td>\n",
       "      <td>0</td>\n",
       "      <td>0</td>\n",
       "      <td>1.0</td>\n",
       "      <td>0.326391</td>\n",
       "      <td>712.0</td>\n",
       "      <td>0.000564</td>\n",
       "      <td>0.396000</td>\n",
       "      <td>750.0</td>\n",
       "      <td>0.002696</td>\n",
       "    </tr>\n",
       "    <tr>\n",
       "      <th>2</th>\n",
       "      <td>1</td>\n",
       "      <td>0</td>\n",
       "      <td>0</td>\n",
       "      <td>1</td>\n",
       "      <td>0</td>\n",
       "      <td>1</td>\n",
       "      <td>0</td>\n",
       "      <td>0</td>\n",
       "      <td>2.0</td>\n",
       "      <td>0.203375</td>\n",
       "      <td>40.0</td>\n",
       "      <td>0.010875</td>\n",
       "      <td>-0.204082</td>\n",
       "      <td>49.0</td>\n",
       "      <td>0.061504</td>\n",
       "    </tr>\n",
       "    <tr>\n",
       "      <th>4</th>\n",
       "      <td>32</td>\n",
       "      <td>22</td>\n",
       "      <td>4</td>\n",
       "      <td>6</td>\n",
       "      <td>2</td>\n",
       "      <td>2</td>\n",
       "      <td>0</td>\n",
       "      <td>0</td>\n",
       "      <td>4.0</td>\n",
       "      <td>0.325185</td>\n",
       "      <td>127.0</td>\n",
       "      <td>0.003297</td>\n",
       "      <td>0.538462</td>\n",
       "      <td>130.0</td>\n",
       "      <td>0.013752</td>\n",
       "    </tr>\n",
       "    <tr>\n",
       "      <th>6</th>\n",
       "      <td>5</td>\n",
       "      <td>4</td>\n",
       "      <td>0</td>\n",
       "      <td>1</td>\n",
       "      <td>1</td>\n",
       "      <td>0</td>\n",
       "      <td>0</td>\n",
       "      <td>0</td>\n",
       "      <td>6.0</td>\n",
       "      <td>0.322177</td>\n",
       "      <td>140.0</td>\n",
       "      <td>0.003344</td>\n",
       "      <td>0.117647</td>\n",
       "      <td>136.0</td>\n",
       "      <td>0.013721</td>\n",
       "    </tr>\n",
       "    <tr>\n",
       "      <th>7</th>\n",
       "      <td>77</td>\n",
       "      <td>32</td>\n",
       "      <td>17</td>\n",
       "      <td>28</td>\n",
       "      <td>9</td>\n",
       "      <td>8</td>\n",
       "      <td>0</td>\n",
       "      <td>1</td>\n",
       "      <td>7.0</td>\n",
       "      <td>0.334684</td>\n",
       "      <td>2882.0</td>\n",
       "      <td>0.000151</td>\n",
       "      <td>0.336101</td>\n",
       "      <td>3011.0</td>\n",
       "      <td>0.000586</td>\n",
       "    </tr>\n",
       "  </tbody>\n",
       "</table>\n",
       "</div>"
      ],
      "text/plain": [
       "        games  victories  ties  defeats  goals  yellowCards  yellowReds  \\\n",
       "refNum                                                                    \n",
       "1           1          0     0        1      0            0           0   \n",
       "2           1          0     0        1      0            1           0   \n",
       "4          32         22     4        6      2            2           0   \n",
       "6           5          4     0        1      1            0           0   \n",
       "7          77         32    17       28      9            8           0   \n",
       "\n",
       "        redCards  refCountry   meanIAT    nIAT     seIAT   meanExp    nExp  \\\n",
       "refNum                                                                       \n",
       "1              0         1.0  0.326391   712.0  0.000564  0.396000   750.0   \n",
       "2              0         2.0  0.203375    40.0  0.010875 -0.204082    49.0   \n",
       "4              0         4.0  0.325185   127.0  0.003297  0.538462   130.0   \n",
       "6              0         6.0  0.322177   140.0  0.003344  0.117647   136.0   \n",
       "7              1         7.0  0.334684  2882.0  0.000151  0.336101  3011.0   \n",
       "\n",
       "           seExp  \n",
       "refNum            \n",
       "1       0.002696  \n",
       "2       0.061504  \n",
       "4       0.013752  \n",
       "6       0.013721  \n",
       "7       0.000586  "
      ]
     },
     "execution_count": 20,
     "metadata": {},
     "output_type": "execute_result"
    }
   ],
   "source": [
    "ref_df1 = df_all.groupby('refNum').sum()[['games', 'victories', 'ties', 'defeats', 'goals',\n",
    "       'yellowCards', 'yellowReds', 'redCards']]\n",
    "ref_df2 = df_all.groupby('refNum').mean()[['refCountry', 'meanIAT', 'nIAT', 'seIAT', \n",
    "                                 'meanExp', 'nExp', 'seExp']]\n",
    "\n",
    "ref_df = pd.concat([ref_df1, ref_df2], axis=1)\n",
    "ref_df.head()"
   ]
  },
  {
   "cell_type": "code",
   "execution_count": 21,
   "metadata": {
    "collapsed": false
   },
   "outputs": [],
   "source": [
    "ref_df = df_all.groupby(['refNum', 'Skin']).sum()\n",
    "ref_df = ref_df[ref_df.games > 22]\n",
    "ref_df['redCards'] = ref_df['redCards']/ref_df['games']"
   ]
  },
  {
   "cell_type": "code",
   "execution_count": 22,
   "metadata": {
    "collapsed": false
   },
   "outputs": [
    {
     "data": {
      "text/plain": [
       "Index(['totalCards', 'redCards', 'yellowCards', 'yellowReds', 'victories',\n",
       "       'ties', 'weightIAT', 'weightExp', 'defeats', 'goals', 'games',\n",
       "       'birthday', 'position', 'skin', 'club', 'leagueCountry', 'height',\n",
       "       'weight'],\n",
       "      dtype='object')"
      ]
     },
     "execution_count": 22,
     "metadata": {},
     "output_type": "execute_result"
    }
   ],
   "source": [
    "df_ave.columns"
   ]
  },
  {
   "cell_type": "markdown",
   "metadata": {},
   "source": [
    "## Assignment 1"
   ]
  },
  {
   "cell_type": "markdown",
   "metadata": {},
   "source": [
    "We first deal with the overfitting problem. Given data contains 2 rater's score for skin darkness and we are required to train a classifier to estimate player's skin color from other feature. Since we cannot judge whether our estimation is correct or not for those which does not have the rater's score, we decide to drop these data and we use the rest of the data (named *training_data_x*) to train our classifier. \n",
    "\n",
    "We observe that there is a certain amount of rater score for the same player. If we simply randomly partition *training_data_x*, both the training data and the testing data will high likely to contain the rater score for the same player, then the classifier will check player's *birthday*, *height*, *weight* in order to verify the player and use the result from training data to testing data, which will give us high *clf_score*. \n",
    "\n",
    "However, this is not a faire classifier and we ignore all other features apart from three features mentioned above. Through a precise discussion and brain storm, we figure out that we should group the data by *playerShort* and get the mean value. Again, we cannot calculate the mean value of the string, such as *club, leagueCountry, refNum, refCountry, Alpha_3*, even if we label these string by unique number."
   ]
  },
  {
   "cell_type": "markdown",
   "metadata": {},
   "source": [
    "Add features like `clubs` into df_new"
   ]
  },
  {
   "cell_type": "code",
   "execution_count": 23,
   "metadata": {
    "collapsed": true
   },
   "outputs": [],
   "source": [
    "from sklearn.model_selection import cross_val_score\n",
    "from sklearn.ensemble import RandomForestClassifier\n",
    "from sklearn.metrics import confusion_matrix\n",
    "from sklearn.metrics import recall_score\n",
    "from sklearn.metrics import f1_score\n",
    "from sklearn.metrics import recall_score"
   ]
  },
  {
   "cell_type": "code",
   "execution_count": 24,
   "metadata": {
    "collapsed": true
   },
   "outputs": [],
   "source": [
    "def cross_validation(name_list, K):\n",
    "    np.random.shuffle(name_list)\n",
    "    num_train = len(name_list) // K\n",
    "    name_list = np.array(name_list)\n",
    "    for i in range(K):\n",
    "        te = np.arange(i * num_train, (i+1)*num_train)\n",
    "        tr = [i for i in range(len(name_list)) if i not in te]\n",
    "        yield name_list[tr], name_list[te]"
   ]
  },
  {
   "cell_type": "code",
   "execution_count": 25,
   "metadata": {
    "collapsed": true
   },
   "outputs": [],
   "source": [
    "def shuffle_names(name_list, ratio):\n",
    "    np.random.shuffle(name_list)\n",
    "    num_train = int(len(name_list) * ratio)\n",
    "    return name_list[:num_train], name_list[num_train:]"
   ]
  },
  {
   "cell_type": "markdown",
   "metadata": {},
   "source": [
    "### overfitting curve\n",
    "\n",
    "To see the overfitting phenomenon, we groupby the dataframe with their name and aggregate the dyad information. This classifier performs very good on the trainging set (almost  99%) as the classifier is able to create enough trees to remember every player. \n",
    "\n",
    "However, this classifier behaves not as good on the test sets around (85%). The gap between training error and testing error is about 15% which is pretty large. Thus our model know have overfitting the datasets.\n",
    "\n",
    "In fact, this classifier is useless if we checkout the `f1 score` and fusion matrix, we will find the `f1 score` is very small and the fusion matrix shows we have assgin new datapoints to `light skin`. It means our model is way too simple."
   ]
  },
  {
   "cell_type": "code",
   "execution_count": 26,
   "metadata": {
    "collapsed": true
   },
   "outputs": [],
   "source": [
    "featuer_list1 = ['totalCards', 'redCards', 'yellowCards', 'yellowReds', 'victories',\n",
    "       'ties', 'weightIAT', 'weightExp', 'defeats', 'goals', 'games',\n",
    "       'birthday', 'position', 'club', 'leagueCountry', 'height','weight']\n",
    "training_data_player_x = df_player[featuer_list1]\n",
    "training_data_player_y = df_player['skin']"
   ]
  },
  {
   "cell_type": "code",
   "execution_count": 27,
   "metadata": {
    "collapsed": false
   },
   "outputs": [
    {
     "name": "stdout",
     "output_type": "stream",
     "text": [
      "training error =  0.995598591549 , test error =  0.858657243816\n"
     ]
    }
   ],
   "source": [
    "clf = RandomForestClassifier(n_estimators=30, class_weight=\"balanced_subsample\")\n",
    "portion = 0.80\n",
    "n = training_data_player_x.shape[0]\n",
    "temp_set = np.random.permutation(range(n))\n",
    "training_idx = [i for i in temp_set if i < n * portion]\n",
    "test_idx = [i for i in temp_set if i > n * portion]\n",
    "\n",
    "x_tr = training_data_player_x.iloc[training_idx]\n",
    "y_tr = training_data_player_y.iloc[training_idx]\n",
    "x_te = training_data_player_x.iloc[test_idx]\n",
    "y_te = training_data_player_y.iloc[test_idx]\n",
    "\n",
    "clf.fit(X=x_tr, y=y_tr)\n",
    "y_pred = clf.predict(x_te)\n",
    "print(\"training error = \", clf.score(x_tr, y_tr), \", test error = \", clf.score(x_te, y_te))"
   ]
  },
  {
   "cell_type": "code",
   "execution_count": 28,
   "metadata": {
    "collapsed": false
   },
   "outputs": [
    {
     "name": "stdout",
     "output_type": "stream",
     "text": [
      "F1 score =  0.130434782609\n"
     ]
    }
   ],
   "source": [
    "print(\"F1 score = \", f1_score(y_true=y_te,y_pred=y_pred))"
   ]
  },
  {
   "cell_type": "code",
   "execution_count": 31,
   "metadata": {
    "collapsed": false,
    "scrolled": true
   },
   "outputs": [
    {
     "name": "stdout",
     "output_type": "stream",
     "text": [
      "fusion matrix for \n",
      " [[240   4]\n",
      " [ 36   3]]\n"
     ]
    }
   ],
   "source": [
    "print(\"fusion matrix for \\n\", confusion_matrix(y_true=y_te,y_pred=y_pred))"
   ]
  },
  {
   "cell_type": "markdown",
   "metadata": {},
   "source": [
    "### Reduce Overfitting\n",
    "\n",
    "#### Approach 1\n",
    "One way to reduce overfitting is to reduce the noise our classifier obtained from training dataset. In the above overfitting example, we didn't limit the maximum depth of randomforest, meaning the classifier can create split node as much as it want. It also means that random noise can also be used to split node. \n",
    "\n",
    "Beside, the number of estimators we use is very large (`30`). It allows the classifier to choose the model overfit the datasets rather than the inner structure.\n",
    "\n",
    "Thus, we are going to limit the maximum depth and number of estimators. We will use cross validation to show our strategy improves the performance"
   ]
  },
  {
   "cell_type": "code",
   "execution_count": 201,
   "metadata": {
    "collapsed": false
   },
   "outputs": [],
   "source": [
    "def reduce_overfitting(n_estimators, max_depth, training_data_player_x, training_data_player_y, K=5):\n",
    "    prediction_list = []\n",
    "    training_score_list = []\n",
    "    testing_score_list = []\n",
    "    recall_score_list = []\n",
    "    name_list = training_data_player_x.reset_index()['playerShort'].unique()\n",
    "    for tr_idx, te_idx in cross_validation(name_list, K=K):\n",
    "        x_tr = training_data_player_x.loc[tr_idx]\n",
    "        y_tr = training_data_player_y.loc[tr_idx]\n",
    "        x_te = training_data_player_x.loc[te_idx]\n",
    "        y_te = training_data_player_y.loc[te_idx]\n",
    "\n",
    "        clf = RandomForestClassifier(n_estimators=n_estimators, max_depth=max_depth, class_weight=\"balanced_subsample\")\n",
    "\n",
    "        clf.fit(X=x_tr, y=y_tr)\n",
    "        y_pred = clf.predict(x_te)\n",
    "        prediction_list.append(f1_score(y_true=y_te, y_pred=y_pred))\n",
    "        training_score_list.append(clf.score(x_tr, y_tr))\n",
    "        testing_score_list.append(clf.score(x_te, y_te))\n",
    "        recall_score_list.append(recall_score(y_true=y_te, y_pred=y_pred))\n",
    "    #     print(\"training error = \", training_score_list[-1], \", test error = \", testing_score_list[-1])\n",
    "    #     print(\"fusion matrix  = \\n\", confusion_matrix(y_true=y_te, y_pred=y_pred))\n",
    "    print(\"n_estimators = {:>3}, max_depth ={:>3}, f1 score = {:6.3}\".format(n_estimators, max_depth, np.mean(np.array(prediction_list))))\n",
    "    print(\"training = {:6.3}, testing = {:6.3}, recall = {:6.3}\".format(np.mean(np.array(training_score_list)), np.mean(np.array(testing_score_list)),np.mean(np.array(recall_score_list))))\n",
    "    \n",
    "    return clf, np.mean(np.array(prediction_list)), np.mean(np.array(training_score_list)), np.mean(np.array(testing_score_list)),np.mean(np.array(recall_score_list))"
   ]
  },
  {
   "cell_type": "code",
   "execution_count": 176,
   "metadata": {
    "collapsed": false,
    "scrolled": true
   },
   "outputs": [
    {
     "name": "stdout",
     "output_type": "stream",
     "text": [
      "n_estimators =   8, max_depth =  1, f1 score =  0.311\n",
      "training =  0.565, testing =  0.545, recall =  0.671\n",
      "n_estimators =   8, max_depth =  2, f1 score =   0.33\n",
      "training =  0.623, testing =  0.607, recall =  0.617\n",
      "n_estimators =   8, max_depth =  3, f1 score =  0.355\n",
      "training =  0.675, testing =  0.642, recall =  0.637\n",
      "n_estimators =   8, max_depth =  4, f1 score =  0.341\n",
      "training =  0.729, testing =  0.673, recall =  0.524\n",
      "n_estimators =   8, max_depth =  5, f1 score =  0.361\n",
      "training =  0.786, testing =  0.718, recall =  0.507\n",
      "n_estimators =   8, max_depth =  6, f1 score =  0.362\n",
      "training =  0.828, testing =  0.748, recall =   0.47\n",
      "n_estimators =   8, max_depth =  7, f1 score =  0.341\n",
      "training =  0.871, testing =  0.761, recall =  0.405\n",
      "n_estimators =   8, max_depth =  8, f1 score =  0.346\n",
      "training =  0.893, testing =  0.776, recall =  0.388\n",
      "n_estimators =   8, max_depth =  9, f1 score =  0.343\n",
      "training =  0.926, testing =  0.796, recall =  0.341\n",
      "n_estimators =  10, max_depth =  1, f1 score =  0.311\n",
      "training =  0.557, testing =  0.537, recall =  0.655\n",
      "n_estimators =  10, max_depth =  2, f1 score =  0.318\n",
      "training =  0.619, testing =   0.58, recall =  0.636\n",
      "n_estimators =  10, max_depth =  3, f1 score =  0.359\n",
      "training =  0.694, testing =  0.664, recall =  0.604\n",
      "n_estimators =  10, max_depth =  4, f1 score =  0.355\n",
      "training =  0.743, testing =  0.684, recall =  0.555\n",
      "n_estimators =  10, max_depth =  5, f1 score =  0.371\n",
      "training =  0.793, testing =   0.73, recall =  0.514\n",
      "n_estimators =  10, max_depth =  6, f1 score =  0.353\n",
      "training =   0.84, testing =   0.75, recall =  0.438\n",
      "n_estimators =  10, max_depth =  7, f1 score =  0.374\n",
      "training =  0.871, testing =   0.77, recall =  0.465\n",
      "n_estimators =  10, max_depth =  8, f1 score =  0.346\n",
      "training =  0.906, testing =  0.784, recall =  0.366\n",
      "n_estimators =  10, max_depth =  9, f1 score =  0.331\n",
      "training =  0.934, testing =  0.791, recall =  0.326\n",
      "n_estimators =  12, max_depth =  1, f1 score =  0.305\n",
      "training =  0.591, testing =  0.552, recall =  0.647\n",
      "n_estimators =  12, max_depth =  2, f1 score =  0.355\n",
      "training =  0.642, testing =  0.628, recall =  0.656\n",
      "n_estimators =  12, max_depth =  3, f1 score =  0.356\n",
      "training =  0.696, testing =  0.661, recall =  0.602\n",
      "n_estimators =  12, max_depth =  4, f1 score =  0.374\n",
      "training =   0.75, testing =  0.706, recall =  0.567\n",
      "n_estimators =  12, max_depth =  5, f1 score =  0.393\n",
      "training =  0.793, testing =  0.729, recall =  0.556\n",
      "n_estimators =  12, max_depth =  6, f1 score =  0.368\n",
      "training =  0.838, testing =  0.746, recall =  0.476\n",
      "n_estimators =  12, max_depth =  7, f1 score =  0.332\n",
      "training =  0.876, testing =  0.769, recall =  0.388\n",
      "n_estimators =  12, max_depth =  8, f1 score =   0.35\n",
      "training =  0.913, testing =  0.796, recall =  0.355\n",
      "n_estimators =  12, max_depth =  9, f1 score =  0.317\n",
      "training =  0.943, testing =  0.809, recall =  0.292\n",
      "n_estimators =  14, max_depth =  1, f1 score =  0.337\n",
      "training =  0.593, testing =  0.574, recall =  0.686\n",
      "n_estimators =  14, max_depth =  2, f1 score =  0.361\n",
      "training =  0.647, testing =   0.63, recall =  0.648\n",
      "n_estimators =  14, max_depth =  3, f1 score =  0.358\n",
      "training =  0.687, testing =  0.655, recall =  0.616\n",
      "n_estimators =  14, max_depth =  4, f1 score =  0.352\n",
      "training =  0.757, testing =  0.692, recall =  0.521\n",
      "n_estimators =  14, max_depth =  5, f1 score =  0.381\n",
      "training =  0.801, testing =  0.738, recall =  0.517\n",
      "n_estimators =  14, max_depth =  6, f1 score =  0.369\n",
      "training =  0.844, testing =  0.757, recall =  0.476\n",
      "n_estimators =  14, max_depth =  7, f1 score =  0.362\n",
      "training =  0.881, testing =  0.781, recall =  0.395\n",
      "n_estimators =  14, max_depth =  8, f1 score =  0.325\n",
      "training =  0.916, testing =   0.79, recall =   0.34\n",
      "n_estimators =  14, max_depth =  9, f1 score =  0.301\n",
      "training =  0.945, testing =  0.804, recall =  0.284\n"
     ]
    }
   ],
   "source": [
    "for n_estimators in range(8, 16,2):\n",
    "    for max_depth in range(1, 10):\n",
    "        reduce_overfitting(n_estimators, max_depth,training_data_player_x, training_data_player_y)"
   ]
  },
  {
   "cell_type": "markdown",
   "metadata": {},
   "source": [
    "As we can see, by choosing a better parameter, the overfitting can be reduced "
   ]
  },
  {
   "cell_type": "code",
   "execution_count": 136,
   "metadata": {
    "collapsed": false
   },
   "outputs": [
    {
     "name": "stdout",
     "output_type": "stream",
     "text": [
      "n_estimators =  10, max_depth =  8, f1 score =  0.324\n",
      "training =  0.921, testing =  0.787, recall =   0.32\n"
     ]
    },
    {
     "data": {
      "image/png": "[encoded data removed]",
      "text/plain": [
       "<matplotlib.figure.Figure at 0x113c0dba8>"
      ]
     },
     "metadata": {},
     "output_type": "display_data"
    }
   ],
   "source": [
    "n_estimators=10\n",
    "max_depth=8\n",
    "clf,_,_,_,_ = reduce_overfitting(n_estimators, max_depth, training_data_player_x, training_data_player_y)\n",
    "\n",
    "importances = clf.feature_importances_\n",
    "indices = np.argsort(importances)[::-1]\n",
    "std = np.std([tree.feature_importances_ for tree in clf.estimators_],\n",
    "             axis=0)\n",
    "\n",
    "# Plot the feature importances of the forest\n",
    "plt.figure()\n",
    "plt.title(\"Feature importances\")\n",
    "plt.bar(range(training_data_player_x.shape[1]), importances[indices],\n",
    "       color=\"r\", yerr=std[indices], align=\"center\")\n",
    "plt.xticks(range(training_data_player_x.shape[1]), indices)\n",
    "plt.xlim([-1, training_data_player_x.shape[1]])\n",
    "plt.show()"
   ]
  },
  {
   "cell_type": "markdown",
   "metadata": {},
   "source": [
    "#### If we drop feature even before feeding data\n",
    "\n",
    "The importances of features may change locally, but the overall order is similar."
   ]
  },
  {
   "cell_type": "code",
   "execution_count": 137,
   "metadata": {
    "collapsed": false
   },
   "outputs": [
    {
     "name": "stdout",
     "output_type": "stream",
     "text": [
      "n_estimators =  10, max_depth =  8, f1 score =  0.195\n",
      "training =  0.905, testing =  0.763, recall =  0.189\n"
     ]
    },
    {
     "data": {
      "image/png": "[encoded data removed]",
      "text/plain": [
       "<matplotlib.figure.Figure at 0x114040748>"
      ]
     },
     "metadata": {},
     "output_type": "display_data"
    }
   ],
   "source": [
    "n_estimators=10\n",
    "max_depth=8\n",
    "\n",
    "feature_sets = np.arange(10)\n",
    "training_datasets = training_data_player_x.ix[:, feature_sets]\n",
    "clf,_,_,_,_ = reduce_overfitting(n_estimators, max_depth, training_datasets, training_data_player_y)\n",
    "\n",
    "importances = clf.feature_importances_\n",
    "indices = np.argsort(importances)[::-1]\n",
    "std = np.std([tree.feature_importances_ for tree in clf.estimators_],\n",
    "             axis=0)\n",
    "\n",
    "# Plot the feature importances of the forest\n",
    "plt.figure()\n",
    "plt.title(\"Feature importances\")\n",
    "plt.bar(range(training_datasets.shape[1]), importances[indices],\n",
    "       color=\"r\", yerr=std[indices], align=\"center\")\n",
    "plt.xticks(range(training_datasets.shape[1]), indices)\n",
    "plt.xlim([-1, training_datasets.shape[1]])\n",
    "plt.show()"
   ]
  },
  {
   "cell_type": "markdown",
   "metadata": {},
   "source": [
    "#### Approach 2 (Training dyad)\n",
    "\n",
    "Gathering more data is a very common way to reduce data. Unfortuntly, we can't get gather more information of player due to time limitation. However, we can train the player-referee dyad directly with careful choice of features.\n",
    "\n",
    "Let's take each dyad as training example and split the whole dataframe into 2 parts: one for training and one for testing.\n",
    "\n",
    "The key issue here is to avoid introducing specific information about a player, say the `club`, `leagueCountry`, `height` and `weight`. Otherwise, these information try to find the exact player rather than try to find out the relation between `player` with dyad"
   ]
  },
  {
   "cell_type": "code",
   "execution_count": 84,
   "metadata": {
    "collapsed": false
   },
   "outputs": [],
   "source": [
    "def get_equal_index(df):\n",
    "    dark_idx  = df[df.Skin == 1].index.unique()\n",
    "    light_idx = df[df.Skin == 0].index.unique()\n",
    "    equal_light_idx = np.random.choice(light_idx, light_idx.shape[0], replace=False)\n",
    "    return dark_idx.union(equal_light_idx)"
   ]
  },
  {
   "cell_type": "code",
   "execution_count": 115,
   "metadata": {
    "collapsed": false
   },
   "outputs": [],
   "source": [
    "columns_to_be_averaged = ['victories', 'ties','defeats', 'goals', 'yellowCards', 'yellowReds', 'redCards']\n",
    "column_name_not_training = [ 'player', 'refNum', 'refCountry', \n",
    "                            'Alpha_3', 'rater1', 'rater2', 'photoID', \n",
    "                            'club', 'leagueCountry', 'birthday', 'height', \n",
    "                            'weight', 'position', 'totalCards']\n",
    "column_name_training = [i for i in df_all.columns if i not in column_name_not_training]\n",
    "training_df = df_all[df_all.games > 1][column_name_training].copy()\n",
    "\n",
    "for col in columns_to_be_averaged:\n",
    "    training_df[col] = training_df[col] / training_df['games']\n",
    "    \n",
    "# del training_df['games']\n",
    "training_df.set_index('playerShort', inplace=True)\n",
    "column_name_training.remove('Skin')\n",
    "column_name_training.remove('playerShort')"
   ]
  },
  {
   "cell_type": "code",
   "execution_count": 116,
   "metadata": {
    "collapsed": false
   },
   "outputs": [],
   "source": [
    "indices = get_equal_index(training_df)\n",
    "\n",
    "cols = column_name_training\n",
    "training_data_x = training_df.loc[indices][cols]\n",
    "training_data_y = training_df.loc[indices]['Skin']\n",
    "player_name_list = list(set(training_data_x.index))"
   ]
  },
  {
   "cell_type": "markdown",
   "metadata": {},
   "source": [
    "#### Influence of different set of parameters to RandomForestClassifier. "
   ]
  },
  {
   "cell_type": "markdown",
   "metadata": {},
   "source": [
    "This method may not perform so well as each player will be feed to the classfier several times. But the overfitting is greatly reduced."
   ]
  },
  {
   "cell_type": "code",
   "execution_count": 127,
   "metadata": {
    "collapsed": false,
    "scrolled": true
   },
   "outputs": [
    {
     "name": "stdout",
     "output_type": "stream",
     "text": [
      "f1_score =  0.295691609977 , training error =  0.792390021096 , test error =  0.729442508711\n"
     ]
    }
   ],
   "source": [
    "n_estimators = 30\n",
    "max_features = 10\n",
    "clf = RandomForestClassifier(n_estimators=n_estimators, max_features=max_features, class_weight=\"balanced_subsample\")\n",
    "\n",
    "portion = 0.9\n",
    "n = training_data_x.shape[0]\n",
    "temp_set = np.random.permutation(range(n))\n",
    "training_idx = [i for i in temp_set if i < n * portion]\n",
    "test_idx = [i for i in temp_set if i > n * portion]\n",
    "\n",
    "x_tr = training_data_x.iloc[training_idx]\n",
    "y_tr = training_data_y.iloc[training_idx]\n",
    "x_te = training_data_x.iloc[test_idx]\n",
    "y_te = training_data_y.iloc[test_idx]\n",
    "\n",
    "clf.fit(X=x_tr, y=y_tr)\n",
    "y_pred = clf.predict(x_te)\n",
    "#         print(\"fusion matrix for \", confusion_matrix(y_true=y_te,y_pred=y_pred))\n",
    "tmp_f1.append(f1_score(y_true=y_te,y_pred=y_pred))        \n",
    "tmp_tr.append(clf.score(x_tr, y_tr))\n",
    "tmp_te.append(clf.score(x_te, y_te))\n",
    "print(\"f1_score = \", f1_score(y_true=y_te,y_pred=y_pred), \n",
    "      \", training error = \", tmp_tr[-1], \", test error = \", tmp_te[-1])"
   ]
  },
  {
   "cell_type": "markdown",
   "metadata": {},
   "source": [
    "## Bonus"
   ]
  },
  {
   "cell_type": "markdown",
   "metadata": {},
   "source": [
    "Using the first approach, plot the learning learning curve.\n",
    "\n",
    "Remark: As 20 fold of cross validation is time consuming and can cause high varaiance (as training sets are very similar), we decide to use 5 folded crossvalidation which is used most often."
   ]
  },
  {
   "cell_type": "code",
   "execution_count": 224,
   "metadata": {
    "collapsed": true
   },
   "outputs": [],
   "source": [
    "def name_range(df, ratio):\n",
    "    \"\"\"Select a set of names for training and splitting\"\"\"\n",
    "    names = df.index\n",
    "    n = df.shape[0]\n",
    "    idx = np.random.permutation(np.arange(n))[:int(n*ratio)]\n",
    "    return names[idx]"
   ]
  },
  {
   "cell_type": "code",
   "execution_count": 225,
   "metadata": {
    "collapsed": false
   },
   "outputs": [
    {
     "name": "stderr",
     "output_type": "stream",
     "text": [
      "/usr/local/lib/python3.5/site-packages/sklearn/metrics/classification.py:1113: UndefinedMetricWarning: F-score is ill-defined and being set to 0.0 due to no predicted samples.\n",
      "  'precision', 'predicted', average, warn_for)\n",
      "/usr/local/lib/python3.5/site-packages/sklearn/metrics/classification.py:1113: UndefinedMetricWarning: F-score is ill-defined and being set to 0.0 due to no predicted samples.\n",
      "  'precision', 'predicted', average, warn_for)\n"
     ]
    },
    {
     "name": "stdout",
     "output_type": "stream",
     "text": [
      "n_estimators =  20, max_depth = 10, f1 score = 0.0308\n",
      "training =  0.992, testing =  0.824, recall =  0.025\n",
      "n_estimators =  20, max_depth = 10, f1 score =   0.15\n",
      "training =  0.994, testing =  0.838, recall = 0.0958\n",
      "n_estimators =  20, max_depth = 10, f1 score =  0.162\n",
      "training =  0.993, testing =  0.848, recall =  0.108\n",
      "n_estimators =  20, max_depth = 10, f1 score =  0.204\n",
      "training =   0.99, testing =  0.823, recall =  0.137\n",
      "n_estimators =  20, max_depth = 10, f1 score =  0.219\n",
      "training =  0.986, testing =  0.825, recall =  0.156\n",
      "n_estimators =  20, max_depth = 10, f1 score =  0.199\n",
      "training =  0.988, testing =  0.837, recall =  0.134\n",
      "n_estimators =  20, max_depth = 10, f1 score =  0.281\n",
      "training =  0.985, testing =  0.845, recall =  0.189\n",
      "n_estimators =  20, max_depth = 10, f1 score =  0.324\n",
      "training =  0.982, testing =  0.841, recall =  0.237\n",
      "n_estimators =  20, max_depth = 10, f1 score =  0.328\n",
      "training =  0.978, testing =  0.837, recall =  0.248\n",
      "n_estimators =  20, max_depth = 10, f1 score =  0.252\n",
      "training =  0.971, testing =  0.811, recall =  0.199\n"
     ]
    }
   ],
   "source": [
    "n_estimators=20\n",
    "max_depth=10\n",
    "\n",
    "train_error_list = []\n",
    "test_error_list = []\n",
    "problem_size_list = []\n",
    "\n",
    "for ratio in np.linspace(0.3, 0.9, num=10):\n",
    "    names = name_range(training_data_player_x, ratio)\n",
    "    _, _, train_error, test_error, _ = reduce_overfitting(n_estimators, max_depth, training_data_player_x.loc[names], \n",
    "                                                     training_data_player_y.loc[names])\n",
    "    train_error_list.append(train_error)\n",
    "    test_error_list.append(test_error)\n",
    "    problem_size_list.append(len(names))"
   ]
  },
  {
   "cell_type": "markdown",
   "metadata": {},
   "source": [
    "We can see the test error is decreasing while the testing error is increasing. \n",
    "\n",
    "This is because with the growing of training sets, classifier loses the accuracy for each datapoint in order to fit more data. At the same time, with more datapoints, classifier can filter out noise better."
   ]
  },
  {
   "cell_type": "code",
   "execution_count": 227,
   "metadata": {
    "collapsed": false,
    "scrolled": false
   },
   "outputs": [
    {
     "data": {
      "image/png": "[encoded data removed]",
      "text/plain": [
       "<matplotlib.figure.Figure at 0x118fe5ef0>"
      ]
     },
     "metadata": {},
     "output_type": "display_data"
    }
   ],
   "source": [
    "plt.figure()\n",
    "plt.plot(problem_size_list, 1-np.array(train_error_list), 'r',label='training error')\n",
    "plt.plot(problem_size_list, 1-np.array(test_error_list), 'b',label='test error')\n",
    "plt.title(\"Learning Curve\")\n",
    "plt.xlabel(\"number of players\")\n",
    "plt.ylabel(\"error (%)\")\n",
    "plt.legend()\n",
    "plt.show()"
   ]
  },
  {
   "cell_type": "markdown",
   "metadata": {},
   "source": [
    "### feature importance"
   ]
  },
  {
   "cell_type": "markdown",
   "metadata": {},
   "source": [
    "We partition the training data into two subsets, one called \\{x_tr, t_tr\\}, the other is called \\{x_te, y_te\\}. We perform training on \\{x_tr, t_tr\\}, then we compute the accuracy score on set \\{x_te, y_te\\}.  Later, we compute the feature importance and select the most important 5 features, and we do cross validation on set \\{x_te, y_te\\} only using these 5 features. As shown below, the difference between accuracy score on whole set of \\{x_te, y_te\\} and cross validation score on 5 features of \\{x_te, y_te\\} is only 0.05. It shows that these 5 feature are indeed play an significant role on the skin estimation."
   ]
  },
  {
   "cell_type": "markdown",
   "metadata": {},
   "source": [
    "## Assignment 2"
   ]
  },
  {
   "cell_type": "code",
   "execution_count": null,
   "metadata": {
    "collapsed": false
   },
   "outputs": [],
   "source": [
    "# load the data\n",
    "filename = 'CrowdstormingDataJuly1st.csv'\n",
    "df2 = pd.read_csv(filename)"
   ]
  },
  {
   "cell_type": "code",
   "execution_count": null,
   "metadata": {
    "collapsed": false
   },
   "outputs": [],
   "source": [
    "df_new.ix[:4,:13]"
   ]
  },
  {
   "cell_type": "code",
   "execution_count": null,
   "metadata": {
    "collapsed": false
   },
   "outputs": [],
   "source": [
    "df_new.ix[:4,13:]"
   ]
  },
  {
   "cell_type": "code",
   "execution_count": null,
   "metadata": {
    "collapsed": true
   },
   "outputs": [],
   "source": [
    "df_new['rater_average'] = (df_new['rater_average']>0.5).astype(int)"
   ]
  },
  {
   "cell_type": "code",
   "execution_count": null,
   "metadata": {
    "collapsed": true
   },
   "outputs": [],
   "source": [
    "df_new_copy = df_new.copy()"
   ]
  },
  {
   "cell_type": "code",
   "execution_count": null,
   "metadata": {
    "collapsed": false
   },
   "outputs": [],
   "source": [
    "del df_new_copy['birthday']"
   ]
  },
  {
   "cell_type": "code",
   "execution_count": null,
   "metadata": {
    "collapsed": true
   },
   "outputs": [],
   "source": [
    "del df_new_copy['height']; del df_new_copy['weight']"
   ]
  },
  {
   "cell_type": "code",
   "execution_count": null,
   "metadata": {
    "collapsed": true
   },
   "outputs": [],
   "source": [
    "# scaling\n",
    "from sklearn import preprocessing\n",
    "df_scale = preprocessing.scale(df_new_copy.ix[:,:-1])\n",
    "df_scale = pd.DataFrame(df_scale)"
   ]
  },
  {
   "cell_type": "code",
   "execution_count": null,
   "metadata": {
    "collapsed": true
   },
   "outputs": [],
   "source": [
    "df_new.dropna(inplace=True)"
   ]
  },
  {
   "cell_type": "code",
   "execution_count": null,
   "metadata": {
    "collapsed": false
   },
   "outputs": [],
   "source": [
    "df3 = df2.groupby(['playerShort']).mean()"
   ]
  },
  {
   "cell_type": "code",
   "execution_count": null,
   "metadata": {
    "collapsed": true
   },
   "outputs": [],
   "source": [
    "df_scale.dropna(inplace = True)"
   ]
  },
  {
   "cell_type": "code",
   "execution_count": null,
   "metadata": {
    "collapsed": false,
    "scrolled": true
   },
   "outputs": [],
   "source": [
    "df_scale"
   ]
  },
  {
   "cell_type": "code",
   "execution_count": null,
   "metadata": {
    "collapsed": true
   },
   "outputs": [],
   "source": [
    "from sklearn.decomposition import PCA"
   ]
  },
  {
   "cell_type": "code",
   "execution_count": null,
   "metadata": {
    "collapsed": false
   },
   "outputs": [],
   "source": [
    "pca = PCA(n_components=2)"
   ]
  },
  {
   "cell_type": "code",
   "execution_count": null,
   "metadata": {
    "collapsed": true
   },
   "outputs": [],
   "source": [
    "import itertools"
   ]
  },
  {
   "cell_type": "code",
   "execution_count": null,
   "metadata": {
    "collapsed": false
   },
   "outputs": [],
   "source": [
    "augment = itertools.combinations(range(14), 2)\n",
    "for i in augment:\n",
    "    print(i)"
   ]
  },
  {
   "cell_type": "code",
   "execution_count": null,
   "metadata": {
    "collapsed": false
   },
   "outputs": [],
   "source": [
    "df_new_copy.columns[:-1]"
   ]
  },
  {
   "cell_type": "code",
   "execution_count": null,
   "metadata": {
    "collapsed": false
   },
   "outputs": [],
   "source": [
    "plt.plot()\n",
    "index_color = np.argwhere(df_new['rater_average'] == 0)\n",
    "index_color2 = np.argwhere(df_new['rater_average'] == 1)\n",
    "for i in itertools.combinations(range(14), 7):\n",
    "    print(df_new_copy.columns[:-1][np.asarray(i)])\n",
    "    A = pca.fit_transform(df_scale.ix[:,np.asarray(i)])\n",
    "    plt.scatter(A[index_color[:,0],0][:],A[index_color[:,0],1][:], c='r')\n",
    "    plt.scatter(A[index_color2[:,0],0][:],A[index_color2[:,0],1][:], c='b')\n",
    "    plt.show()"
   ]
  },
  {
   "cell_type": "code",
   "execution_count": null,
   "metadata": {
    "collapsed": true
   },
   "outputs": [],
   "source": [
    "import plotly.plotly as py\n",
    "import plotly.graph_objs as go\n",
    "py.sign_in('qws', '0r90qkyloj')"
   ]
  },
  {
   "cell_type": "code",
   "execution_count": null,
   "metadata": {
    "collapsed": false
   },
   "outputs": [],
   "source": [
    "trace1 = go.Scatter3d(\n",
    "    x=A[:,0],\n",
    "    y=A[:,1],\n",
    "    z=A[:,2],\n",
    "    mode='markers',\n",
    "    marker=dict(\n",
    "        size=6,\n",
    "        symbol='star-square',\n",
    "        line=dict(\n",
    "            color='rgba(217, 217, 217, 0.14)',\n",
    "            width=0.5\n",
    "        ),\n",
    "        opacity=0.8\n",
    "    )\n",
    ")\n",
    "\n",
    "data = [trace1]\n",
    "layout = go.Layout(\n",
    "    margin=dict(\n",
    "        l=0,\n",
    "        r=0,\n",
    "        b=0,\n",
    "        t=0\n",
    "    )\n",
    ")\n",
    "fig = go.Figure(data=data, layout=layout)\n",
    "py.iplot(fig, filename='simple-3d-scatter')"
   ]
  },
  {
   "cell_type": "code",
   "execution_count": null,
   "metadata": {
    "collapsed": true
   },
   "outputs": [],
   "source": [
    "from sklearn.cluster import DBSCAN"
   ]
  },
  {
   "cell_type": "code",
   "execution_count": null,
   "metadata": {
    "collapsed": false
   },
   "outputs": [],
   "source": [
    "for i in range(len(df_scale.columns)):\n",
    "    print((df_scale.ix[:, i]).min())"
   ]
  },
  {
   "cell_type": "code",
   "execution_count": null,
   "metadata": {
    "collapsed": false
   },
   "outputs": [],
   "source": [
    "df_scale.shape"
   ]
  },
  {
   "cell_type": "code",
   "execution_count": null,
   "metadata": {
    "collapsed": false
   },
   "outputs": [],
   "source": [
    "df_scale.head()"
   ]
  },
  {
   "cell_type": "code",
   "execution_count": null,
   "metadata": {
    "collapsed": false
   },
   "outputs": [],
   "source": [
    "df_scale.ix[:, [ -1]]"
   ]
  },
  {
   "cell_type": "code",
   "execution_count": null,
   "metadata": {
    "collapsed": true
   },
   "outputs": [],
   "source": [
    "from sklearn import metrics"
   ]
  },
  {
   "cell_type": "code",
   "execution_count": null,
   "metadata": {
    "collapsed": false
   },
   "outputs": [],
   "source": [
    "for i in range(1,100):\n",
    "    eps_num  = i/40\n",
    "    db = DBSCAN(eps=eps_num, min_samples=15).fit(df_scale[[3,4,5,6,7,8]])\n",
    "    core_samples_mask = np.zeros_like(db.labels_, dtype=bool)\n",
    "    core_samples_mask[db.core_sample_indices_] = True\n",
    "    labels = db.labels_\n",
    "    print(i, pd.Series(labels).value_counts())\n",
    "    #if len(set(labels))>1:\n",
    "    #    print(\"Silhouette Coefficient: %0.3f\" %metrics.silhouette_score(df_scale, labels, metric='sqeuclidean'))"
   ]
  },
  {
   "cell_type": "code",
   "execution_count": null,
   "metadata": {
    "collapsed": false
   },
   "outputs": [],
   "source": [
    "db = DBSCAN(eps=8/40, min_samples=15).fit(df_scale[[9,10,11,12,13,14]])\n",
    "core_samples_mask = np.zeros_like(db.labels_, dtype=bool)\n",
    "core_samples_mask[db.core_sample_indices_] = True\n",
    "labels = db.labels_\n",
    "array_index = np.argwhere(labels==0)"
   ]
  },
  {
   "cell_type": "code",
   "execution_count": null,
   "metadata": {
    "collapsed": false
   },
   "outputs": [],
   "source": [
    "array_index2 = np.argwhere(df_new.ix[:,-1] == 1)"
   ]
  },
  {
   "cell_type": "code",
   "execution_count": null,
   "metadata": {
    "collapsed": false
   },
   "outputs": [],
   "source": [
    "len(array_index)"
   ]
  },
  {
   "cell_type": "code",
   "execution_count": null,
   "metadata": {
    "collapsed": false
   },
   "outputs": [],
   "source": [
    "df_new.ix[array_index.flatten(), -1].value_counts()"
   ]
  },
  {
   "cell_type": "code",
   "execution_count": null,
   "metadata": {
    "collapsed": false
   },
   "outputs": [],
   "source": [
    "df_new.ix[np.argwhere(labels==1).flatten(), -1].value_counts()"
   ]
  },
  {
   "cell_type": "code",
   "execution_count": null,
   "metadata": {
    "collapsed": false
   },
   "outputs": [],
   "source": [
    "array_index,array_index2"
   ]
  },
  {
   "cell_type": "code",
   "execution_count": null,
   "metadata": {
    "collapsed": true
   },
   "outputs": [],
   "source": []
  }
 ],
 "metadata": {
  "anaconda-cloud": {},
  "kernelspec": {
   "display_name": "Python 3",
   "language": "python",
   "name": "python3"
  },
  "language_info": {
   "codemirror_mode": {
    "name": "ipython",
    "version": 3
   },
   "file_extension": ".py",
   "mimetype": "text/x-python",
   "name": "python",
   "nbconvert_exporter": "python",
   "pygments_lexer": "ipython3",
   "version": "3.5.2"
  }
 },
 "nbformat": 4,
 "nbformat_minor": 1
}
