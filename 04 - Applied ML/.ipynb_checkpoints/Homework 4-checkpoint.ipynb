{
 "cells": [
  {
   "cell_type": "code",
   "execution_count": 1,
   "metadata": {
    "collapsed": true
   },
   "outputs": [],
   "source": [
    "import pandas as pd\n",
    "import numpy as np\n",
    "import matplotlib.pyplot as plt\n",
    "import scipy.stats.mstats as ssm"
   ]
  },
  {
   "cell_type": "code",
   "execution_count": 2,
   "metadata": {
    "collapsed": true
   },
   "outputs": [],
   "source": [
    "# load the data\n",
    "filename = 'CrowdstormingDataJuly1st.csv'\n",
    "df = pd.read_csv(filename)"
   ]
  },
  {
   "cell_type": "markdown",
   "metadata": {},
   "source": [
    "## Data cleaning: "
   ]
  },
  {
   "cell_type": "code",
   "execution_count": 3,
   "metadata": {
    "collapsed": true
   },
   "outputs": [],
   "source": [
    "# load the data\n",
    "filename = 'CrowdstormingDataJuly1st.csv'\n",
    "df_all = pd.read_csv(filename)\n",
    "\n",
    "df_all.dropna(inplace=True)"
   ]
  },
  {
   "cell_type": "code",
   "execution_count": 4,
   "metadata": {
    "collapsed": true
   },
   "outputs": [],
   "source": [
    "df_all['Skin'] = ((df_all['rater1'] + df_all['rater2']) > 1 ).astype(int)\n",
    "df_all['totalCards'] = (df_all['redCards'] + df_all['yellowCards'] + df_all['yellowReds'])\n",
    "df_all['weightIAT'] = df_all['meanIAT'] * df_all['games']\n",
    "df_all['weightExp'] = df_all['meanExp'] * df_all['games']"
   ]
  },
  {
   "cell_type": "code",
   "execution_count": 5,
   "metadata": {
    "collapsed": true
   },
   "outputs": [],
   "source": [
    "# replace birthday by the birth year\n",
    "df_all['birthday'] = df_all.apply(lambda x: x.loc['birthday'].split('.')[2], axis=1).astype(int)\n",
    "\n",
    "# replace country name by number labels in order to classify\n",
    "dic_country = {'Spain':0, 'France':1, 'England':2, 'Germany':3}\n",
    "df_all['leagueCountry'] = df_all.apply(lambda x: dic_country[x.loc['leagueCountry']], axis=1)\n",
    "\n",
    "# replace club name by number labels in order to classify\n",
    "club_name = df_all['club'].unique()\n",
    "num_of_clubs = len(club_name)\n",
    "club_index = np.arange(0, num_of_clubs)\n",
    "club_name_index_map = dict(zip(club_name,club_index))\n",
    "df_all['club'] = df_all.apply(lambda x: club_name_index_map[x.loc['club']], axis=1)\n",
    "\n",
    "# replace position name by number labels in order to classify\n",
    "position_name = df_all['position'].unique()\n",
    "num_of_position = len(position_name)\n",
    "position_index = np.arange(0, num_of_position)\n",
    "position_name_index_map = dict(zip(position_name,position_index))"
   ]
  },
  {
   "cell_type": "code",
   "execution_count": 6,
   "metadata": {
    "collapsed": true
   },
   "outputs": [],
   "source": [
    "df_all['position'] = df_all.apply(lambda x: position_name_index_map[x.loc['position']], axis=1)\n",
    "\n",
    "df_player = df_all[['playerShort','totalCards', 'redCards', 'yellowCards', 'yellowReds', 'victories', 'ties', 'weightIAT', 'weightExp',\n",
    "                   'defeats', 'goals', 'games']].groupby('playerShort').sum()\n",
    "\n",
    "df_player[['birthday','position', 'skin']] = df_all[['playerShort', 'birthday', 'position', 'Skin']].groupby('playerShort').mean()"
   ]
  },
  {
   "cell_type": "code",
   "execution_count": 19,
   "metadata": {
    "collapsed": true
   },
   "outputs": [],
   "source": [
    "df_ave = df_player.copy()\n",
    "\n",
    "averaged_list = ['totalCards','yellowCards', 'yellowReds', 'redCards', 'victories', 'ties', 'defeats', 'goals', 'weightIAT', 'weightExp']\n",
    "for feature in averaged_list:\n",
    "    df_ave[feature] = df_ave[feature]/df_ave['games']"
   ]
  },
  {
   "cell_type": "code",
   "execution_count": 8,
   "metadata": {
    "collapsed": false
   },
   "outputs": [
    {
     "data": {
      "text/html": [
       "<div>\n",
       "<table border=\"1\" class=\"dataframe\">\n",
       "  <thead>\n",
       "    <tr style=\"text-align: right;\">\n",
       "      <th>skin</th>\n",
       "      <th>0</th>\n",
       "      <th>1</th>\n",
       "    </tr>\n",
       "  </thead>\n",
       "  <tbody>\n",
       "    <tr>\n",
       "      <th>yellowCards</th>\n",
       "      <td>33.565436</td>\n",
       "      <td>29.528634</td>\n",
       "    </tr>\n",
       "    <tr>\n",
       "      <th>yellowReds</th>\n",
       "      <td>1.003356</td>\n",
       "      <td>0.982379</td>\n",
       "    </tr>\n",
       "    <tr>\n",
       "      <th>redCards</th>\n",
       "      <td>1.036913</td>\n",
       "      <td>1.066079</td>\n",
       "    </tr>\n",
       "  </tbody>\n",
       "</table>\n",
       "</div>"
      ],
      "text/plain": [
       "skin                 0          1\n",
       "yellowCards  33.565436  29.528634\n",
       "yellowReds    1.003356   0.982379\n",
       "redCards      1.036913   1.066079"
      ]
     },
     "execution_count": 8,
     "metadata": {},
     "output_type": "execute_result"
    }
   ],
   "source": [
    "df_player.groupby('skin').mean()[['yellowCards', 'yellowReds', 'redCards']].transpose()"
   ]
  },
  {
   "cell_type": "code",
   "execution_count": 11,
   "metadata": {
    "collapsed": false
   },
   "outputs": [
    {
     "data": {
      "image/png": "[encoded data removed]",
      "text/plain": [
       "<matplotlib.figure.Figure at 0x1159d2048>"
      ]
     },
     "metadata": {},
     "output_type": "display_data"
    }
   ],
   "source": [
    "skin_x_cards = df_player.groupby('skin').sum()[['yellowCards', 'yellowReds', 'redCards', 'games']]\n",
    "\n",
    "for card in ['yellowCards', 'yellowReds', 'redCards']:\n",
    "    skin_x_cards[card] = skin_x_cards[card] / skin_x_cards['games']\n",
    "\n",
    "skin_x_cards[['yellowCards', 'yellowReds', 'redCards']].transpose().plot(kind='bar')\n",
    "plt.title('cards per game')\n",
    "plt.show()"
   ]
  },
  {
   "cell_type": "code",
   "execution_count": 14,
   "metadata": {
    "collapsed": false
   },
   "outputs": [
    {
     "data": {
      "image/png": "[encoded data removed]",
      "text/plain": [
       "<matplotlib.figure.Figure at 0x1168684e0>"
      ]
     },
     "metadata": {},
     "output_type": "display_data"
    }
   ],
   "source": [
    "rater_average = df_player[['skin', 'birthday', 'games']]\n",
    "rater_birth_count = rater_average.groupby(['skin', 'birthday']).count()\n",
    "rater_birth_count = rater_birth_count.reset_index()\n",
    "pivoted_rater_birth_count = rater_birth_count.pivot(columns='skin', values='games', index='birthday').fillna(0)\n",
    "pivoted_rater_birth_count.plot(kind='area')\n",
    "plt.ylabel('number of player')\n",
    "plt.xlabel('year of birth')\n",
    "plt.title('Number of players with their skin color and year of birth')\n",
    "plt.show()"
   ]
  },
  {
   "cell_type": "code",
   "execution_count": 15,
   "metadata": {
    "collapsed": false
   },
   "outputs": [
    {
     "data": {
      "text/html": [
       "<div>\n",
       "<table border=\"1\" class=\"dataframe\">\n",
       "  <thead>\n",
       "    <tr style=\"text-align: right;\">\n",
       "      <th></th>\n",
       "      <th>totalCards</th>\n",
       "      <th>redCards</th>\n",
       "      <th>yellowCards</th>\n",
       "      <th>yellowReds</th>\n",
       "      <th>victories</th>\n",
       "      <th>ties</th>\n",
       "      <th>weightIAT</th>\n",
       "      <th>weightExp</th>\n",
       "      <th>defeats</th>\n",
       "      <th>goals</th>\n",
       "      <th>games</th>\n",
       "      <th>birthday</th>\n",
       "      <th>position</th>\n",
       "      <th>skin</th>\n",
       "    </tr>\n",
       "    <tr>\n",
       "      <th>playerShort</th>\n",
       "      <th></th>\n",
       "      <th></th>\n",
       "      <th></th>\n",
       "      <th></th>\n",
       "      <th></th>\n",
       "      <th></th>\n",
       "      <th></th>\n",
       "      <th></th>\n",
       "      <th></th>\n",
       "      <th></th>\n",
       "      <th></th>\n",
       "      <th></th>\n",
       "      <th></th>\n",
       "      <th></th>\n",
       "    </tr>\n",
       "  </thead>\n",
       "  <tbody>\n",
       "    <tr>\n",
       "      <th>aaron-hughes</th>\n",
       "      <td>19</td>\n",
       "      <td>0</td>\n",
       "      <td>19</td>\n",
       "      <td>0</td>\n",
       "      <td>247</td>\n",
       "      <td>179</td>\n",
       "      <td>217.909236</td>\n",
       "      <td>262.016762</td>\n",
       "      <td>228</td>\n",
       "      <td>9</td>\n",
       "      <td>654</td>\n",
       "      <td>1979</td>\n",
       "      <td>2</td>\n",
       "      <td>0</td>\n",
       "    </tr>\n",
       "    <tr>\n",
       "      <th>aaron-hunt</th>\n",
       "      <td>43</td>\n",
       "      <td>1</td>\n",
       "      <td>42</td>\n",
       "      <td>0</td>\n",
       "      <td>141</td>\n",
       "      <td>73</td>\n",
       "      <td>114.723043</td>\n",
       "      <td>127.952568</td>\n",
       "      <td>122</td>\n",
       "      <td>62</td>\n",
       "      <td>336</td>\n",
       "      <td>1986</td>\n",
       "      <td>0</td>\n",
       "      <td>0</td>\n",
       "    </tr>\n",
       "    <tr>\n",
       "      <th>aaron-lennon</th>\n",
       "      <td>11</td>\n",
       "      <td>0</td>\n",
       "      <td>11</td>\n",
       "      <td>0</td>\n",
       "      <td>200</td>\n",
       "      <td>97</td>\n",
       "      <td>136.944464</td>\n",
       "      <td>164.577091</td>\n",
       "      <td>115</td>\n",
       "      <td>31</td>\n",
       "      <td>412</td>\n",
       "      <td>1987</td>\n",
       "      <td>10</td>\n",
       "      <td>0</td>\n",
       "    </tr>\n",
       "    <tr>\n",
       "      <th>aaron-ramsey</th>\n",
       "      <td>32</td>\n",
       "      <td>1</td>\n",
       "      <td>31</td>\n",
       "      <td>0</td>\n",
       "      <td>150</td>\n",
       "      <td>42</td>\n",
       "      <td>87.525904</td>\n",
       "      <td>112.656438</td>\n",
       "      <td>68</td>\n",
       "      <td>39</td>\n",
       "      <td>260</td>\n",
       "      <td>1990</td>\n",
       "      <td>9</td>\n",
       "      <td>0</td>\n",
       "    </tr>\n",
       "    <tr>\n",
       "      <th>abdelhamid-el-kaoutari</th>\n",
       "      <td>14</td>\n",
       "      <td>2</td>\n",
       "      <td>8</td>\n",
       "      <td>4</td>\n",
       "      <td>41</td>\n",
       "      <td>40</td>\n",
       "      <td>41.153396</td>\n",
       "      <td>40.782949</td>\n",
       "      <td>43</td>\n",
       "      <td>1</td>\n",
       "      <td>124</td>\n",
       "      <td>1990</td>\n",
       "      <td>2</td>\n",
       "      <td>0</td>\n",
       "    </tr>\n",
       "  </tbody>\n",
       "</table>\n",
       "</div>"
      ],
      "text/plain": [
       "                        totalCards  redCards  yellowCards  yellowReds  \\\n",
       "playerShort                                                             \n",
       "aaron-hughes                    19         0           19           0   \n",
       "aaron-hunt                      43         1           42           0   \n",
       "aaron-lennon                    11         0           11           0   \n",
       "aaron-ramsey                    32         1           31           0   \n",
       "abdelhamid-el-kaoutari          14         2            8           4   \n",
       "\n",
       "                        victories  ties   weightIAT   weightExp  defeats  \\\n",
       "playerShort                                                                \n",
       "aaron-hughes                  247   179  217.909236  262.016762      228   \n",
       "aaron-hunt                    141    73  114.723043  127.952568      122   \n",
       "aaron-lennon                  200    97  136.944464  164.577091      115   \n",
       "aaron-ramsey                  150    42   87.525904  112.656438       68   \n",
       "abdelhamid-el-kaoutari         41    40   41.153396   40.782949       43   \n",
       "\n",
       "                        goals  games  birthday  position  skin  \n",
       "playerShort                                                     \n",
       "aaron-hughes                9    654      1979         2     0  \n",
       "aaron-hunt                 62    336      1986         0     0  \n",
       "aaron-lennon               31    412      1987        10     0  \n",
       "aaron-ramsey               39    260      1990         9     0  \n",
       "abdelhamid-el-kaoutari      1    124      1990         2     0  "
      ]
     },
     "execution_count": 15,
     "metadata": {},
     "output_type": "execute_result"
    }
   ],
   "source": [
    "df_player.head()"
   ]
  },
  {
   "cell_type": "code",
   "execution_count": 20,
   "metadata": {
    "collapsed": false
   },
   "outputs": [
    {
     "data": {
      "text/html": [
       "<div>\n",
       "<table border=\"1\" class=\"dataframe\">\n",
       "  <thead>\n",
       "    <tr style=\"text-align: right;\">\n",
       "      <th></th>\n",
       "      <th>totalCards</th>\n",
       "      <th>redCards</th>\n",
       "      <th>yellowCards</th>\n",
       "      <th>yellowReds</th>\n",
       "      <th>victories</th>\n",
       "      <th>ties</th>\n",
       "      <th>weightIAT</th>\n",
       "      <th>weightExp</th>\n",
       "      <th>defeats</th>\n",
       "      <th>goals</th>\n",
       "      <th>games</th>\n",
       "      <th>birthday</th>\n",
       "      <th>position</th>\n",
       "      <th>skin</th>\n",
       "    </tr>\n",
       "    <tr>\n",
       "      <th>playerShort</th>\n",
       "      <th></th>\n",
       "      <th></th>\n",
       "      <th></th>\n",
       "      <th></th>\n",
       "      <th></th>\n",
       "      <th></th>\n",
       "      <th></th>\n",
       "      <th></th>\n",
       "      <th></th>\n",
       "      <th></th>\n",
       "      <th></th>\n",
       "      <th></th>\n",
       "      <th></th>\n",
       "      <th></th>\n",
       "    </tr>\n",
       "  </thead>\n",
       "  <tbody>\n",
       "    <tr>\n",
       "      <th>aaron-hughes</th>\n",
       "      <td>0.029052</td>\n",
       "      <td>0.000000</td>\n",
       "      <td>0.029052</td>\n",
       "      <td>0.000000</td>\n",
       "      <td>0.377676</td>\n",
       "      <td>0.273700</td>\n",
       "      <td>0.333195</td>\n",
       "      <td>0.400637</td>\n",
       "      <td>0.348624</td>\n",
       "      <td>0.013761</td>\n",
       "      <td>654</td>\n",
       "      <td>1979</td>\n",
       "      <td>2</td>\n",
       "      <td>0</td>\n",
       "    </tr>\n",
       "    <tr>\n",
       "      <th>aaron-hunt</th>\n",
       "      <td>0.127976</td>\n",
       "      <td>0.002976</td>\n",
       "      <td>0.125000</td>\n",
       "      <td>0.000000</td>\n",
       "      <td>0.419643</td>\n",
       "      <td>0.217262</td>\n",
       "      <td>0.341438</td>\n",
       "      <td>0.380811</td>\n",
       "      <td>0.363095</td>\n",
       "      <td>0.184524</td>\n",
       "      <td>336</td>\n",
       "      <td>1986</td>\n",
       "      <td>0</td>\n",
       "      <td>0</td>\n",
       "    </tr>\n",
       "    <tr>\n",
       "      <th>aaron-lennon</th>\n",
       "      <td>0.026699</td>\n",
       "      <td>0.000000</td>\n",
       "      <td>0.026699</td>\n",
       "      <td>0.000000</td>\n",
       "      <td>0.485437</td>\n",
       "      <td>0.235437</td>\n",
       "      <td>0.332389</td>\n",
       "      <td>0.399459</td>\n",
       "      <td>0.279126</td>\n",
       "      <td>0.075243</td>\n",
       "      <td>412</td>\n",
       "      <td>1987</td>\n",
       "      <td>10</td>\n",
       "      <td>0</td>\n",
       "    </tr>\n",
       "    <tr>\n",
       "      <th>aaron-ramsey</th>\n",
       "      <td>0.123077</td>\n",
       "      <td>0.003846</td>\n",
       "      <td>0.119231</td>\n",
       "      <td>0.000000</td>\n",
       "      <td>0.576923</td>\n",
       "      <td>0.161538</td>\n",
       "      <td>0.336638</td>\n",
       "      <td>0.433294</td>\n",
       "      <td>0.261538</td>\n",
       "      <td>0.150000</td>\n",
       "      <td>260</td>\n",
       "      <td>1990</td>\n",
       "      <td>9</td>\n",
       "      <td>0</td>\n",
       "    </tr>\n",
       "    <tr>\n",
       "      <th>abdelhamid-el-kaoutari</th>\n",
       "      <td>0.112903</td>\n",
       "      <td>0.016129</td>\n",
       "      <td>0.064516</td>\n",
       "      <td>0.032258</td>\n",
       "      <td>0.330645</td>\n",
       "      <td>0.322581</td>\n",
       "      <td>0.331882</td>\n",
       "      <td>0.328895</td>\n",
       "      <td>0.346774</td>\n",
       "      <td>0.008065</td>\n",
       "      <td>124</td>\n",
       "      <td>1990</td>\n",
       "      <td>2</td>\n",
       "      <td>0</td>\n",
       "    </tr>\n",
       "  </tbody>\n",
       "</table>\n",
       "</div>"
      ],
      "text/plain": [
       "                        totalCards  redCards  yellowCards  yellowReds  \\\n",
       "playerShort                                                             \n",
       "aaron-hughes              0.029052  0.000000     0.029052    0.000000   \n",
       "aaron-hunt                0.127976  0.002976     0.125000    0.000000   \n",
       "aaron-lennon              0.026699  0.000000     0.026699    0.000000   \n",
       "aaron-ramsey              0.123077  0.003846     0.119231    0.000000   \n",
       "abdelhamid-el-kaoutari    0.112903  0.016129     0.064516    0.032258   \n",
       "\n",
       "                        victories      ties  weightIAT  weightExp   defeats  \\\n",
       "playerShort                                                                   \n",
       "aaron-hughes             0.377676  0.273700   0.333195   0.400637  0.348624   \n",
       "aaron-hunt               0.419643  0.217262   0.341438   0.380811  0.363095   \n",
       "aaron-lennon             0.485437  0.235437   0.332389   0.399459  0.279126   \n",
       "aaron-ramsey             0.576923  0.161538   0.336638   0.433294  0.261538   \n",
       "abdelhamid-el-kaoutari   0.330645  0.322581   0.331882   0.328895  0.346774   \n",
       "\n",
       "                           goals  games  birthday  position  skin  \n",
       "playerShort                                                        \n",
       "aaron-hughes            0.013761    654      1979         2     0  \n",
       "aaron-hunt              0.184524    336      1986         0     0  \n",
       "aaron-lennon            0.075243    412      1987        10     0  \n",
       "aaron-ramsey            0.150000    260      1990         9     0  \n",
       "abdelhamid-el-kaoutari  0.008065    124      1990         2     0  "
      ]
     },
     "execution_count": 20,
     "metadata": {},
     "output_type": "execute_result"
    }
   ],
   "source": [
    "df_ave.head()"
   ]
  },
  {
   "cell_type": "code",
   "execution_count": null,
   "metadata": {
    "collapsed": true
   },
   "outputs": [],
   "source": [
    "# unify the victories rate, ties, defeats, goals, yellowCards, yellowReds, redCards\n",
    "df['victories'] = df['victories']/df['games']\n",
    "df['ties'] = df['ties']/df['games']\n",
    "df['defeats'] = df['defeats']/df['games']\n",
    "df['goals'] = df['goals']/df['games']\n",
    "df['yellowCards'] = df['yellowCards']/df['games']\n",
    "df['yellowReds'] = df['yellowReds']/df['games']\n",
    "df['redCards'] = df['redCards']/df['games']"
   ]
  },
  {
   "cell_type": "code",
   "execution_count": null,
   "metadata": {
    "collapsed": true
   },
   "outputs": [],
   "source": [
    "# get the average skin rate from two raters and add this feature to the original dataframe\n",
    "df['rater_average'] = (df['rater1']+df['rater2'])/2"
   ]
  },
  {
   "cell_type": "code",
   "execution_count": null,
   "metadata": {
    "collapsed": false
   },
   "outputs": [],
   "source": [
    "# delete these column since it will not be meaningless\n",
    "del df['player']; del df['rater1']; del df['rater2']; del df['photoID']"
   ]
  },
  {
   "cell_type": "code",
   "execution_count": null,
   "metadata": {
    "collapsed": false
   },
   "outputs": [],
   "source": [
    "# replace country name by number labels in order to classify\n",
    "dic_country = {'Spain':0, 'France':1, 'England':2, 'Germany':3}\n",
    "df['leagueCountry'] = df.apply(lambda x: dic_country[x.loc['leagueCountry']], axis=1)"
   ]
  },
  {
   "cell_type": "code",
   "execution_count": null,
   "metadata": {
    "collapsed": false
   },
   "outputs": [],
   "source": [
    "# replace club name by number labels in order to classify\n",
    "club_name = df['club'].unique()\n",
    "num_of_clubs = len(club_name)\n",
    "club_index = np.arange(0, num_of_clubs)\n",
    "club_name_index_map = dict(zip(club_name,club_index))\n",
    "df['club'] = df.apply(lambda x: club_name_index_map[x.loc['club']], axis=1)"
   ]
  },
  {
   "cell_type": "code",
   "execution_count": null,
   "metadata": {
    "collapsed": true
   },
   "outputs": [],
   "source": [
    "# replace position name by number labels in order to classify\n",
    "position_name = df['position'].unique()\n",
    "num_of_position = len(position_name)\n",
    "position_index = np.arange(0, num_of_position)\n",
    "position_name_index_map = dict(zip(position_name,position_index))\n",
    "df['position'] = df.apply(lambda x: position_name_index_map[x.loc['position']], axis=1)"
   ]
  },
  {
   "cell_type": "code",
   "execution_count": null,
   "metadata": {
    "collapsed": false
   },
   "outputs": [],
   "source": [
    "# observe that there is a nan at this feature and we decide to replace it by unknown\n",
    "df['Alpha_3'].fillna('unknown',inplace = True)"
   ]
  },
  {
   "cell_type": "code",
   "execution_count": null,
   "metadata": {
    "collapsed": true
   },
   "outputs": [],
   "source": [
    "# replace Alpha_3 name by number labels in order to classify\n",
    "Alpha_3_name = df['Alpha_3'].unique()\n",
    "num_of_Alpha_3 = len(Alpha_3_name)\n",
    "Alpha_3_index = np.arange(0, num_of_Alpha_3)\n",
    "Alpha_3_name_index_map = dict(zip(Alpha_3_name,Alpha_3_index))\n",
    "df['Alpha_3'] = df.apply(lambda x: Alpha_3_name_index_map[x.loc['Alpha_3']], axis=1)"
   ]
  },
  {
   "cell_type": "code",
   "execution_count": null,
   "metadata": {
    "collapsed": false
   },
   "outputs": [],
   "source": [
    "# replace birthday by the birth year\n",
    "df['birthday'] = df.apply(lambda x: x.loc['birthday'].split('.')[2], axis=1).astype(int)"
   ]
  },
  {
   "cell_type": "code",
   "execution_count": null,
   "metadata": {
    "collapsed": false
   },
   "outputs": [],
   "source": [
    "#del df['playerShort']"
   ]
  },
  {
   "cell_type": "code",
   "execution_count": null,
   "metadata": {
    "collapsed": false
   },
   "outputs": [],
   "source": [
    "df.ix[:1,:13]"
   ]
  },
  {
   "cell_type": "code",
   "execution_count": null,
   "metadata": {
    "collapsed": false
   },
   "outputs": [],
   "source": [
    "df.ix[:1,13:]"
   ]
  },
  {
   "cell_type": "code",
   "execution_count": null,
   "metadata": {
    "collapsed": false
   },
   "outputs": [],
   "source": [
    "column_name_not_training = ['playerShort','club', 'leagueCountry', 'refNum', 'refCountry', 'Alpha_3']\n",
    "column_name_training = [i for i in df.columns if i not in column_name_not_training]"
   ]
  },
  {
   "cell_type": "code",
   "execution_count": null,
   "metadata": {
    "collapsed": false
   },
   "outputs": [],
   "source": [
    "df_new = df.groupby('playerShort').mean().loc[:,column_name_training]"
   ]
  },
  {
   "cell_type": "code",
   "execution_count": null,
   "metadata": {
    "collapsed": true
   },
   "outputs": [],
   "source": []
  },
  {
   "cell_type": "code",
   "execution_count": null,
   "metadata": {
    "collapsed": false
   },
   "outputs": [],
   "source": [
    "list_name = df.dropna()['playerShort'].unique()"
   ]
  },
  {
   "cell_type": "code",
   "execution_count": null,
   "metadata": {
    "collapsed": false
   },
   "outputs": [],
   "source": [
    "for i in list_name:\n",
    "    print(i)\n",
    "    if len(set(df.dropna().set_index('playerShort').loc[i,'position'])) != 1:\n",
    "        raise NotImplementedError"
   ]
  },
  {
   "cell_type": "code",
   "execution_count": null,
   "metadata": {
    "collapsed": false
   },
   "outputs": [],
   "source": [
    "type(2.0) == np.float64"
   ]
  },
  {
   "cell_type": "code",
   "execution_count": null,
   "metadata": {
    "collapsed": false
   },
   "outputs": [],
   "source": [
    "for i in list_name[1557:]:\n",
    "    print(i)\n",
    "    l = df.dropna().set_index('playerShort').loc[i,'position']\n",
    "    if type(l) != np.float64:\n",
    "#         print(l, type(l))\n",
    "        if len(set(l)) != 1:\n",
    "            raise NotImplementedError"
   ]
  },
  {
   "cell_type": "code",
   "execution_count": null,
   "metadata": {
    "collapsed": false
   },
   "outputs": [],
   "source": [
    "np.argwhere(list_name == 'charlie-took')"
   ]
  },
  {
   "cell_type": "code",
   "execution_count": null,
   "metadata": {
    "collapsed": false
   },
   "outputs": [],
   "source": [
    "df.dropna().set_index('playerShort').loc[list_name[1558],'position']"
   ]
  },
  {
   "cell_type": "code",
   "execution_count": null,
   "metadata": {
    "collapsed": false,
    "scrolled": true
   },
   "outputs": [],
   "source": [
    "len(set(df.dropna().set_index('playerShort').loc[list_name[1557],'position']))"
   ]
  },
  {
   "cell_type": "code",
   "execution_count": null,
   "metadata": {
    "collapsed": false
   },
   "outputs": [],
   "source": [
    "training_data_x.ix[:2,:13]"
   ]
  },
  {
   "cell_type": "code",
   "execution_count": null,
   "metadata": {
    "collapsed": false
   },
   "outputs": [],
   "source": [
    "training_data_x.ix[:2,13:]"
   ]
  },
  {
   "cell_type": "code",
   "execution_count": null,
   "metadata": {
    "collapsed": false
   },
   "outputs": [],
   "source": [
    "# find all the nan position\n",
    "feature_name = training_data_x.columns\n",
    "for i in feature_name:\n",
    "    #print(i, np.median(training_data_x[i]))\n",
    "    testing_data_x[i].fillna(np.median(training_data_x[i]), inplace = True)"
   ]
  },
  {
   "cell_type": "markdown",
   "metadata": {},
   "source": [
    "## Assignment 1"
   ]
  },
  {
   "cell_type": "markdown",
   "metadata": {},
   "source": [
    "We first deal with the overfitting problem. Given data contains 2 rater's score for skin darkness and we are required to train a classifier to estimate player's skin color from other feature. Since we cannot judge whether our estimation is correct or not for those which does not have the rater's score, we decide to drop these data and we use the rest of the data (named *training_data_x*) to train our classifier. \n",
    "\n",
    "We observe that there is a certain amount of rater score for the same player. If we simply randomly partition *training_data_x*, both the training data and the testing data will high likely to contain the rater score for the same player, then the classifier will check player's *birthday*, *height*, *weight* in order to verify the player and use the result from training data to testing data, which will give us high *clf_score*. \n",
    "\n",
    "However, this is not a faire classifier and we ignore all other features apart from three features mentioned above. Through a precise discussion and brain storm, we figure out that we should group the data by *playerShort* and get the mean value. Again, we cannot calculate the mean value of the string, such as *club, leagueCountry, refNum, refCountry, Alpha_3*, even if we label these string by unique number."
   ]
  },
  {
   "cell_type": "markdown",
   "metadata": {},
   "source": [
    "Add features like `clubs` into df_new"
   ]
  },
  {
   "cell_type": "code",
   "execution_count": 23,
   "metadata": {
    "collapsed": true
   },
   "outputs": [],
   "source": [
    "from sklearn.model_selection import cross_val_score\n",
    "from sklearn.ensemble import RandomForestClassifier"
   ]
  },
  {
   "cell_type": "code",
   "execution_count": null,
   "metadata": {
    "collapsed": false
   },
   "outputs": [],
   "source": [
    "# Train uncalibrated random forest classifier on whole train and validation\n",
    "# data and evaluate on test data\n",
    "a = []\n",
    "N = training_data_x.shape[1]\n",
    "for i in range(1,N):\n",
    "    clf = RandomForestClassifier(n_estimators=i)\n",
    "    a1 = cross_val_score(clf,training_data_x, training_data_y, cv = 20).mean()\n",
    "    a.append(a1)\n",
    "    print(a1)"
   ]
  },
  {
   "cell_type": "code",
   "execution_count": null,
   "metadata": {
    "collapsed": false
   },
   "outputs": [],
   "source": [
    "plt.plot(a)\n",
    "plt.show()"
   ]
  },
  {
   "cell_type": "code",
   "execution_count": null,
   "metadata": {
    "collapsed": false
   },
   "outputs": [],
   "source": [
    "clf = RandomForestClassifier(n_estimators=np.argmax(a))"
   ]
  },
  {
   "cell_type": "markdown",
   "metadata": {},
   "source": [
    "### overfitting curve"
   ]
  },
  {
   "cell_type": "code",
   "execution_count": 25,
   "metadata": {
    "collapsed": true
   },
   "outputs": [],
   "source": [
    "def shuffle_names(name_list, ratio):\n",
    "    np.random.shuffle(name_list)\n",
    "    num_train = int(len(name_list) * ratio)\n",
    "    return name_list[:num_train], name_list[num_train:]"
   ]
  },
  {
   "cell_type": "markdown",
   "metadata": {},
   "source": [
    " We decide to use binary classification, since RandomForestClassifier works better at discrete case and we cares\n",
    " more on white and black skin and whether the discrimination exists or not in the second question; hence, we think\n",
    " it will be fairly enough to use binary classification as 1 (black) or 0 (white)"
   ]
  },
  {
   "cell_type": "code",
   "execution_count": null,
   "metadata": {
    "collapsed": true
   },
   "outputs": [],
   "source": [
    "# useful data\n",
    "training_feature_list = ['yellowCards', 'yellowReds', 'redCards', 'height', 'weight', 'position']\n",
    "training_data = df_new.dropna()\n",
    "training_data_x = training_data.ix[:,:-1]\n",
    "training_data_y = (training_data.ix[:,-1]>0.5).astype(int)"
   ]
  },
  {
   "cell_type": "code",
   "execution_count": null,
   "metadata": {
    "collapsed": false
   },
   "outputs": [],
   "source": [
    "player_name_list = list(set(training_data_x.reset_index()['playerShort'].values))"
   ]
  },
  {
   "cell_type": "code",
   "execution_count": null,
   "metadata": {
    "collapsed": false
   },
   "outputs": [],
   "source": [
    "df_new.columns"
   ]
  },
  {
   "cell_type": "code",
   "execution_count": 21,
   "metadata": {
    "collapsed": false
   },
   "outputs": [
    {
     "data": {
      "text/html": [
       "<div>\n",
       "<table border=\"1\" class=\"dataframe\">\n",
       "  <thead>\n",
       "    <tr style=\"text-align: right;\">\n",
       "      <th></th>\n",
       "      <th>totalCards</th>\n",
       "      <th>redCards</th>\n",
       "      <th>yellowCards</th>\n",
       "      <th>yellowReds</th>\n",
       "      <th>victories</th>\n",
       "      <th>ties</th>\n",
       "      <th>weightIAT</th>\n",
       "      <th>weightExp</th>\n",
       "      <th>defeats</th>\n",
       "      <th>goals</th>\n",
       "      <th>games</th>\n",
       "      <th>birthday</th>\n",
       "      <th>position</th>\n",
       "      <th>skin</th>\n",
       "    </tr>\n",
       "    <tr>\n",
       "      <th>playerShort</th>\n",
       "      <th></th>\n",
       "      <th></th>\n",
       "      <th></th>\n",
       "      <th></th>\n",
       "      <th></th>\n",
       "      <th></th>\n",
       "      <th></th>\n",
       "      <th></th>\n",
       "      <th></th>\n",
       "      <th></th>\n",
       "      <th></th>\n",
       "      <th></th>\n",
       "      <th></th>\n",
       "      <th></th>\n",
       "    </tr>\n",
       "  </thead>\n",
       "  <tbody>\n",
       "    <tr>\n",
       "      <th>aaron-hughes</th>\n",
       "      <td>0.029052</td>\n",
       "      <td>0.000000</td>\n",
       "      <td>0.029052</td>\n",
       "      <td>0.000000</td>\n",
       "      <td>0.377676</td>\n",
       "      <td>0.273700</td>\n",
       "      <td>0.333195</td>\n",
       "      <td>0.400637</td>\n",
       "      <td>0.348624</td>\n",
       "      <td>0.013761</td>\n",
       "      <td>654</td>\n",
       "      <td>1979</td>\n",
       "      <td>2</td>\n",
       "      <td>0</td>\n",
       "    </tr>\n",
       "    <tr>\n",
       "      <th>aaron-hunt</th>\n",
       "      <td>0.127976</td>\n",
       "      <td>0.002976</td>\n",
       "      <td>0.125000</td>\n",
       "      <td>0.000000</td>\n",
       "      <td>0.419643</td>\n",
       "      <td>0.217262</td>\n",
       "      <td>0.341438</td>\n",
       "      <td>0.380811</td>\n",
       "      <td>0.363095</td>\n",
       "      <td>0.184524</td>\n",
       "      <td>336</td>\n",
       "      <td>1986</td>\n",
       "      <td>0</td>\n",
       "      <td>0</td>\n",
       "    </tr>\n",
       "    <tr>\n",
       "      <th>aaron-lennon</th>\n",
       "      <td>0.026699</td>\n",
       "      <td>0.000000</td>\n",
       "      <td>0.026699</td>\n",
       "      <td>0.000000</td>\n",
       "      <td>0.485437</td>\n",
       "      <td>0.235437</td>\n",
       "      <td>0.332389</td>\n",
       "      <td>0.399459</td>\n",
       "      <td>0.279126</td>\n",
       "      <td>0.075243</td>\n",
       "      <td>412</td>\n",
       "      <td>1987</td>\n",
       "      <td>10</td>\n",
       "      <td>0</td>\n",
       "    </tr>\n",
       "    <tr>\n",
       "      <th>aaron-ramsey</th>\n",
       "      <td>0.123077</td>\n",
       "      <td>0.003846</td>\n",
       "      <td>0.119231</td>\n",
       "      <td>0.000000</td>\n",
       "      <td>0.576923</td>\n",
       "      <td>0.161538</td>\n",
       "      <td>0.336638</td>\n",
       "      <td>0.433294</td>\n",
       "      <td>0.261538</td>\n",
       "      <td>0.150000</td>\n",
       "      <td>260</td>\n",
       "      <td>1990</td>\n",
       "      <td>9</td>\n",
       "      <td>0</td>\n",
       "    </tr>\n",
       "    <tr>\n",
       "      <th>abdelhamid-el-kaoutari</th>\n",
       "      <td>0.112903</td>\n",
       "      <td>0.016129</td>\n",
       "      <td>0.064516</td>\n",
       "      <td>0.032258</td>\n",
       "      <td>0.330645</td>\n",
       "      <td>0.322581</td>\n",
       "      <td>0.331882</td>\n",
       "      <td>0.328895</td>\n",
       "      <td>0.346774</td>\n",
       "      <td>0.008065</td>\n",
       "      <td>124</td>\n",
       "      <td>1990</td>\n",
       "      <td>2</td>\n",
       "      <td>0</td>\n",
       "    </tr>\n",
       "  </tbody>\n",
       "</table>\n",
       "</div>"
      ],
      "text/plain": [
       "                        totalCards  redCards  yellowCards  yellowReds  \\\n",
       "playerShort                                                             \n",
       "aaron-hughes              0.029052  0.000000     0.029052    0.000000   \n",
       "aaron-hunt                0.127976  0.002976     0.125000    0.000000   \n",
       "aaron-lennon              0.026699  0.000000     0.026699    0.000000   \n",
       "aaron-ramsey              0.123077  0.003846     0.119231    0.000000   \n",
       "abdelhamid-el-kaoutari    0.112903  0.016129     0.064516    0.032258   \n",
       "\n",
       "                        victories      ties  weightIAT  weightExp   defeats  \\\n",
       "playerShort                                                                   \n",
       "aaron-hughes             0.377676  0.273700   0.333195   0.400637  0.348624   \n",
       "aaron-hunt               0.419643  0.217262   0.341438   0.380811  0.363095   \n",
       "aaron-lennon             0.485437  0.235437   0.332389   0.399459  0.279126   \n",
       "aaron-ramsey             0.576923  0.161538   0.336638   0.433294  0.261538   \n",
       "abdelhamid-el-kaoutari   0.330645  0.322581   0.331882   0.328895  0.346774   \n",
       "\n",
       "                           goals  games  birthday  position  skin  \n",
       "playerShort                                                        \n",
       "aaron-hughes            0.013761    654      1979         2     0  \n",
       "aaron-hunt              0.184524    336      1986         0     0  \n",
       "aaron-lennon            0.075243    412      1987        10     0  \n",
       "aaron-ramsey            0.150000    260      1990         9     0  \n",
       "abdelhamid-el-kaoutari  0.008065    124      1990         2     0  "
      ]
     },
     "execution_count": 21,
     "metadata": {},
     "output_type": "execute_result"
    }
   ],
   "source": [
    "df_ave.head()"
   ]
  },
  {
   "cell_type": "code",
   "execution_count": 41,
   "metadata": {
    "collapsed": false
   },
   "outputs": [
    {
     "name": "stdout",
     "output_type": "stream",
     "text": [
      "training score =  0.957446808511 test score =  0.839593114241\n",
      "training score =  0.985865724382 test score =  0.831866197183\n",
      "training score =  0.976470588235 test score =  0.830985915493\n",
      "training score =  0.982363315697 test score =  0.829812206573\n",
      "training score =  0.980253878702 test score =  0.853521126761\n",
      "training score =  0.976498237368 test score =  0.838028169014\n",
      "training score =  0.982880161128 test score =  0.833333333333\n",
      "training score =  0.984140969163 test score =  0.820422535211\n",
      "training score =  0.981989036805 test score =  0.838028169014\n"
     ]
    }
   ],
   "source": [
    "clf = RandomForestClassifier(n_estimators=10)\n",
    "ratio_grid = np.arange(1,10)/10\n",
    "tr_mat = []\n",
    "te_mat = []\n",
    "cross_score = []\n",
    "player_name_list = list(set(df_ave.reset_index()['playerShort'].values))\n",
    "for i in ratio_grid:\n",
    "    train_name_list, test_name_list = shuffle_names(player_name_list, i)\n",
    "    x_tr = df_ave.ix[:,:-1].loc[train_name_list, :]\n",
    "    x_te = df_ave.ix[:,:-1].loc[test_name_list, :]\n",
    "    y_tr = df_ave.ix[:,-1].loc[train_name_list]\n",
    "    y_te = df_ave.ix[:,-1].loc[test_name_list]\n",
    "        \n",
    "#     x_tr, y_tr, x_te, y_te = random_shuffle(training_data_x.ix[:,[2,3,6,7,9,10,12,15]], training_data_y, i)\n",
    "    clf.fit(X=x_tr, y=y_tr)\n",
    "#     print(clf.feature_importances_)\n",
    "    cross_score.append(cross_val_score(clf,df_ave.ix[:,:-1], df_ave.ix[:,-1], cv = 20).mean())\n",
    "    tr_mat.append(clf.score(x_tr, y_tr))\n",
    "    te_mat.append(clf.score(x_te, y_te))\n",
    "    print(\"training score = \", clf.score(x_tr, y_tr), \"test score = \", clf.score(x_te, y_te)) "
   ]
  },
  {
   "cell_type": "code",
   "execution_count": 42,
   "metadata": {
    "collapsed": false
   },
   "outputs": [
    {
     "data": {
      "image/png": "[encoded data removed]",
      "text/plain": [
       "<matplotlib.figure.Figure at 0x10493ccf8>"
      ]
     },
     "metadata": {},
     "output_type": "display_data"
    }
   ],
   "source": [
    "plt.figure()\n",
    "plt.plot(ratio_grid,1-np.array(tr_mat),'r',label='training')\n",
    "plt.plot(ratio_grid,1-np.array(te_mat),'g',label='testing')\n",
    "plt.plot(ratio_grid,1-np.array(cross_score),'b', label = 'cross validation')\n",
    "plt.xlabel('data size')\n",
    "plt.ylabel('error')\n",
    "plt.legend()\n",
    "plt.show()"
   ]
  },
  {
   "cell_type": "code",
   "execution_count": null,
   "metadata": {
    "collapsed": false
   },
   "outputs": [],
   "source": [
    "clf = RandomForestClassifier(n_estimators=10)\n",
    "ratio_grid = np.arange(1,10)/10\n",
    "tr_mat = []\n",
    "te_mat = []\n",
    "cross_score = []\n",
    "for i in ratio_grid:\n",
    "    train_name_list, test_name_list = shuffle_names(player_name_list, i)\n",
    "    x_tr = training_data_x.loc[train_name_list, :]\n",
    "    x_te = training_data_x.loc[test_name_list, :]\n",
    "    y_tr = training_data_y.loc[train_name_list]\n",
    "    y_te = training_data_y.loc[test_name_list]\n",
    "        \n",
    "#     x_tr, y_tr, x_te, y_te = random_shuffle(training_data_x.ix[:,[2,3,6,7,9,10,12,15]], training_data_y, i)\n",
    "    clf.fit(X=x_tr, y=y_tr)\n",
    "#     print(clf.feature_importances_)\n",
    "#     cross_score.append(cross_val_score(clf,x_tr, y_tr, cv = 5).mean())\n",
    "    tr_mat.append(clf.score(x_tr, y_tr))\n",
    "    te_mat.append(clf.score(x_te, y_te))\n",
    "    print(\"training score = \", clf.score(x_tr, y_tr), \"test score = \", clf.score(x_te, y_te)) "
   ]
  },
  {
   "cell_type": "code",
   "execution_count": null,
   "metadata": {
    "collapsed": false
   },
   "outputs": [],
   "source": [
    "train_name_list, test_name_list = shuffle_names(player_name_list, 1)\n",
    "x_tr = training_data_x.loc[train_name_list, :]\n",
    "x_te = training_data_x.loc[test_name_list, :]\n",
    "y_tr = training_data_y.loc[train_name_list]\n",
    "y_te = training_data_y.loc[test_name_list]\n",
    "clf.fit(X=x_tr, y=y_tr)\n",
    "\n",
    "importances = clf.feature_importances_\n",
    "std = np.std([tree.feature_importances_ for tree in clf.estimators_],\n",
    "             axis=0)\n",
    "indices = np.argsort(importances)[::-1]\n",
    "\n",
    "# Print the feature ranking\n",
    "print(\"Feature ranking:\")\n",
    "\n",
    "X = x_tr\n",
    "for f in range(X.shape[1]):\n",
    "    print(\"%d. feature %d (%f)\" % (f + 1, indices[f], importances[indices[f]]))\n",
    "\n",
    "# Plot the feature importances of the forest\n",
    "plt.figure()\n",
    "plt.title(\"Feature importances\")\n",
    "plt.bar(range(X.shape[1]), importances[indices],\n",
    "       color=\"r\", yerr=std[indices], align=\"center\")\n",
    "plt.xticks(range(X.shape[1]), indices)\n",
    "plt.xlim([-1, X.shape[1]])\n",
    "plt.show()"
   ]
  },
  {
   "cell_type": "code",
   "execution_count": null,
   "metadata": {
    "collapsed": false,
    "scrolled": true
   },
   "outputs": [],
   "source": [
    "overall_importance_ranking = indices"
   ]
  },
  {
   "cell_type": "code",
   "execution_count": null,
   "metadata": {
    "collapsed": false,
    "scrolled": true
   },
   "outputs": [],
   "source": [
    "training_data_x.columns[overall_importance_ranking]"
   ]
  },
  {
   "cell_type": "code",
   "execution_count": null,
   "metadata": {
    "collapsed": false
   },
   "outputs": [],
   "source": [
    "test_features = training_data_x.columns[[12, 17, 14, 15]]"
   ]
  },
  {
   "cell_type": "code",
   "execution_count": null,
   "metadata": {
    "collapsed": false
   },
   "outputs": [],
   "source": [
    "for i in range(1, len(overall_importance_ranking)):\n",
    "    rank_feature = training_data_x.columns[overall_importance_ranking[:i]]\n",
    "    print(cross_val_score(clf, training_data_x[rank_feature], training_data_y, cv=10).mean())"
   ]
  },
  {
   "cell_type": "markdown",
   "metadata": {},
   "source": [
    "## Bonus"
   ]
  },
  {
   "cell_type": "code",
   "execution_count": null,
   "metadata": {
    "collapsed": true
   },
   "outputs": [],
   "source": [
    "overall_importance_ranking = indices"
   ]
  },
  {
   "cell_type": "code",
   "execution_count": null,
   "metadata": {
    "collapsed": false
   },
   "outputs": [],
   "source": [
    "overall_importance_ranking"
   ]
  },
  {
   "cell_type": "code",
   "execution_count": null,
   "metadata": {
    "collapsed": false
   },
   "outputs": [],
   "source": [
    "training_data_x.columns"
   ]
  },
  {
   "cell_type": "code",
   "execution_count": null,
   "metadata": {
    "collapsed": true
   },
   "outputs": [],
   "source": [
    "print(cross_val_score(clf, training_data_x.ix[:, ], training_data_y, cv=10).mean())"
   ]
  },
  {
   "cell_type": "code",
   "execution_count": null,
   "metadata": {
    "collapsed": false
   },
   "outputs": [],
   "source": [
    "training_data_x.columns"
   ]
  },
  {
   "cell_type": "code",
   "execution_count": null,
   "metadata": {
    "collapsed": false
   },
   "outputs": [],
   "source": [
    "np.random.choice(18, 2, replace=False)"
   ]
  },
  {
   "cell_type": "code",
   "execution_count": null,
   "metadata": {
    "collapsed": false
   },
   "outputs": [],
   "source": [
    "random_feature_list = np.random.choice(18, 2, replace=False)\n",
    "rank_feature = training_data_x.columns[[random_feature_list]]\n",
    "#     print(rank_feature, overall_importance_ranking[-i:])\n",
    "print(cross_val_score(clf, training_data_x[rank_feature], training_data_y, cv=10).mean())"
   ]
  },
  {
   "cell_type": "code",
   "execution_count": null,
   "metadata": {
    "collapsed": false
   },
   "outputs": [],
   "source": [
    "print(cross_val_score(clf, training_data_x[training_data_x.columns[[12]]], training_data_y, cv=10).mean())"
   ]
  },
  {
   "cell_type": "code",
   "execution_count": 34,
   "metadata": {
    "collapsed": false
   },
   "outputs": [
    {
     "data": {
      "text/plain": [
       "Index(['totalCards', 'redCards', 'yellowCards', 'yellowReds', 'victories',\n",
       "       'ties', 'weightIAT', 'weightExp', 'defeats', 'goals', 'games',\n",
       "       'birthday', 'position', 'skin'],\n",
       "      dtype='object')"
      ]
     },
     "execution_count": 34,
     "metadata": {},
     "output_type": "execute_result"
    }
   ],
   "source": [
    "df_ave.columns"
   ]
  },
  {
   "cell_type": "code",
   "execution_count": 31,
   "metadata": {
    "collapsed": false
   },
   "outputs": [],
   "source": [
    "col_select = df_ave.columns[[1,3,4,5,6,7,8,9,10,12]]"
   ]
  },
  {
   "cell_type": "code",
   "execution_count": 32,
   "metadata": {
    "collapsed": false
   },
   "outputs": [
    {
     "name": "stdout",
     "output_type": "stream",
     "text": [
      "Feature ranking:\n",
      "1. feature 4 (0.162996)\n",
      "2. feature 5 (0.125071)\n",
      "3. feature 8 (0.120705)\n",
      "4. feature 3 (0.102956)\n",
      "5. feature 6 (0.097238)\n",
      "6. feature 7 (0.092484)\n",
      "7. feature 2 (0.091898)\n",
      "8. feature 0 (0.076084)\n",
      "9. feature 1 (0.070940)\n",
      "10. feature 9 (0.059629)\n"
     ]
    },
    {
     "data": {
      "image/png": "[encoded data removed]",
      "text/plain": [
       "<matplotlib.figure.Figure at 0x117476978>"
      ]
     },
     "metadata": {},
     "output_type": "display_data"
    }
   ],
   "source": [
    "train_name_list, test_name_list = shuffle_names(player_name_list, 1)\n",
    "x_tr = df_ave.ix[:,:-1].loc[train_name_list, col_select]\n",
    "x_te = df_ave.ix[:,:-1].loc[test_name_list, col_select]\n",
    "y_tr = df_ave.ix[:,-1].loc[train_name_list]\n",
    "y_te = df_ave.ix[:,-1].loc[test_name_list]\n",
    "clf.fit(X=x_tr, y=y_tr)\n",
    "\n",
    "importances = clf.feature_importances_\n",
    "std = np.std([tree.feature_importances_ for tree in clf.estimators_],\n",
    "             axis=0)\n",
    "indices = np.argsort(importances)[::-1]\n",
    "\n",
    "# Print the feature ranking\n",
    "print(\"Feature ranking:\")\n",
    "\n",
    "X = x_tr\n",
    "for f in range(X.shape[1]):\n",
    "    print(\"%d. feature %d (%f)\" % (f + 1, indices[f], importances[indices[f]]))\n",
    "\n",
    "# Plot the feature importances of the forest\n",
    "plt.figure()\n",
    "plt.title(\"Feature importances\")\n",
    "plt.bar(range(X.shape[1]), importances[indices],\n",
    "       color=\"r\", yerr=std[indices], align=\"center\")\n",
    "plt.xticks(range(X.shape[1]), indices)\n",
    "plt.xlim([-1, X.shape[1]])\n",
    "plt.show()"
   ]
  },
  {
   "cell_type": "markdown",
   "metadata": {},
   "source": [
    "### feature importance"
   ]
  },
  {
   "cell_type": "markdown",
   "metadata": {},
   "source": [
    "We partition the training data into two subsets, one called \\{x_tr, t_tr\\}, the other is called \\{x_te, y_te\\}. We perform training on \\{x_tr, t_tr\\}, then we compute the accuracy score on set \\{x_te, y_te\\}.  Later, we compute the feature importance and select the most important 5 features, and we do cross validation on set \\{x_te, y_te\\} only using these 5 features. As shown below, the difference between accuracy score on whole set of \\{x_te, y_te\\} and cross validation score on 5 features of \\{x_te, y_te\\} is only 0.05. It shows that these 5 feature are indeed play an significant role on the skin estimation."
   ]
  },
  {
   "cell_type": "code",
   "execution_count": null,
   "metadata": {
    "collapsed": false
   },
   "outputs": [],
   "source": [
    "clf = RandomForestClassifier()\n",
    "train_name_list, test_name_list = shuffle_names(player_name_list, 0.5)\n",
    "# x_tr = training_data_x.loc[train_name_list, training_data_x.columns[[0, 2, 3 , 4, 5]]]\n",
    "# x_te = training_data_x.loc[test_name_list, training_data_x.columns[[0, 2, 3 , 4, 5]]]\n",
    "x_tr = training_data_x.loc[train_name_list, :]\n",
    "x_te = training_data_x.loc[test_name_list, :]\n",
    "y_tr = training_data_y.loc[train_name_list]\n",
    "y_te = training_data_y.loc[test_name_list]\n",
    "\n",
    "clf.fit(X=x_tr, y=y_tr)\n",
    "features = clf.feature_importances_\n",
    "important_features = np.arange(len(features))[features > 0.1]\n",
    "print('The most important fearure index are: ',important_features)\n",
    "print('The testing data accuracy score is:',clf.score(X=x_te, y=y_te))\n",
    "# perform cross validation at testing data and compute the score\n",
    "cross_validation_mean = cross_val_score(clf,x_te.ix[:,important_features], y_te, cv = 10).mean()\n",
    "print('Cross validation mean value for testing data:', cross_validation_mean)\n",
    "print('The difference of the score:', cross_validation_mean-clf.score(X=x_te, y=y_te))"
   ]
  },
  {
   "cell_type": "code",
   "execution_count": null,
   "metadata": {
    "collapsed": false
   },
   "outputs": [],
   "source": [
    "# define a classifier\n",
    "clf = RandomForestClassifier()\n",
    "x_tr, y_tr, x_te, y_te = random_shuffle(training_data_x, training_data_y, 0.5)\n",
    "clf.fit(X=x_tr, y=y_tr)\n",
    "features = clf.feature_importances_\n",
    "important_features = np.arange(len(features))[features > 0.1]\n",
    "print('The most important fearure index are: ',important_features)\n",
    "print('The testing data accuracy score is:',clf.score(X=x_te, y=y_te))\n",
    "# perform cross validation at testing data and compute the score\n",
    "cross_validation_mean = cross_val_score(clf,x_te.ix[:,important_features], y_te, cv = 20).mean()\n",
    "print('Cross validation mean value for testing data:', cross_validation_mean)\n",
    "print('The difference of the score:', cross_validation_mean-clf.score(X=x_te, y=y_te))"
   ]
  },
  {
   "cell_type": "markdown",
   "metadata": {},
   "source": [
    "## Assignment 2"
   ]
  },
  {
   "cell_type": "code",
   "execution_count": null,
   "metadata": {
    "collapsed": false
   },
   "outputs": [],
   "source": [
    "# load the data\n",
    "filename = 'CrowdstormingDataJuly1st.csv'\n",
    "df2 = pd.read_csv(filename)"
   ]
  },
  {
   "cell_type": "code",
   "execution_count": null,
   "metadata": {
    "collapsed": false
   },
   "outputs": [],
   "source": [
    "df_new.ix[:4,:13]"
   ]
  },
  {
   "cell_type": "code",
   "execution_count": null,
   "metadata": {
    "collapsed": false
   },
   "outputs": [],
   "source": [
    "df_new.ix[:4,13:]"
   ]
  },
  {
   "cell_type": "code",
   "execution_count": null,
   "metadata": {
    "collapsed": true
   },
   "outputs": [],
   "source": [
    "df_new['rater_average'] = (df_new['rater_average']>0.5).astype(int)"
   ]
  },
  {
   "cell_type": "code",
   "execution_count": null,
   "metadata": {
    "collapsed": true
   },
   "outputs": [],
   "source": [
    "df_new_copy = df_new.copy()"
   ]
  },
  {
   "cell_type": "code",
   "execution_count": null,
   "metadata": {
    "collapsed": false
   },
   "outputs": [],
   "source": [
    "del df_new_copy['birthday']"
   ]
  },
  {
   "cell_type": "code",
   "execution_count": null,
   "metadata": {
    "collapsed": true
   },
   "outputs": [],
   "source": [
    "del df_new_copy['height']; del df_new_copy['weight']"
   ]
  },
  {
   "cell_type": "code",
   "execution_count": null,
   "metadata": {
    "collapsed": true
   },
   "outputs": [],
   "source": [
    "# scaling\n",
    "from sklearn import preprocessing\n",
    "df_scale = preprocessing.scale(df_new_copy.ix[:,:-1])\n",
    "df_scale = pd.DataFrame(df_scale)"
   ]
  },
  {
   "cell_type": "code",
   "execution_count": null,
   "metadata": {
    "collapsed": true
   },
   "outputs": [],
   "source": [
    "df_new.dropna(inplace=True)"
   ]
  },
  {
   "cell_type": "code",
   "execution_count": null,
   "metadata": {
    "collapsed": false
   },
   "outputs": [],
   "source": [
    "df3 = df2.groupby(['playerShort']).mean()"
   ]
  },
  {
   "cell_type": "code",
   "execution_count": null,
   "metadata": {
    "collapsed": true
   },
   "outputs": [],
   "source": [
    "df_scale.dropna(inplace = True)"
   ]
  },
  {
   "cell_type": "code",
   "execution_count": null,
   "metadata": {
    "collapsed": false,
    "scrolled": true
   },
   "outputs": [],
   "source": [
    "df_scale"
   ]
  },
  {
   "cell_type": "code",
   "execution_count": null,
   "metadata": {
    "collapsed": true
   },
   "outputs": [],
   "source": [
    "from sklearn.decomposition import PCA"
   ]
  },
  {
   "cell_type": "code",
   "execution_count": null,
   "metadata": {
    "collapsed": false
   },
   "outputs": [],
   "source": [
    "pca = PCA(n_components=2)"
   ]
  },
  {
   "cell_type": "code",
   "execution_count": null,
   "metadata": {
    "collapsed": true
   },
   "outputs": [],
   "source": [
    "import itertools"
   ]
  },
  {
   "cell_type": "code",
   "execution_count": null,
   "metadata": {
    "collapsed": false
   },
   "outputs": [],
   "source": [
    "augment = itertools.combinations(range(14), 2)\n",
    "for i in augment:\n",
    "    print(i)"
   ]
  },
  {
   "cell_type": "code",
   "execution_count": null,
   "metadata": {
    "collapsed": false
   },
   "outputs": [],
   "source": [
    "df_new_copy.columns[:-1]"
   ]
  },
  {
   "cell_type": "code",
   "execution_count": null,
   "metadata": {
    "collapsed": false
   },
   "outputs": [],
   "source": [
    "plt.plot()\n",
    "index_color = np.argwhere(df_new['rater_average'] == 0)\n",
    "index_color2 = np.argwhere(df_new['rater_average'] == 1)\n",
    "for i in itertools.combinations(range(14), 7):\n",
    "    print(df_new_copy.columns[:-1][np.asarray(i)])\n",
    "    A = pca.fit_transform(df_scale.ix[:,np.asarray(i)])\n",
    "    plt.scatter(A[index_color[:,0],0][:],A[index_color[:,0],1][:], c='r')\n",
    "    plt.scatter(A[index_color2[:,0],0][:],A[index_color2[:,0],1][:], c='b')\n",
    "    plt.show()"
   ]
  },
  {
   "cell_type": "code",
   "execution_count": null,
   "metadata": {
    "collapsed": true
   },
   "outputs": [],
   "source": [
    "import plotly.plotly as py\n",
    "import plotly.graph_objs as go\n",
    "py.sign_in('qws', '0r90qkyloj')"
   ]
  },
  {
   "cell_type": "code",
   "execution_count": null,
   "metadata": {
    "collapsed": false
   },
   "outputs": [],
   "source": [
    "trace1 = go.Scatter3d(\n",
    "    x=A[:,0],\n",
    "    y=A[:,1],\n",
    "    z=A[:,2],\n",
    "    mode='markers',\n",
    "    marker=dict(\n",
    "        size=6,\n",
    "        symbol='star-square',\n",
    "        line=dict(\n",
    "            color='rgba(217, 217, 217, 0.14)',\n",
    "            width=0.5\n",
    "        ),\n",
    "        opacity=0.8\n",
    "    )\n",
    ")\n",
    "\n",
    "data = [trace1]\n",
    "layout = go.Layout(\n",
    "    margin=dict(\n",
    "        l=0,\n",
    "        r=0,\n",
    "        b=0,\n",
    "        t=0\n",
    "    )\n",
    ")\n",
    "fig = go.Figure(data=data, layout=layout)\n",
    "py.iplot(fig, filename='simple-3d-scatter')"
   ]
  },
  {
   "cell_type": "code",
   "execution_count": null,
   "metadata": {
    "collapsed": true
   },
   "outputs": [],
   "source": [
    "from sklearn.cluster import DBSCAN"
   ]
  },
  {
   "cell_type": "code",
   "execution_count": null,
   "metadata": {
    "collapsed": false
   },
   "outputs": [],
   "source": [
    "for i in range(len(df_scale.columns)):\n",
    "    print((df_scale.ix[:, i]).min())"
   ]
  },
  {
   "cell_type": "code",
   "execution_count": null,
   "metadata": {
    "collapsed": false
   },
   "outputs": [],
   "source": [
    "df_scale.shape"
   ]
  },
  {
   "cell_type": "code",
   "execution_count": null,
   "metadata": {
    "collapsed": false
   },
   "outputs": [],
   "source": [
    "df_scale.head()"
   ]
  },
  {
   "cell_type": "code",
   "execution_count": null,
   "metadata": {
    "collapsed": false
   },
   "outputs": [],
   "source": [
    "df_scale.ix[:, [ -1]]"
   ]
  },
  {
   "cell_type": "code",
   "execution_count": null,
   "metadata": {
    "collapsed": true
   },
   "outputs": [],
   "source": [
    "from sklearn import metrics"
   ]
  },
  {
   "cell_type": "code",
   "execution_count": null,
   "metadata": {
    "collapsed": false
   },
   "outputs": [],
   "source": [
    "for i in range(1,100):\n",
    "    eps_num  = i/40\n",
    "    db = DBSCAN(eps=eps_num, min_samples=15).fit(df_scale[[3,4,5,6,7,8]])\n",
    "    core_samples_mask = np.zeros_like(db.labels_, dtype=bool)\n",
    "    core_samples_mask[db.core_sample_indices_] = True\n",
    "    labels = db.labels_\n",
    "    print(i, pd.Series(labels).value_counts())\n",
    "    #if len(set(labels))>1:\n",
    "    #    print(\"Silhouette Coefficient: %0.3f\" %metrics.silhouette_score(df_scale, labels, metric='sqeuclidean'))"
   ]
  },
  {
   "cell_type": "code",
   "execution_count": null,
   "metadata": {
    "collapsed": false
   },
   "outputs": [],
   "source": [
    "db = DBSCAN(eps=8/40, min_samples=15).fit(df_scale[[9,10,11,12,13,14]])\n",
    "core_samples_mask = np.zeros_like(db.labels_, dtype=bool)\n",
    "core_samples_mask[db.core_sample_indices_] = True\n",
    "labels = db.labels_\n",
    "array_index = np.argwhere(labels==0)"
   ]
  },
  {
   "cell_type": "code",
   "execution_count": null,
   "metadata": {
    "collapsed": false
   },
   "outputs": [],
   "source": [
    "array_index2 = np.argwhere(df_new.ix[:,-1] == 1)"
   ]
  },
  {
   "cell_type": "code",
   "execution_count": null,
   "metadata": {
    "collapsed": false
   },
   "outputs": [],
   "source": [
    "len(array_index)"
   ]
  },
  {
   "cell_type": "code",
   "execution_count": null,
   "metadata": {
    "collapsed": false
   },
   "outputs": [],
   "source": [
    "df_new.ix[array_index.flatten(), -1].value_counts()"
   ]
  },
  {
   "cell_type": "code",
   "execution_count": null,
   "metadata": {
    "collapsed": false
   },
   "outputs": [],
   "source": [
    "df_new.ix[np.argwhere(labels==1).flatten(), -1].value_counts()"
   ]
  },
  {
   "cell_type": "code",
   "execution_count": null,
   "metadata": {
    "collapsed": false
   },
   "outputs": [],
   "source": [
    "array_index,array_index2"
   ]
  },
  {
   "cell_type": "code",
   "execution_count": null,
   "metadata": {
    "collapsed": true
   },
   "outputs": [],
   "source": []
  }
 ],
 "metadata": {
  "anaconda-cloud": {},
  "kernelspec": {
   "display_name": "Python [default]",
   "language": "python",
   "name": "python3"
  },
  "language_info": {
   "codemirror_mode": {
    "name": "ipython",
    "version": 3
   },
   "file_extension": ".py",
   "mimetype": "text/x-python",
   "name": "python",
   "nbconvert_exporter": "python",
   "pygments_lexer": "ipython3",
   "version": "3.5.2"
  }
 },
 "nbformat": 4,
 "nbformat_minor": 1
}
