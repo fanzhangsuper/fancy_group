{
 "cells": [
  {
   "cell_type": "code",
   "execution_count": 2,
   "metadata": {
    "collapsed": false
   },
   "outputs": [],
   "source": [
    "import pandas as pd                                     # for dealing with csv import\n",
    "import numpy as np                                      # arrays and other matlab like manipulation\n",
    "import os                                               # for joining paths and filenames sensibly\n",
    "import matplotlib.pyplot as plt                         # Matplotlib's pyplot: MATLAB-like syntax\n",
    "import scipy.stats.mstats as ssm                        # for bootstrap\n",
    "from scipy.stats import gaussian_kde as kde\n",
    "import random\n",
    "\n",
    "%matplotlib inline\n",
    "import seaborn as sns                                   # For pretty plots\n",
    "\n",
    "# from mpld3 import display_d3\n",
    "# mpld3.enable_notebook()                               # Uncomment these lines to use interactive plots as a default. This can lead to slow loading of the notebook\n",
    "# mpld3.disable_notebook()"
   ]
  },
  {
   "cell_type": "markdown",
   "metadata": {},
   "source": [
    "TODO:\n",
    "\n",
    "- class balancing: if imbalanced, the accuracy itself is not a good creterion.\n",
    "- "
   ]
  },
  {
   "cell_type": "markdown",
   "metadata": {},
   "source": [
    "\n",
    "- Drop out column `player`. Use `playerShort` as id\n",
    "- Average `rater 1` and `rater 2` if the player is rated.\n",
    "- Convert `birthday` to the year they were born. As the creterion of giving red card may change over time. It makes more sense to compare their birthday because players usually enters the league at similar age. In this way, we can avoid the birthday is too small\n",
    "- One item in `Alpha_3` is nan, we will convert it to `unknown`\n",
    "- map club name to different index."
   ]
  },
  {
   "cell_type": "code",
   "execution_count": 36,
   "metadata": {
    "collapsed": true
   },
   "outputs": [],
   "source": [
    "df = pd.read_csv('CrowdstormingDataJuly1st.csv')"
   ]
  },
  {
   "cell_type": "code",
   "execution_count": 111,
   "metadata": {
    "collapsed": false
   },
   "outputs": [
    {
     "data": {
      "text/plain": [
       "array([ 0.28504122,  0.28912949])"
      ]
     },
     "execution_count": 111,
     "metadata": {},
     "output_type": "execute_result"
    }
   ],
   "source": [
    "clf = RandomForestClassifier(max_depth=None, min_samples_split=2,\n",
    "    random_state=0)\n",
    "cross_val_score(clf, X, new_y, cv=2)"
   ]
  },
  {
   "cell_type": "code",
   "execution_count": 139,
   "metadata": {
    "collapsed": false
   },
   "outputs": [
    {
     "data": {
      "text/plain": [
       "0.95952465834818768"
      ]
     },
     "execution_count": 139,
     "metadata": {},
     "output_type": "execute_result"
    }
   ],
   "source": [
    "from sklearn.model_selection import cross_val_score\n",
    "from sklearn.datasets import make_blobs\n",
    "from sklearn.ensemble import RandomForestClassifier\n",
    "from sklearn.ensemble import ExtraTreesClassifier\n",
    "from sklearn.tree import DecisionTreeClassifier\n",
    "\n",
    "X, y = make_blobs(n_samples=10000, n_features=10, centers=100,\n",
    "    random_state=0)\n",
    "\n",
    "clf = RandomForestClassifier(max_depth=None, min_samples_split=2,n_estimators=1,\n",
    "    random_state=0)\n",
    "scores = cross_val_score(clf, X, y)\n",
    "scores.mean()                             "
   ]
  },
  {
   "cell_type": "code",
   "execution_count": 40,
   "metadata": {
    "collapsed": false
   },
   "outputs": [
    {
     "data": {
      "text/plain": [
       "0.99960784313725493"
      ]
     },
     "execution_count": 40,
     "metadata": {},
     "output_type": "execute_result"
    }
   ],
   "source": [
    "clf = RandomForestClassifier(n_estimators=10, max_depth=None,\n",
    "    min_samples_split=2, random_state=0)\n",
    "scores = cross_val_score(clf, X, y)\n",
    "scores.mean()                             "
   ]
  },
  {
   "cell_type": "code",
   "execution_count": 41,
   "metadata": {
    "collapsed": false
   },
   "outputs": [
    {
     "data": {
      "text/plain": [
       "True"
      ]
     },
     "execution_count": 41,
     "metadata": {},
     "output_type": "execute_result"
    }
   ],
   "source": [
    "clf = ExtraTreesClassifier(n_estimators=10, max_depth=None,\n",
    "    min_samples_split=2, random_state=0)\n",
    "scores = cross_val_score(clf, X, y)\n",
    "scores.mean() > 0.999"
   ]
  },
  {
   "cell_type": "code",
   "execution_count": 50,
   "metadata": {
    "collapsed": false,
    "scrolled": true
   },
   "outputs": [
    {
     "data": {
      "text/plain": [
       "146028"
      ]
     },
     "execution_count": 50,
     "metadata": {},
     "output_type": "execute_result"
    }
   ],
   "source": [
    "len(df['Alpha_3'])"
   ]
  },
  {
   "cell_type": "code",
   "execution_count": null,
   "metadata": {
    "collapsed": true
   },
   "outputs": [],
   "source": []
  },
  {
   "cell_type": "code",
   "execution_count": 54,
   "metadata": {
    "collapsed": false,
    "scrolled": true
   },
   "outputs": [
    {
     "data": {
      "text/plain": [
       "DEU     27317\n",
       "ENGL    26316\n",
       "FRA     20599\n",
       "ESP     19355\n",
       "ITA      5102\n",
       "NLD      3557\n",
       "PRT      2946\n",
       "BEL      2418\n",
       "SCOT     1900\n",
       "CHE      1886\n",
       "SWE      1808\n",
       "GRC      1711\n",
       "RUS      1710\n",
       "NOR      1645\n",
       "TUR      1587\n",
       "AUT      1583\n",
       "DNK      1370\n",
       "ARG      1160\n",
       "ROU      1123\n",
       "POL      1026\n",
       "BRA       995\n",
       "CZE       983\n",
       "SVN       904\n",
       "HRV       876\n",
       "HUN       874\n",
       "SVK       722\n",
       "IRL       708\n",
       "MEX       684\n",
       "ISR       610\n",
       "USA       603\n",
       "        ...  \n",
       "GUY         8\n",
       "COG         7\n",
       "CUB         6\n",
       "TZA         6\n",
       "SYR         6\n",
       "FJI         5\n",
       "RWA         5\n",
       "BGD         4\n",
       "TCD         4\n",
       "LIE         4\n",
       "LBR         3\n",
       "MOZ         3\n",
       "HTI         3\n",
       "COD         3\n",
       "CYM         2\n",
       "CPV         2\n",
       "DOM         2\n",
       "ANT         2\n",
       "LKA         2\n",
       "SWZ         2\n",
       "SLB         2\n",
       "NCL         2\n",
       "IRQ         1\n",
       "ABW         1\n",
       "VUT         1\n",
       "TKM         1\n",
       "NPL         1\n",
       "PRK         1\n",
       "CAF         1\n",
       "            1\n",
       "Name: Alpha_3, dtype: int64"
      ]
     },
     "execution_count": 54,
     "metadata": {},
     "output_type": "execute_result"
    }
   ],
   "source": [
    "df['Alpha_3'].fillna('').value_counts()"
   ]
  }
 ],
 "metadata": {
  "kernelspec": {
   "display_name": "Python 3",
   "language": "python",
   "name": "python3"
  },
  "language_info": {
   "codemirror_mode": {
    "name": "ipython",
    "version": 3
   },
   "file_extension": ".py",
   "mimetype": "text/x-python",
   "name": "python",
   "nbconvert_exporter": "python",
   "pygments_lexer": "ipython3",
   "version": "3.5.2"
  }
 },
 "nbformat": 4,
 "nbformat_minor": 0
}
