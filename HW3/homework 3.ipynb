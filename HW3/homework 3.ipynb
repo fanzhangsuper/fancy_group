{
 "cells": [
  {
   "cell_type": "code",
   "execution_count": 1,
   "metadata": {
    "collapsed": true
   },
   "outputs": [],
   "source": [
    "import numpy as np\n",
    "import requests\n",
    "from bs4 import BeautifulSoup"
   ]
  },
  {
   "cell_type": "code",
   "execution_count": 2,
   "metadata": {
    "collapsed": false
   },
   "outputs": [],
   "source": [
    "parser = 'html.parser' # or 'lxml'\n",
    "filter_url = 'http://isa.epfl.ch/imoniteur_ISAP/!GEDPUBLICREPORTS.filter'\n",
    "table_url = 'http://isa.epfl.ch/imoniteur_ISAP/!GEDPUBLICREPORTS.html'\n",
    "\n",
    "#define the parameter\n",
    "payload = {'ww_i_reportModel':'133685247'}\n",
    "\n",
    "#define the table name\n",
    "table_name = {\n",
    "    'unite_faculty':'ww_x_UNITE_ACAD',\n",
    "    'academic_year':'ww_x_PERIODE_ACAD', \n",
    "    'semester':'ww_x_PERIODE_PEDAGO',\n",
    "    'season':'ww_x_HIVERETE'\n",
    "}\n",
    "\n",
    "# request example\n",
    "default_parameter_dict = {\n",
    "    'ww_b_list':1,\n",
    "    'ww_i_reportmodel':'133685247',\n",
    "    'ww_i_reportModelXsl':'133685270'\n",
    "}\n",
    "\n",
    "\n",
    "table_columns = [\n",
    "    'Civilité',\n",
    "    'Nom Prénom',\n",
    "    'Orientation Bachelor',\n",
    "    'Orientation Master',\n",
    "    'Spécialisation',\n",
    "    'Filière opt.',\n",
    "    'Mineur',\n",
    "    'Statut',\n",
    "    'Type Echange',\n",
    "    'Ecole Echange',\n",
    "    'No Sciper'\n",
    "]\n",
    "\n",
    "table_columns_dict = dict(\n",
    "    zip(table_columns, range(len(table_columns)))\n",
    ")           "
   ]
  },
  {
   "cell_type": "markdown",
   "metadata": {},
   "source": [
    "Find the URL"
   ]
  },
  {
   "cell_type": "code",
   "execution_count": 3,
   "metadata": {
    "collapsed": false
   },
   "outputs": [],
   "source": [
    "def build_key_map():\n",
    "    # get the URL\n",
    "    r = requests.get(filter_url, params = payload)\n",
    "    # convert to beautifulSoup\n",
    "    soup = BeautifulSoup(r.text, parser)\n",
    "    \n",
    "    # extract the dictionary for Unité académique\n",
    "    dict_unite = {}\n",
    "    for table_key in table_name.keys():\n",
    "        dict_unite_tem = {}\n",
    "        for unite in soup.select('select[name=%s] option' % table_name[table_key]):\n",
    "            if len(unite.contents) > 0:            \n",
    "                dict_unite_tem[(unite.contents)[0]] = unite['value'] \n",
    "        dict_unite[table_key] = dict_unite_tem\n",
    "    return dict_unite\n",
    "\n",
    "dict_unite = build_key_map()"
   ]
  },
  {
   "cell_type": "code",
   "execution_count": 4,
   "metadata": {
    "collapsed": true
   },
   "outputs": [],
   "source": [
    "# function to complete the parameter dictionary\n",
    "def func_parameter_dict(academic_year_str,season_str,semester_str,unite_faculty_str,dict_unite, gps = False):\n",
    "    # request example\n",
    "    parameter_dict = default_parameter_dict\n",
    "    parameter_dict[table_name['academic_year']] = dict_unite['academic_year'][academic_year_str]\n",
    "    parameter_dict[table_name['season']] = dict_unite['season'][season_str]\n",
    "    parameter_dict[table_name['semester']] = dict_unite['semester'][semester_str]\n",
    "    parameter_dict[table_name['unite_faculty']] = dict_unite['unite_faculty'][unite_faculty_str]\n",
    "    if gps:\n",
    "        parameter_dict['ww_x_GPS'] = -1\n",
    "    return parameter_dict"
   ]
  },
  {
   "cell_type": "code",
   "execution_count": 310,
   "metadata": {
    "collapsed": false
   },
   "outputs": [],
   "source": [
    "def get_required_webpage(academic_year_str,season_str,semester_str,unite_faculty_str,dict_unite):\n",
    "    parameter_dict = func_parameter_dict(academic_year_str,season_str,semester_str,unite_faculty_str,dict_unite)\n",
    "    # get the URL\n",
    "    r = requests.get(filter_url, params = parameter_dict)\n",
    "    # convert to beautifulSoup\n",
    "    soup = BeautifulSoup(r.text, parser)\n",
    "    # check if the ww_x_GPS is exist or not, if it existed, ww_x_GPS == -1\n",
    "    if soup.select('a[class=%s]' % \"ww_x_GPS\")==[]:\n",
    "        print('The input is not valide')\n",
    "        print(semester_str)\n",
    "        raise RuntimeError\n",
    "        \n",
    "    # update parameter, add ww_x_GPS\n",
    "    gps_exist = True\n",
    "    parameter_dict_gps =  func_parameter_dict(academic_year_str,season_str,semester_str,\n",
    "                                          unite_faculty_str,dict_unite, gps_exist)\n",
    "\n",
    "    # get the URL\n",
    "    r_table = requests.get(table_url, params = parameter_dict_gps)\n",
    "    # convert to beautifulSoup\n",
    "    soup_table = BeautifulSoup(r_table.text, parser)\n",
    "    return soup_table"
   ]
  },
  {
   "cell_type": "code",
   "execution_count": 306,
   "metadata": {
    "collapsed": false
   },
   "outputs": [],
   "source": [
    "import pandas as pd\n",
    "\n",
    "def build_dataframe(soup, list_of_columns):\n",
    "    l = soup.select('table tr')\n",
    "    # The first row is the title of the table\n",
    "    # The second row is the label of columns\n",
    "    s = []\n",
    "    \n",
    "    for column in list_of_columns:\n",
    "        temp_s = []\n",
    "        for item in l[2:]:\n",
    "            content = item.contents[table_columns_dict[column]].contents\n",
    "            if (content == []):\n",
    "                temp_s.append('None')\n",
    "            else:\n",
    "                temp_s.append(content[0])\n",
    "        s.append(temp_s)\n",
    "                \n",
    "    column_dict = dict(zip(list_of_columns, s))\n",
    "    df = pd.DataFrame(column_dict)\n",
    "    return df"
   ]
  },
  {
   "cell_type": "markdown",
   "metadata": {},
   "source": [
    "# Example"
   ]
  },
  {
   "cell_type": "code",
   "execution_count": null,
   "metadata": {
    "collapsed": true
   },
   "outputs": [],
   "source": []
  },
  {
   "cell_type": "code",
   "execution_count": 136,
   "metadata": {
    "collapsed": true
   },
   "outputs": [],
   "source": [
    "academic_year_str = '2007-2008'\n",
    "season_str = \"Semestre d'automne\"\n",
    "semester_str = 'Bachelor semestre 1'\n",
    "unite_faculty_str =  'Informatique'"
   ]
  },
  {
   "cell_type": "code",
   "execution_count": 137,
   "metadata": {
    "collapsed": false
   },
   "outputs": [],
   "source": [
    "# Get the Raw Webpage\n",
    "soup_table = get_required_webpage(academic_year_str,season_str,semester_str,unite_faculty_str,dict_unite)"
   ]
  },
  {
   "cell_type": "code",
   "execution_count": 139,
   "metadata": {
    "collapsed": false
   },
   "outputs": [],
   "source": [
    "# Create a DataFrame from the raw webpage\n",
    "df = build_dataframe(soup_table, ['No Sciper', 'Statut'])"
   ]
  },
  {
   "cell_type": "markdown",
   "metadata": {},
   "source": [
    "# Assignment 1"
   ]
  },
  {
   "cell_type": "code",
   "execution_count": 281,
   "metadata": {
    "collapsed": false
   },
   "outputs": [],
   "source": [
    "def func_get_semester_student(season_str,semester_str,unite_faculty_str, feature_list):\n",
    "    df_list = []\n",
    "    for year in range(2007, 2017):\n",
    "        academic_year_str = str(year) + '-' + str(year+1)\n",
    "        #print(academic_year_str)\n",
    "        soup_table = get_required_webpage(academic_year_str,season_str,semester_str,unite_faculty_str,dict_unite)    \n",
    "        df =build_dataframe(soup_table, feature_list)\n",
    "        df['academic_year']=academic_year_str\n",
    "        df_list.append(df)\n",
    "    df = pd.concat(df_list)\n",
    "    df['Semester'] = semester_str\n",
    "    df1 = df.set_index(['No Sciper','academic_year'])\n",
    "    df2 = df.set_index(['No Sciper'])\n",
    "    unique_index = df2.index.unique()\n",
    "    return df1,unique_index"
   ]
  },
  {
   "cell_type": "code",
   "execution_count": 183,
   "metadata": {
    "collapsed": false
   },
   "outputs": [],
   "source": [
    "season_str = [\"Semestre d'automne\",\"Semestre de printemps\"]\n",
    "semester_str = ['Bachelor semestre 1','Bachelor semestre 6']\n",
    "feature_list = ['Nom Prénom', 'No Sciper', 'Statut', 'Civilité']\n",
    "unite_faculty_str =  'Informatique'\n",
    "df_semester_1,unique_index_1 = func_get_semester_student(season_str[0],semester_str[0],unite_faculty_str, feature_list)\n",
    "df_semester_6,unique_index_6 = func_get_semester_student(season_str[1],semester_str[1],unite_faculty_str, feature_list)"
   ]
  },
  {
   "cell_type": "code",
   "execution_count": 308,
   "metadata": {
    "collapsed": false
   },
   "outputs": [],
   "source": [
    "def find_end_year(df_semester_6,unique_index_6, indicate_end ):\n",
    "    unique_index = unique_index_6\n",
    "    offset = 0 if indicate_end else 1\n",
    "    #print(unique_index)\n",
    "    aa = df_semester_6.sort_index()\n",
    "    dic = {}\n",
    "    list_year = []\n",
    "    list_Sciper = []\n",
    "    list_sex = []\n",
    "    for i in unique_index:\n",
    "        academic_year = aa.loc[i,:].iloc[-1+offset].name\n",
    "        list_year.append(academic_year)\n",
    "        list_Sciper.append(i)\n",
    "        list_sex.append(aa['Civilité'].loc[(i,academic_year)])\n",
    "    dic = {'No Sciper':list_Sciper, 'academic_year':list_year, 'Civilité':list_sex}    \n",
    "    dataframe_dic = pd.DataFrame(dic)\n",
    "    \n",
    "    return dataframe_dic.set_index('No Sciper')"
   ]
  },
  {
   "cell_type": "code",
   "execution_count": 228,
   "metadata": {
    "collapsed": false
   },
   "outputs": [],
   "source": [
    "semester1_frame = find_end_year(df_semester_1,unique_index_1, False)\n",
    "semester6_frame = find_end_year(df_semester_6,unique_index_6, True)"
   ]
  },
  {
   "cell_type": "code",
   "execution_count": 266,
   "metadata": {
    "collapsed": false
   },
   "outputs": [
    {
     "data": {
      "text/html": [
       "<div>\n",
       "<table border=\"1\" class=\"dataframe\">\n",
       "  <thead>\n",
       "    <tr style=\"text-align: right;\">\n",
       "      <th></th>\n",
       "      <th>period</th>\n",
       "    </tr>\n",
       "    <tr>\n",
       "      <th>Civilité</th>\n",
       "      <th></th>\n",
       "    </tr>\n",
       "  </thead>\n",
       "  <tbody>\n",
       "    <tr>\n",
       "      <th>Madame</th>\n",
       "      <td>3.310345</td>\n",
       "    </tr>\n",
       "    <tr>\n",
       "      <th>Monsieur</th>\n",
       "      <td>3.480978</td>\n",
       "    </tr>\n",
       "  </tbody>\n",
       "</table>\n",
       "</div>"
      ],
      "text/plain": [
       "            period\n",
       "Civilité          \n",
       "Madame    3.310345\n",
       "Monsieur  3.480978"
      ]
     },
     "execution_count": 266,
     "metadata": {},
     "output_type": "execute_result"
    }
   ],
   "source": [
    "id = semester1_frame.index.intersection(semester6_frame.index)\n",
    "#print(semester1_frame.loc[id].shape)\n",
    "result = pd.concat([semester1_frame.loc[id],semester6_frame.loc[id]],axis = 1)\n",
    "# result = pd.merge(semester1_frame.loc[id],semester6_frame.loc[id],how='inner',on='Civilité')\n",
    "result['period'] = result.apply(lambda x: int(x.iloc[3].split('-')[1])-int(x.iloc[1].split('-')[0]), axis=1)\n",
    "result.iloc[:,[0, 4]].groupby('Civilité')[['period']].mean()"
   ]
  },
  {
   "cell_type": "code",
   "execution_count": 280,
   "metadata": {
    "collapsed": false
   },
   "outputs": [
    {
     "data": {
      "text/html": [
       "<div>\n",
       "<table border=\"1\" class=\"dataframe\">\n",
       "  <thead>\n",
       "    <tr style=\"text-align: right;\">\n",
       "      <th></th>\n",
       "      <th></th>\n",
       "      <th>No Sciper</th>\n",
       "    </tr>\n",
       "    <tr>\n",
       "      <th>Civilité</th>\n",
       "      <th>period</th>\n",
       "      <th></th>\n",
       "    </tr>\n",
       "  </thead>\n",
       "  <tbody>\n",
       "    <tr>\n",
       "      <th rowspan=\"3\" valign=\"top\">Madame</th>\n",
       "      <th>3</th>\n",
       "      <td>21</td>\n",
       "    </tr>\n",
       "    <tr>\n",
       "      <th>4</th>\n",
       "      <td>7</td>\n",
       "    </tr>\n",
       "    <tr>\n",
       "      <th>5</th>\n",
       "      <td>1</td>\n",
       "    </tr>\n",
       "    <tr>\n",
       "      <th rowspan=\"5\" valign=\"top\">Monsieur</th>\n",
       "      <th>3</th>\n",
       "      <td>238</td>\n",
       "    </tr>\n",
       "    <tr>\n",
       "      <th>4</th>\n",
       "      <td>91</td>\n",
       "    </tr>\n",
       "    <tr>\n",
       "      <th>5</th>\n",
       "      <td>32</td>\n",
       "    </tr>\n",
       "    <tr>\n",
       "      <th>6</th>\n",
       "      <td>6</td>\n",
       "    </tr>\n",
       "    <tr>\n",
       "      <th>7</th>\n",
       "      <td>1</td>\n",
       "    </tr>\n",
       "  </tbody>\n",
       "</table>\n",
       "</div>"
      ],
      "text/plain": [
       "                 No Sciper\n",
       "Civilité period           \n",
       "Madame   3              21\n",
       "         4               7\n",
       "         5               1\n",
       "Monsieur 3             238\n",
       "         4              91\n",
       "         5              32\n",
       "         6               6\n",
       "         7               1"
      ]
     },
     "execution_count": 280,
     "metadata": {},
     "output_type": "execute_result"
    }
   ],
   "source": [
    "result.iloc[:,[0, 4]].reset_index().groupby(['Civilité','period']).count()"
   ]
  },
  {
   "cell_type": "markdown",
   "metadata": {},
   "source": [
    "## Assignment 2"
   ]
  },
  {
   "cell_type": "code",
   "execution_count": 312,
   "metadata": {
    "collapsed": false,
    "scrolled": true
   },
   "outputs": [],
   "source": [
    "# extract the semester 1 and semester 2 student list\n",
    "season_str = [\"Semestre d'automne\",\"Semestre de printemps\"]\n",
    "semester_str = ['Master semestre 1','Master semestre 2','Master semestre 3','Projet Master automne','Projet Master printemps']\n",
    "feature_list = ['Nom Prénom', 'No Sciper', 'Statut', 'Civilité','Spécialisation','Mineur']\n",
    "unite_faculty_str =  'Informatique'\n",
    "df_master_semester_1,unique_master_index_1 = func_get_semester_student(season_str[0],semester_str[0],unite_faculty_str, feature_list)\n",
    "df_master_semester_2,unique_master_index_2 = func_get_semester_student(season_str[1],semester_str[1],unite_faculty_str, feature_list)\n",
    "df_master_semester_3,unique_master_index_3 = func_get_semester_student(season_str[0],semester_str[2],unite_faculty_str, feature_list)\n",
    "df_master_project_1,unique_master_project_index_1 = func_get_semester_student(season_str[0],semester_str[3],unite_faculty_str, feature_list)\n",
    "df_master_project_2,unique_master_project_index_2 = func_get_semester_student(season_str[1],semester_str[4],unite_faculty_str, feature_list)"
   ]
  },
  {
   "cell_type": "code",
   "execution_count": 319,
   "metadata": {
    "collapsed": false
   },
   "outputs": [
    {
     "data": {
      "text/html": [
       "<div>\n",
       "<table border=\"1\" class=\"dataframe\">\n",
       "  <thead>\n",
       "    <tr style=\"text-align: right;\">\n",
       "      <th></th>\n",
       "      <th></th>\n",
       "      <th>Civilité</th>\n",
       "      <th>Mineur</th>\n",
       "      <th>Nom Prénom</th>\n",
       "      <th>Spécialisation</th>\n",
       "      <th>Statut</th>\n",
       "      <th>Semester</th>\n",
       "    </tr>\n",
       "    <tr>\n",
       "      <th>No Sciper</th>\n",
       "      <th>academic_year</th>\n",
       "      <th></th>\n",
       "      <th></th>\n",
       "      <th></th>\n",
       "      <th></th>\n",
       "      <th></th>\n",
       "      <th></th>\n",
       "    </tr>\n",
       "  </thead>\n",
       "  <tbody>\n",
       "    <tr>\n",
       "      <th>159852</th>\n",
       "      <th>2007-2008</th>\n",
       "      <td>Monsieur</td>\n",
       "      <td>None</td>\n",
       "      <td>Brutsche Florian</td>\n",
       "      <td>Internet computing</td>\n",
       "      <td>Congé</td>\n",
       "      <td>Projet Master printemps</td>\n",
       "    </tr>\n",
       "    <tr>\n",
       "      <th>153819</th>\n",
       "      <th>2007-2008</th>\n",
       "      <td>Monsieur</td>\n",
       "      <td>None</td>\n",
       "      <td>Dotta Mirco</td>\n",
       "      <td>None</td>\n",
       "      <td>Stage</td>\n",
       "      <td>Projet Master printemps</td>\n",
       "    </tr>\n",
       "    <tr>\n",
       "      <th>145957</th>\n",
       "      <th>2007-2008</th>\n",
       "      <td>Monsieur</td>\n",
       "      <td>None</td>\n",
       "      <td>Hügli Michael</td>\n",
       "      <td>None</td>\n",
       "      <td>Stage</td>\n",
       "      <td>Projet Master printemps</td>\n",
       "    </tr>\n",
       "    <tr>\n",
       "      <th>173257</th>\n",
       "      <th>2007-2008</th>\n",
       "      <td>Monsieur</td>\n",
       "      <td>None</td>\n",
       "      <td>Indra Saurabh</td>\n",
       "      <td>None</td>\n",
       "      <td>Présent</td>\n",
       "      <td>Projet Master printemps</td>\n",
       "    </tr>\n",
       "    <tr>\n",
       "      <th>160150</th>\n",
       "      <th>2007-2008</th>\n",
       "      <td>Monsieur</td>\n",
       "      <td>None</td>\n",
       "      <td>Lépine Simon</td>\n",
       "      <td>Biocomputing</td>\n",
       "      <td>Présent</td>\n",
       "      <td>Projet Master printemps</td>\n",
       "    </tr>\n",
       "  </tbody>\n",
       "</table>\n",
       "</div>"
      ],
      "text/plain": [
       "                         Civilité Mineur        Nom Prénom  \\\n",
       "No Sciper academic_year                                      \n",
       "159852    2007-2008      Monsieur   None  Brutsche Florian   \n",
       "153819    2007-2008      Monsieur   None       Dotta Mirco   \n",
       "145957    2007-2008      Monsieur   None     Hügli Michael   \n",
       "173257    2007-2008      Monsieur   None     Indra Saurabh   \n",
       "160150    2007-2008      Monsieur   None      Lépine Simon   \n",
       "\n",
       "                             Spécialisation   Statut                 Semester  \n",
       "No Sciper academic_year                                                        \n",
       "159852    2007-2008      Internet computing    Congé  Projet Master printemps  \n",
       "153819    2007-2008                    None    Stage  Projet Master printemps  \n",
       "145957    2007-2008                    None    Stage  Projet Master printemps  \n",
       "173257    2007-2008                    None  Présent  Projet Master printemps  \n",
       "160150    2007-2008            Biocomputing  Présent  Projet Master printemps  "
      ]
     },
     "execution_count": 319,
     "metadata": {},
     "output_type": "execute_result"
    }
   ],
   "source": [
    "df_master_project_2.head()"
   ]
  },
  {
   "cell_type": "code",
   "execution_count": 338,
   "metadata": {
    "collapsed": false
   },
   "outputs": [],
   "source": [
    "master_all_semesters = pd.concat([df_master_semester_1, df_master_semester_2,\\\n",
    "                                  df_master_semester_3, df_master_project_1, df_master_project_2]).reset_index()"
   ]
  },
  {
   "cell_type": "code",
   "execution_count": 344,
   "metadata": {
    "collapsed": false
   },
   "outputs": [],
   "source": [
    "present_in_epfl = master_all_semesters.groupby(['No Sciper', 'Statut']).count()['Civilité']"
   ]
  },
  {
   "cell_type": "code",
   "execution_count": 351,
   "metadata": {
    "collapsed": false
   },
   "outputs": [],
   "source": [
    "count_stay = present_in_epfl.loc[:, 'Présent']\n",
    "average_stay = count_stay.mean()"
   ]
  },
  {
   "cell_type": "code",
   "execution_count": 365,
   "metadata": {
    "collapsed": false
   },
   "outputs": [],
   "source": [
    "specialization_count = master_all_semesters[(master_all_semesters.Statut == 'Présent') \n",
    "                     & (master_all_semesters.Spécialisation != 'None')].groupby(['Spécialisation','No Sciper']).count()['Civilité']"
   ]
  },
  {
   "cell_type": "code",
   "execution_count": 403,
   "metadata": {
    "collapsed": false
   },
   "outputs": [
    {
     "data": {
      "text/plain": [
       "Spécialisation                  No Sciper\n",
       "Biocomputing                    153640       1\n",
       "                                154573       4\n",
       "                                154936       1\n",
       "                                154969       1\n",
       "                                160150       2\n",
       "                                160831       1\n",
       "                                161090       1\n",
       "                                169734       3\n",
       "                                172500       1\n",
       "                                172503       1\n",
       "                                172611       1\n",
       "                                183185       1\n",
       "Computer Engineering - SP       161344       1\n",
       "                                166262       1\n",
       "                                175775       1\n",
       "                                178271       3\n",
       "                                178283       2\n",
       "                                183984       2\n",
       "                                185005       2\n",
       "                                185458       3\n",
       "                                185480       1\n",
       "                                191354       3\n",
       "                                201034       4\n",
       "                                211478       2\n",
       "                                211672       2\n",
       "                                214225       3\n",
       "                                216690       4\n",
       "                                217301       3\n",
       "                                218353       4\n",
       "                                221295       1\n",
       "                                            ..\n",
       "Signals, Images and Interfaces  201951       2\n",
       "                                204253       2\n",
       "                                204393       4\n",
       "                                211527       3\n",
       "                                217530       2\n",
       "                                223566       3\n",
       "                                224847       1\n",
       "                                225203       1\n",
       "                                233359       1\n",
       "                                238199       3\n",
       "                                254809       3\n",
       "Software Systems                178684       3\n",
       "                                179426       2\n",
       "                                181121       2\n",
       "                                185853       3\n",
       "                                186020       2\n",
       "                                194971       1\n",
       "                                205864       4\n",
       "                                223183       3\n",
       "                                223572       2\n",
       "                                224338       1\n",
       "                                225274       2\n",
       "                                226371       1\n",
       "                                226541       2\n",
       "                                234218       1\n",
       "                                244587       4\n",
       "                                245311       2\n",
       "                                257819       2\n",
       "                                260806       2\n",
       "                                261006       1\n",
       "Name: Civilité, dtype: int64"
      ]
     },
     "execution_count": 403,
     "metadata": {},
     "output_type": "execute_result"
    }
   ],
   "source": [
    "specialization_count"
   ]
  },
  {
   "cell_type": "code",
   "execution_count": 369,
   "metadata": {
    "collapsed": false
   },
   "outputs": [
    {
     "data": {
      "text/html": [
       "<div>\n",
       "<table border=\"1\" class=\"dataframe\">\n",
       "  <thead>\n",
       "    <tr style=\"text-align: right;\">\n",
       "      <th></th>\n",
       "      <th>Civilité</th>\n",
       "    </tr>\n",
       "    <tr>\n",
       "      <th>Spécialisation</th>\n",
       "      <th></th>\n",
       "    </tr>\n",
       "  </thead>\n",
       "  <tbody>\n",
       "    <tr>\n",
       "      <th>Biocomputing</th>\n",
       "      <td>1.500000</td>\n",
       "    </tr>\n",
       "    <tr>\n",
       "      <th>Computer Engineering - SP</th>\n",
       "      <td>2.227273</td>\n",
       "    </tr>\n",
       "    <tr>\n",
       "      <th>Computer Science Theory</th>\n",
       "      <td>2.000000</td>\n",
       "    </tr>\n",
       "    <tr>\n",
       "      <th>Data Analytics</th>\n",
       "      <td>1.750000</td>\n",
       "    </tr>\n",
       "    <tr>\n",
       "      <th>Foundations of Software</th>\n",
       "      <td>2.289855</td>\n",
       "    </tr>\n",
       "    <tr>\n",
       "      <th>Information Security - SP</th>\n",
       "      <td>2.428571</td>\n",
       "    </tr>\n",
       "    <tr>\n",
       "      <th>Internet Information Systems</th>\n",
       "      <td>2.000000</td>\n",
       "    </tr>\n",
       "    <tr>\n",
       "      <th>Internet computing</th>\n",
       "      <td>2.240741</td>\n",
       "    </tr>\n",
       "    <tr>\n",
       "      <th>Service science</th>\n",
       "      <td>2.000000</td>\n",
       "    </tr>\n",
       "    <tr>\n",
       "      <th>Signals, Images and Interfaces</th>\n",
       "      <td>2.175000</td>\n",
       "    </tr>\n",
       "    <tr>\n",
       "      <th>Software Systems</th>\n",
       "      <td>2.105263</td>\n",
       "    </tr>\n",
       "  </tbody>\n",
       "</table>\n",
       "</div>"
      ],
      "text/plain": [
       "                                Civilité\n",
       "Spécialisation                          \n",
       "Biocomputing                    1.500000\n",
       "Computer Engineering - SP       2.227273\n",
       "Computer Science Theory         2.000000\n",
       "Data Analytics                  1.750000\n",
       "Foundations of Software         2.289855\n",
       "Information Security - SP       2.428571\n",
       "Internet Information Systems    2.000000\n",
       "Internet computing              2.240741\n",
       "Service science                 2.000000\n",
       "Signals, Images and Interfaces  2.175000\n",
       "Software Systems                2.105263"
      ]
     },
     "execution_count": 369,
     "metadata": {},
     "output_type": "execute_result"
    }
   ],
   "source": [
    "specialization_count.reset_index().groupby(['Spécialisation']).mean()"
   ]
  },
  {
   "cell_type": "code",
   "execution_count": 371,
   "metadata": {
    "collapsed": false
   },
   "outputs": [
    {
     "data": {
      "text/html": [
       "<div>\n",
       "<table border=\"1\" class=\"dataframe\">\n",
       "  <thead>\n",
       "    <tr style=\"text-align: right;\">\n",
       "      <th></th>\n",
       "      <th>No Sciper</th>\n",
       "      <th>academic_year</th>\n",
       "      <th>Civilité</th>\n",
       "      <th>Mineur</th>\n",
       "      <th>Nom Prénom</th>\n",
       "      <th>Spécialisation</th>\n",
       "      <th>Statut</th>\n",
       "      <th>Semester</th>\n",
       "    </tr>\n",
       "  </thead>\n",
       "  <tbody>\n",
       "    <tr>\n",
       "      <th>42</th>\n",
       "      <td>172611</td>\n",
       "      <td>2007-2008</td>\n",
       "      <td>Monsieur</td>\n",
       "      <td>None</td>\n",
       "      <td>Kwanga Rodrigue</td>\n",
       "      <td>Biocomputing</td>\n",
       "      <td>Présent</td>\n",
       "      <td>Master semestre 1</td>\n",
       "    </tr>\n",
       "    <tr>\n",
       "      <th>971</th>\n",
       "      <td>172500</td>\n",
       "      <td>2007-2008</td>\n",
       "      <td>Madame</td>\n",
       "      <td>None</td>\n",
       "      <td>Diatchka Kremena Sotirova</td>\n",
       "      <td>Biocomputing</td>\n",
       "      <td>Présent</td>\n",
       "      <td>Master semestre 2</td>\n",
       "    </tr>\n",
       "    <tr>\n",
       "      <th>1039</th>\n",
       "      <td>154573</td>\n",
       "      <td>2008-2009</td>\n",
       "      <td>Madame</td>\n",
       "      <td>None</td>\n",
       "      <td>Benabdallah Zeineb</td>\n",
       "      <td>Biocomputing</td>\n",
       "      <td>Présent</td>\n",
       "      <td>Master semestre 2</td>\n",
       "    </tr>\n",
       "    <tr>\n",
       "      <th>1068</th>\n",
       "      <td>169734</td>\n",
       "      <td>2008-2009</td>\n",
       "      <td>Monsieur</td>\n",
       "      <td>None</td>\n",
       "      <td>Koller Yannick</td>\n",
       "      <td>Biocomputing</td>\n",
       "      <td>Présent</td>\n",
       "      <td>Master semestre 2</td>\n",
       "    </tr>\n",
       "    <tr>\n",
       "      <th>2022</th>\n",
       "      <td>172500</td>\n",
       "      <td>2007-2008</td>\n",
       "      <td>Madame</td>\n",
       "      <td>None</td>\n",
       "      <td>Diatchka Kremena Sotirova</td>\n",
       "      <td>Biocomputing</td>\n",
       "      <td>Stage</td>\n",
       "      <td>Master semestre 3</td>\n",
       "    </tr>\n",
       "    <tr>\n",
       "      <th>2024</th>\n",
       "      <td>160831</td>\n",
       "      <td>2007-2008</td>\n",
       "      <td>Monsieur</td>\n",
       "      <td>None</td>\n",
       "      <td>Dubout Charles</td>\n",
       "      <td>Biocomputing</td>\n",
       "      <td>Présent</td>\n",
       "      <td>Master semestre 3</td>\n",
       "    </tr>\n",
       "    <tr>\n",
       "      <th>2026</th>\n",
       "      <td>172503</td>\n",
       "      <td>2007-2008</td>\n",
       "      <td>Monsieur</td>\n",
       "      <td>None</td>\n",
       "      <td>Evans Nathaniel</td>\n",
       "      <td>Biocomputing</td>\n",
       "      <td>Présent</td>\n",
       "      <td>Master semestre 3</td>\n",
       "    </tr>\n",
       "    <tr>\n",
       "      <th>2033</th>\n",
       "      <td>161090</td>\n",
       "      <td>2007-2008</td>\n",
       "      <td>Monsieur</td>\n",
       "      <td>None</td>\n",
       "      <td>Habersaat Alexandre</td>\n",
       "      <td>Biocomputing</td>\n",
       "      <td>Présent</td>\n",
       "      <td>Master semestre 3</td>\n",
       "    </tr>\n",
       "    <tr>\n",
       "      <th>2046</th>\n",
       "      <td>160150</td>\n",
       "      <td>2007-2008</td>\n",
       "      <td>Monsieur</td>\n",
       "      <td>None</td>\n",
       "      <td>Lépine Simon</td>\n",
       "      <td>Biocomputing</td>\n",
       "      <td>Présent</td>\n",
       "      <td>Master semestre 3</td>\n",
       "    </tr>\n",
       "    <tr>\n",
       "      <th>2048</th>\n",
       "      <td>153640</td>\n",
       "      <td>2007-2008</td>\n",
       "      <td>Monsieur</td>\n",
       "      <td>None</td>\n",
       "      <td>Matthey-de-l'Endroit Loïc</td>\n",
       "      <td>Biocomputing</td>\n",
       "      <td>Présent</td>\n",
       "      <td>Master semestre 3</td>\n",
       "    </tr>\n",
       "    <tr>\n",
       "      <th>2059</th>\n",
       "      <td>154936</td>\n",
       "      <td>2007-2008</td>\n",
       "      <td>Monsieur</td>\n",
       "      <td>None</td>\n",
       "      <td>Resin Pascal</td>\n",
       "      <td>Biocomputing</td>\n",
       "      <td>Présent</td>\n",
       "      <td>Master semestre 3</td>\n",
       "    </tr>\n",
       "    <tr>\n",
       "      <th>2063</th>\n",
       "      <td>154969</td>\n",
       "      <td>2007-2008</td>\n",
       "      <td>Monsieur</td>\n",
       "      <td>None</td>\n",
       "      <td>Ruffieux Simon</td>\n",
       "      <td>Biocomputing</td>\n",
       "      <td>Présent</td>\n",
       "      <td>Master semestre 3</td>\n",
       "    </tr>\n",
       "    <tr>\n",
       "      <th>2081</th>\n",
       "      <td>154573</td>\n",
       "      <td>2008-2009</td>\n",
       "      <td>Madame</td>\n",
       "      <td>None</td>\n",
       "      <td>Benabdallah Zeineb</td>\n",
       "      <td>Biocomputing</td>\n",
       "      <td>Présent</td>\n",
       "      <td>Master semestre 3</td>\n",
       "    </tr>\n",
       "    <tr>\n",
       "      <th>2104</th>\n",
       "      <td>169734</td>\n",
       "      <td>2008-2009</td>\n",
       "      <td>Monsieur</td>\n",
       "      <td>None</td>\n",
       "      <td>Koller Yannick</td>\n",
       "      <td>Biocomputing</td>\n",
       "      <td>Présent</td>\n",
       "      <td>Master semestre 3</td>\n",
       "    </tr>\n",
       "    <tr>\n",
       "      <th>2124</th>\n",
       "      <td>154573</td>\n",
       "      <td>2009-2010</td>\n",
       "      <td>Madame</td>\n",
       "      <td>None</td>\n",
       "      <td>Benabdallah Zeineb</td>\n",
       "      <td>Biocomputing</td>\n",
       "      <td>Présent</td>\n",
       "      <td>Master semestre 3</td>\n",
       "    </tr>\n",
       "    <tr>\n",
       "      <th>2141</th>\n",
       "      <td>169734</td>\n",
       "      <td>2009-2010</td>\n",
       "      <td>Monsieur</td>\n",
       "      <td>None</td>\n",
       "      <td>Koller Yannick</td>\n",
       "      <td>Biocomputing</td>\n",
       "      <td>Présent</td>\n",
       "      <td>Master semestre 3</td>\n",
       "    </tr>\n",
       "    <tr>\n",
       "      <th>2156</th>\n",
       "      <td>183185</td>\n",
       "      <td>2009-2010</td>\n",
       "      <td>Madame</td>\n",
       "      <td>None</td>\n",
       "      <td>Yurovsky Alisa</td>\n",
       "      <td>Biocomputing</td>\n",
       "      <td>Présent</td>\n",
       "      <td>Master semestre 3</td>\n",
       "    </tr>\n",
       "    <tr>\n",
       "      <th>2806</th>\n",
       "      <td>160150</td>\n",
       "      <td>2007-2008</td>\n",
       "      <td>Monsieur</td>\n",
       "      <td>None</td>\n",
       "      <td>Lépine Simon</td>\n",
       "      <td>Biocomputing</td>\n",
       "      <td>Présent</td>\n",
       "      <td>Projet Master printemps</td>\n",
       "    </tr>\n",
       "    <tr>\n",
       "      <th>2815</th>\n",
       "      <td>154573</td>\n",
       "      <td>2009-2010</td>\n",
       "      <td>Madame</td>\n",
       "      <td>None</td>\n",
       "      <td>Benabdallah Zeineb</td>\n",
       "      <td>Biocomputing</td>\n",
       "      <td>Présent</td>\n",
       "      <td>Projet Master printemps</td>\n",
       "    </tr>\n",
       "  </tbody>\n",
       "</table>\n",
       "</div>"
      ],
      "text/plain": [
       "     No Sciper academic_year  Civilité Mineur                 Nom Prénom  \\\n",
       "42      172611     2007-2008  Monsieur   None            Kwanga Rodrigue   \n",
       "971     172500     2007-2008    Madame   None  Diatchka Kremena Sotirova   \n",
       "1039    154573     2008-2009    Madame   None         Benabdallah Zeineb   \n",
       "1068    169734     2008-2009  Monsieur   None             Koller Yannick   \n",
       "2022    172500     2007-2008    Madame   None  Diatchka Kremena Sotirova   \n",
       "2024    160831     2007-2008  Monsieur   None             Dubout Charles   \n",
       "2026    172503     2007-2008  Monsieur   None            Evans Nathaniel   \n",
       "2033    161090     2007-2008  Monsieur   None        Habersaat Alexandre   \n",
       "2046    160150     2007-2008  Monsieur   None               Lépine Simon   \n",
       "2048    153640     2007-2008  Monsieur   None  Matthey-de-l'Endroit Loïc   \n",
       "2059    154936     2007-2008  Monsieur   None               Resin Pascal   \n",
       "2063    154969     2007-2008  Monsieur   None             Ruffieux Simon   \n",
       "2081    154573     2008-2009    Madame   None         Benabdallah Zeineb   \n",
       "2104    169734     2008-2009  Monsieur   None             Koller Yannick   \n",
       "2124    154573     2009-2010    Madame   None         Benabdallah Zeineb   \n",
       "2141    169734     2009-2010  Monsieur   None             Koller Yannick   \n",
       "2156    183185     2009-2010    Madame   None             Yurovsky Alisa   \n",
       "2806    160150     2007-2008  Monsieur   None               Lépine Simon   \n",
       "2815    154573     2009-2010    Madame   None         Benabdallah Zeineb   \n",
       "\n",
       "     Spécialisation   Statut                 Semester  \n",
       "42     Biocomputing  Présent        Master semestre 1  \n",
       "971    Biocomputing  Présent        Master semestre 2  \n",
       "1039   Biocomputing  Présent        Master semestre 2  \n",
       "1068   Biocomputing  Présent        Master semestre 2  \n",
       "2022   Biocomputing    Stage        Master semestre 3  \n",
       "2024   Biocomputing  Présent        Master semestre 3  \n",
       "2026   Biocomputing  Présent        Master semestre 3  \n",
       "2033   Biocomputing  Présent        Master semestre 3  \n",
       "2046   Biocomputing  Présent        Master semestre 3  \n",
       "2048   Biocomputing  Présent        Master semestre 3  \n",
       "2059   Biocomputing  Présent        Master semestre 3  \n",
       "2063   Biocomputing  Présent        Master semestre 3  \n",
       "2081   Biocomputing  Présent        Master semestre 3  \n",
       "2104   Biocomputing  Présent        Master semestre 3  \n",
       "2124   Biocomputing  Présent        Master semestre 3  \n",
       "2141   Biocomputing  Présent        Master semestre 3  \n",
       "2156   Biocomputing  Présent        Master semestre 3  \n",
       "2806   Biocomputing  Présent  Projet Master printemps  \n",
       "2815   Biocomputing  Présent  Projet Master printemps  "
      ]
     },
     "execution_count": 371,
     "metadata": {},
     "output_type": "execute_result"
    }
   ],
   "source": [
    "master_all_semesters[(master_all_semesters.Spécialisation == 'Biocomputing') ]"
   ]
  },
  {
   "cell_type": "code",
   "execution_count": 378,
   "metadata": {
    "collapsed": false
   },
   "outputs": [],
   "source": [
    "people_with_spec_idx = master_all_semesters[(master_all_semesters.Statut == 'Présent') \n",
    "                     & (master_all_semesters.Spécialisation != 'None')]['No Sciper'].unique()"
   ]
  },
  {
   "cell_type": "code",
   "execution_count": 406,
   "metadata": {
    "collapsed": false
   },
   "outputs": [],
   "source": [
    "specialization_count = master_all_semesters.set_index('No Sciper').loc[people_with_spec_idx].reset_index().groupby(['Spécialisation','No Sciper']).count()['Civilité']"
   ]
  },
  {
   "cell_type": "code",
   "execution_count": 407,
   "metadata": {
    "collapsed": false
   },
   "outputs": [
    {
     "data": {
      "text/html": [
       "<div>\n",
       "<table border=\"1\" class=\"dataframe\">\n",
       "  <thead>\n",
       "    <tr style=\"text-align: right;\">\n",
       "      <th></th>\n",
       "      <th>Civilité</th>\n",
       "    </tr>\n",
       "    <tr>\n",
       "      <th>Spécialisation</th>\n",
       "      <th></th>\n",
       "    </tr>\n",
       "  </thead>\n",
       "  <tbody>\n",
       "    <tr>\n",
       "      <th>Biocomputing</th>\n",
       "      <td>1.583333</td>\n",
       "    </tr>\n",
       "    <tr>\n",
       "      <th>Computer Engineering - SP</th>\n",
       "      <td>2.409091</td>\n",
       "    </tr>\n",
       "    <tr>\n",
       "      <th>Computer Science Theory</th>\n",
       "      <td>2.000000</td>\n",
       "    </tr>\n",
       "    <tr>\n",
       "      <th>Data Analytics</th>\n",
       "      <td>1.750000</td>\n",
       "    </tr>\n",
       "    <tr>\n",
       "      <th>Foundations of Software</th>\n",
       "      <td>2.782609</td>\n",
       "    </tr>\n",
       "    <tr>\n",
       "      <th>Information Security - SP</th>\n",
       "      <td>2.428571</td>\n",
       "    </tr>\n",
       "    <tr>\n",
       "      <th>Internet Information Systems</th>\n",
       "      <td>2.000000</td>\n",
       "    </tr>\n",
       "    <tr>\n",
       "      <th>Internet computing</th>\n",
       "      <td>2.555556</td>\n",
       "    </tr>\n",
       "    <tr>\n",
       "      <th>None</th>\n",
       "      <td>1.381443</td>\n",
       "    </tr>\n",
       "    <tr>\n",
       "      <th>Service science</th>\n",
       "      <td>2.000000</td>\n",
       "    </tr>\n",
       "    <tr>\n",
       "      <th>Signals, Images and Interfaces</th>\n",
       "      <td>2.450000</td>\n",
       "    </tr>\n",
       "    <tr>\n",
       "      <th>Software Systems</th>\n",
       "      <td>2.368421</td>\n",
       "    </tr>\n",
       "  </tbody>\n",
       "</table>\n",
       "</div>"
      ],
      "text/plain": [
       "                                Civilité\n",
       "Spécialisation                          \n",
       "Biocomputing                    1.583333\n",
       "Computer Engineering - SP       2.409091\n",
       "Computer Science Theory         2.000000\n",
       "Data Analytics                  1.750000\n",
       "Foundations of Software         2.782609\n",
       "Information Security - SP       2.428571\n",
       "Internet Information Systems    2.000000\n",
       "Internet computing              2.555556\n",
       "None                            1.381443\n",
       "Service science                 2.000000\n",
       "Signals, Images and Interfaces  2.450000\n",
       "Software Systems                2.368421"
      ]
     },
     "execution_count": 407,
     "metadata": {},
     "output_type": "execute_result"
    }
   ],
   "source": [
    "specialization_count.reset_index().groupby(['Spécialisation']).mean()"
   ]
  },
  {
   "cell_type": "markdown",
   "metadata": {},
   "source": [
    "# Bonus"
   ]
  },
  {
   "cell_type": "code",
   "execution_count": null,
   "metadata": {
    "collapsed": true
   },
   "outputs": [],
   "source": []
  },
  {
   "cell_type": "code",
   "execution_count": null,
   "metadata": {
    "collapsed": true
   },
   "outputs": [],
   "source": []
  }
 ],
 "metadata": {
  "kernelspec": {
   "display_name": "Python 3",
   "language": "python",
   "name": "python3"
  },
  "language_info": {
   "codemirror_mode": {
    "name": "ipython",
    "version": 3
   },
   "file_extension": ".py",
   "mimetype": "text/x-python",
   "name": "python",
   "nbconvert_exporter": "python",
   "pygments_lexer": "ipython3",
   "version": "3.5.1"
  }
 },
 "nbformat": 4,
 "nbformat_minor": 0
}
