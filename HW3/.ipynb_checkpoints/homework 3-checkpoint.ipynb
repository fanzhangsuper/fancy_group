{
 "cells": [
  {
   "cell_type": "code",
   "execution_count": 47,
   "metadata": {
    "collapsed": true
   },
   "outputs": [],
   "source": [
    "import numpy as np\n",
    "import requests\n",
    "from bs4 import BeautifulSoup"
   ]
  },
  {
   "cell_type": "code",
   "execution_count": 119,
   "metadata": {
    "collapsed": false
   },
   "outputs": [],
   "source": [
    "parser = 'html.parser' # or 'lxml'\n",
    "filter_url = 'http://isa.epfl.ch/imoniteur_ISAP/!GEDPUBLICREPORTS.filter'\n",
    "table_url = 'http://isa.epfl.ch/imoniteur_ISAP/!GEDPUBLICREPORTS.html'\n",
    "\n",
    "#define the parameter\n",
    "payload = {'ww_i_reportModel':'133685247'}\n",
    "\n",
    "#define the table name\n",
    "table_name = {\n",
    "    'unite_faculty':'ww_x_UNITE_ACAD',\n",
    "    'academic_year':'ww_x_PERIODE_ACAD', \n",
    "    'semester':'ww_x_PERIODE_PEDAGO',\n",
    "    'season':'ww_x_HIVERETE'\n",
    "}\n",
    "\n",
    "# request example\n",
    "default_parameter_dict = {\n",
    "    'ww_b_list':1,\n",
    "    'ww_i_reportmodel':'133685247',\n",
    "    'ww_i_reportModelXsl':'133685270'\n",
    "}\n",
    "\n",
    "\n",
    "table_columns = [\n",
    "    'Civilité',\n",
    "    'Nom Prénom',\n",
    "    'Orientation Bachelor',\n",
    "    'Orientation Master',\n",
    "    'Spécialisation',\n",
    "    'Filière opt.',\n",
    "    'Mineur',\n",
    "    'Statut',\n",
    "    'Type Echange',\n",
    "    'Ecole Echange',\n",
    "    'No Sciper'\n",
    "]\n",
    "\n",
    "table_columns_dict = dict(\n",
    "    zip(table_columns, range(len(table_columns)))\n",
    ")           "
   ]
  },
  {
   "cell_type": "markdown",
   "metadata": {},
   "source": [
    "Find the URL"
   ]
  },
  {
   "cell_type": "code",
   "execution_count": 54,
   "metadata": {
    "collapsed": false
   },
   "outputs": [],
   "source": [
    "def build_key_map():\n",
    "    # get the URL\n",
    "    r = requests.get(filter_url, params = payload)\n",
    "    # convert to beautifulSoup\n",
    "    soup = BeautifulSoup(r.text, parser)\n",
    "    \n",
    "    # extract the dictionary for Unité académique\n",
    "    dict_unite = {}\n",
    "    for table_key in table_name.keys():\n",
    "        dict_unite_tem = {}\n",
    "        for unite in soup.select('select[name=%s] option' % table_name[table_key]):\n",
    "            if len(unite.contents) > 0:            \n",
    "                dict_unite_tem[(unite.contents)[0]] = unite['value'] \n",
    "        dict_unite[table_key] = dict_unite_tem\n",
    "    return dict_unite\n",
    "\n",
    "dict_unite = build_key_map()"
   ]
  },
  {
   "cell_type": "code",
   "execution_count": 61,
   "metadata": {
    "collapsed": true
   },
   "outputs": [],
   "source": [
    "# function to complete the parameter dictionary\n",
    "def func_parameter_dict(academic_year_str,season_str,semester_str,unite_faculty_str,dict_unite, gps = False):\n",
    "    # request example\n",
    "    parameter_dict = default_parameter_dict\n",
    "    parameter_dict[table_name['academic_year']] = dict_unite['academic_year'][academic_year_str]\n",
    "    parameter_dict[table_name['season']] = dict_unite['season'][season_str]\n",
    "    parameter_dict[table_name['semester']] = dict_unite['semester'][semester_str]\n",
    "    parameter_dict[table_name['unite_faculty']] = dict_unite['unite_faculty'][unite_faculty_str]\n",
    "    if gps:\n",
    "        parameter_dict['ww_x_GPS'] = -1\n",
    "    return parameter_dict"
   ]
  },
  {
   "cell_type": "code",
   "execution_count": 71,
   "metadata": {
    "collapsed": false
   },
   "outputs": [],
   "source": [
    "def get_required_webpage(academic_year_str,season_str,semester_str,unite_faculty_str,dict_unite):\n",
    "    parameter_dict = func_parameter_dict(academic_year_str,season_str,semester_str,unite_faculty_str,dict_unite)\n",
    "    # get the URL\n",
    "    r = requests.get(filter_url, params = parameter_dict)\n",
    "    # convert to beautifulSoup\n",
    "    soup = BeautifulSoup(r2.text, parser)\n",
    "    # check if the ww_x_GPS is exist or not, if it existed, ww_x_GPS == -1\n",
    "    if soup.select('a[class=%s]' % \"ww_x_GPS\")==[]:\n",
    "        print('The input is not valide')\n",
    "        raise RuntimeError\n",
    "        \n",
    "    # update parameter, add ww_x_GPS\n",
    "    gps_exist = True\n",
    "    parameter_dict_gps =  func_parameter_dict(academic_year_str,season_str,semester_str,\n",
    "                                          unite_faculty_str,dict_unite, gps_exist)\n",
    "\n",
    "    # get the URL\n",
    "    r_table = requests.get(table_url, params = parameter_dict_gps)\n",
    "    # convert to beautifulSoup\n",
    "    soup_table = BeautifulSoup(r_table.text, parser)\n",
    "    return soup_table"
   ]
  },
  {
   "cell_type": "code",
   "execution_count": 150,
   "metadata": {
    "collapsed": false
   },
   "outputs": [],
   "source": [
    "import pandas as pd\n",
    "\n",
    "def build_dataframe(soup, list_of_columns):\n",
    "    l = soup.select('table tr')\n",
    "    # The first row is the title of the table\n",
    "    # The second row is the label of columns\n",
    "    s = []\n",
    "    \n",
    "    for column in list_of_columns:\n",
    "        s.append([item.contents[table_columns_dict[column]].contents[0] for item in l[2:]])\n",
    "    \n",
    "    column_dict = dict(zip(list_of_columns, s))\n",
    "    df = pd.DataFrame(column_dict)\n",
    "    return df"
   ]
  },
  {
   "cell_type": "markdown",
   "metadata": {},
   "source": [
    "# Example"
   ]
  },
  {
   "cell_type": "code",
   "execution_count": 84,
   "metadata": {
    "collapsed": true
   },
   "outputs": [],
   "source": [
    "academic_year_str = '2007-2008'\n",
    "season_str = \"Semestre d'automne\"\n",
    "semester_str = 'Bachelor semestre 1'\n",
    "unite_faculty_str =  'Informatique'"
   ]
  },
  {
   "cell_type": "code",
   "execution_count": 154,
   "metadata": {
    "collapsed": false
   },
   "outputs": [],
   "source": [
    "# Get the Raw Webpage\n",
    "soup_table = get_required_webpage(academic_year_str,season_str,semester_str,unite_faculty_str,dict_unite)"
   ]
  },
  {
   "cell_type": "code",
   "execution_count": 155,
   "metadata": {
    "collapsed": false
   },
   "outputs": [],
   "source": [
    "# Create a DataFrame from the raw webpage\n",
    "df = build_dataframe(soup_table, ['No Sciper', 'Statut'])"
   ]
  },
  {
   "cell_type": "code",
   "execution_count": null,
   "metadata": {
    "collapsed": true
   },
   "outputs": [],
   "source": []
  }
 ],
 "metadata": {
  "kernelspec": {
   "display_name": "Python 3",
   "language": "python",
   "name": "python3"
  },
  "language_info": {
   "codemirror_mode": {
    "name": "ipython",
    "version": 3
   },
   "file_extension": ".py",
   "mimetype": "text/x-python",
   "name": "python",
   "nbconvert_exporter": "python",
   "pygments_lexer": "ipython3",
   "version": "3.5.2"
  }
 },
 "nbformat": 4,
 "nbformat_minor": 0
}
