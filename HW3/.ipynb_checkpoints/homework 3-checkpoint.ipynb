{
 "cells": [
  {
   "cell_type": "code",
   "execution_count": 1,
   "metadata": {
    "collapsed": true
   },
   "outputs": [],
   "source": [
    "import numpy as np\n",
    "import requests\n",
    "from bs4 import BeautifulSoup\n",
    "import scipy.stats as stats"
   ]
  },
  {
   "cell_type": "code",
   "execution_count": 2,
   "metadata": {
    "collapsed": false
   },
   "outputs": [],
   "source": [
    "parser = 'html.parser' # or 'lxml'\n",
    "filter_url = 'http://isa.epfl.ch/imoniteur_ISAP/!GEDPUBLICREPORTS.filter'\n",
    "table_url = 'http://isa.epfl.ch/imoniteur_ISAP/!GEDPUBLICREPORTS.html'\n",
    "\n",
    "#define the parameter\n",
    "payload = {'ww_i_reportModel':'133685247'}\n",
    "\n",
    "#define the table name\n",
    "table_name = {\n",
    "    'unite_faculty':'ww_x_UNITE_ACAD',\n",
    "    'academic_year':'ww_x_PERIODE_ACAD', \n",
    "    'semester':'ww_x_PERIODE_PEDAGO',\n",
    "    'season':'ww_x_HIVERETE'\n",
    "}\n",
    "\n",
    "# request example\n",
    "default_parameter_dict = {\n",
    "    'ww_b_list':1,\n",
    "    'ww_i_reportmodel':'133685247',\n",
    "    'ww_i_reportModelXsl':'133685270'\n",
    "}\n",
    "\n",
    "\n",
    "table_columns = [\n",
    "    'Civilité',\n",
    "    'Nom Prénom',\n",
    "    'Orientation Bachelor',\n",
    "    'Orientation Master',\n",
    "    'Spécialisation',\n",
    "    'Filière opt.',\n",
    "    'Mineur',\n",
    "    'Statut',\n",
    "    'Type Echange',\n",
    "    'Ecole Echange',\n",
    "    'No Sciper'\n",
    "]\n",
    "\n",
    "table_columns_dict = dict(\n",
    "    zip(table_columns, range(len(table_columns)))\n",
    ")           "
   ]
  },
  {
   "cell_type": "markdown",
   "metadata": {},
   "source": [
    "Find the URL"
   ]
  },
  {
   "cell_type": "code",
   "execution_count": 4,
   "metadata": {
    "collapsed": true
   },
   "outputs": [],
   "source": [
    "def get_url(input_url, parameters):\n",
    "    return requests.get(input_url, params=parameters, timeout=30)"
   ]
  },
  {
   "cell_type": "code",
   "execution_count": 5,
   "metadata": {
    "collapsed": false
   },
   "outputs": [],
   "source": [
    "def build_key_map():\n",
    "    # get the URL\n",
    "#     r = requests.get(filter_url, params = payload)\n",
    "    r = get_url(filter_url, payload)\n",
    "    # convert to beautifulSoup\n",
    "    soup = BeautifulSoup(r.text, parser)\n",
    "    \n",
    "    # extract the dictionary for Unité académique\n",
    "    dict_unite = {}\n",
    "    for table_key in table_name.keys():\n",
    "        dict_unite_tem = {}\n",
    "        for unite in soup.select('select[name=%s] option' % table_name[table_key]):\n",
    "            if len(unite.contents) > 0:            \n",
    "                dict_unite_tem[(unite.contents)[0]] = unite['value'] \n",
    "        dict_unite[table_key] = dict_unite_tem\n",
    "    return dict_unite\n",
    "\n",
    "dict_unite = build_key_map()"
   ]
  },
  {
   "cell_type": "code",
   "execution_count": 6,
   "metadata": {
    "collapsed": true
   },
   "outputs": [],
   "source": [
    "# function to complete the parameter dictionary\n",
    "def func_parameter_dict(academic_year_str,season_str,semester_str,unite_faculty_str,dict_unite, gps = False):\n",
    "    # request example\n",
    "    parameter_dict = default_parameter_dict\n",
    "    parameter_dict[table_name['academic_year']] = dict_unite['academic_year'][academic_year_str]\n",
    "    parameter_dict[table_name['season']] = dict_unite['season'][season_str]\n",
    "    parameter_dict[table_name['semester']] = dict_unite['semester'][semester_str]\n",
    "    parameter_dict[table_name['unite_faculty']] = dict_unite['unite_faculty'][unite_faculty_str]\n",
    "    if gps:\n",
    "        parameter_dict['ww_x_GPS'] = -1\n",
    "    return parameter_dict"
   ]
  },
  {
   "cell_type": "code",
   "execution_count": 7,
   "metadata": {
    "collapsed": false
   },
   "outputs": [],
   "source": [
    "def get_required_webpage(academic_year_str,season_str,semester_str,unite_faculty_str,dict_unite):\n",
    "    parameter_dict = func_parameter_dict(academic_year_str,season_str,semester_str,unite_faculty_str,dict_unite)\n",
    "    # get the URL\n",
    "#     r = requests.get(filter_url, params = parameter_dict)\n",
    "    r = get_url(filter_url, parameter_dict)\n",
    "    # convert to beautifulSoup\n",
    "    soup = BeautifulSoup(r.text, parser)\n",
    "    # check if the ww_x_GPS is exist or not, if it existed, ww_x_GPS == -1\n",
    "    if soup.select('a[class=%s]' % \"ww_x_GPS\")==[]:\n",
    "        print('The input is not valide')\n",
    "        print(semester_str)\n",
    "        raise RuntimeError\n",
    "        \n",
    "    # update parameter, add ww_x_GPS\n",
    "    gps_exist = True\n",
    "    parameter_dict_gps =  func_parameter_dict(academic_year_str,season_str,semester_str,\n",
    "                                          unite_faculty_str,dict_unite, gps_exist)\n",
    "\n",
    "    # get the URL\n",
    "    r_table = get_url(table_url, parameter_dict_gps)\n",
    "    # convert to beautifulSoup\n",
    "    soup_table = BeautifulSoup(r_table.text, parser)\n",
    "    return soup_table"
   ]
  },
  {
   "cell_type": "code",
   "execution_count": 8,
   "metadata": {
    "collapsed": false
   },
   "outputs": [],
   "source": [
    "import pandas as pd\n",
    "\n",
    "def build_dataframe(soup, list_of_columns):\n",
    "    l = soup.select('table tr')\n",
    "    # The first row is the title of the table\n",
    "    # The second row is the label of columns\n",
    "    s = []\n",
    "    \n",
    "    for column in list_of_columns:\n",
    "        temp_s = []\n",
    "        for item in l[2:]:\n",
    "            content = item.contents[table_columns_dict[column]].contents\n",
    "            if (content == []):\n",
    "                temp_s.append('None')\n",
    "            else:\n",
    "                temp_s.append(content[0])\n",
    "        s.append(temp_s)\n",
    "                \n",
    "    column_dict = dict(zip(list_of_columns, s))\n",
    "    df = pd.DataFrame(column_dict)\n",
    "    return df"
   ]
  },
  {
   "cell_type": "markdown",
   "metadata": {},
   "source": [
    "# Example"
   ]
  },
  {
   "cell_type": "code",
   "execution_count": 9,
   "metadata": {
    "collapsed": true
   },
   "outputs": [],
   "source": [
    "academic_year_str = '2007-2008'\n",
    "season_str = \"Semestre d'automne\"\n",
    "semester_str = 'Bachelor semestre 1'\n",
    "unite_faculty_str =  'Informatique'"
   ]
  },
  {
   "cell_type": "code",
   "execution_count": 10,
   "metadata": {
    "collapsed": false
   },
   "outputs": [],
   "source": [
    "# Get the Raw Webpage\n",
    "soup_table = get_required_webpage(academic_year_str,season_str,semester_str,unite_faculty_str,dict_unite)"
   ]
  },
  {
   "cell_type": "code",
   "execution_count": 11,
   "metadata": {
    "collapsed": false
   },
   "outputs": [
    {
     "data": {
      "text/html": [
       "<div>\n",
       "<table border=\"1\" class=\"dataframe\">\n",
       "  <thead>\n",
       "    <tr style=\"text-align: right;\">\n",
       "      <th></th>\n",
       "      <th>No Sciper</th>\n",
       "      <th>Statut</th>\n",
       "    </tr>\n",
       "  </thead>\n",
       "  <tbody>\n",
       "    <tr>\n",
       "      <th>0</th>\n",
       "      <td>169569</td>\n",
       "      <td>Présent</td>\n",
       "    </tr>\n",
       "    <tr>\n",
       "      <th>1</th>\n",
       "      <td>174905</td>\n",
       "      <td>Présent</td>\n",
       "    </tr>\n",
       "    <tr>\n",
       "      <th>2</th>\n",
       "      <td>173922</td>\n",
       "      <td>Présent</td>\n",
       "    </tr>\n",
       "    <tr>\n",
       "      <th>3</th>\n",
       "      <td>179406</td>\n",
       "      <td>Présent</td>\n",
       "    </tr>\n",
       "    <tr>\n",
       "      <th>4</th>\n",
       "      <td>179428</td>\n",
       "      <td>Présent</td>\n",
       "    </tr>\n",
       "  </tbody>\n",
       "</table>\n",
       "</div>"
      ],
      "text/plain": [
       "  No Sciper   Statut\n",
       "0    169569  Présent\n",
       "1    174905  Présent\n",
       "2    173922  Présent\n",
       "3    179406  Présent\n",
       "4    179428  Présent"
      ]
     },
     "execution_count": 11,
     "metadata": {},
     "output_type": "execute_result"
    }
   ],
   "source": [
    "# Create a DataFrame from the raw webpage\n",
    "df = build_dataframe(soup_table, ['No Sciper', 'Statut'])\n",
    "df.head()"
   ]
  },
  {
   "cell_type": "markdown",
   "metadata": {},
   "source": [
    "# Assignment 1"
   ]
  },
  {
   "cell_type": "code",
   "execution_count": 12,
   "metadata": {
    "collapsed": false
   },
   "outputs": [],
   "source": [
    "def func_get_semester_student(season_str, semester_str, unite_faculty_str, feature_list):\n",
    "    \"\"\"Request data for the given condition and return a dataframe. Only semester after 2007 is considered.\"\"\"\n",
    "    # Request for year 2007 to 2017 and build dataframes. \n",
    "    df_list = []\n",
    "    for year in range(2007, 2016):\n",
    "        academic_year_str = str(year) + '-' + str(year+1)\n",
    "        soup_table = get_required_webpage(academic_year_str,season_str,semester_str,unite_faculty_str,dict_unite)    \n",
    "        df =build_dataframe(soup_table, feature_list)\n",
    "        # Plugin a column of academic_year\n",
    "        df['academic_year']=academic_year_str\n",
    "        df_list.append(df)\n",
    "    \n",
    "    # Concatenate dataframe and insert a column of semester.\n",
    "    df = pd.concat(df_list)\n",
    "    df['Semester'] = semester_str\n",
    "    df1 = df.set_index(['No Sciper','academic_year'])\n",
    "    df2 = df.set_index(['No Sciper'])\n",
    "    unique_index = df2.index.unique()\n",
    "    return df1, unique_index"
   ]
  },
  {
   "cell_type": "code",
   "execution_count": 13,
   "metadata": {
    "collapsed": false
   },
   "outputs": [],
   "source": [
    "season_str = [\"Semestre d'automne\",\"Semestre de printemps\"]\n",
    "semester_str = ['Bachelor semestre 1','Bachelor semestre 6']\n",
    "feature_list = ['Nom Prénom', 'No Sciper', 'Statut', 'Civilité']\n",
    "unite_faculty_str =  'Informatique'\n",
    "df_semester_1,unique_index_1 = func_get_semester_student(season_str[0],semester_str[0],unite_faculty_str, feature_list)\n",
    "df_semester_6,unique_index_6 = func_get_semester_student(season_str[1],semester_str[1],unite_faculty_str, feature_list)"
   ]
  },
  {
   "cell_type": "code",
   "execution_count": 14,
   "metadata": {
    "collapsed": false,
    "scrolled": true
   },
   "outputs": [
    {
     "data": {
      "text/html": [
       "<div>\n",
       "<table border=\"1\" class=\"dataframe\">\n",
       "  <thead>\n",
       "    <tr style=\"text-align: right;\">\n",
       "      <th></th>\n",
       "      <th></th>\n",
       "      <th>Civilité</th>\n",
       "      <th>Nom Prénom</th>\n",
       "      <th>Statut</th>\n",
       "      <th>Semester</th>\n",
       "    </tr>\n",
       "    <tr>\n",
       "      <th>No Sciper</th>\n",
       "      <th>academic_year</th>\n",
       "      <th></th>\n",
       "      <th></th>\n",
       "      <th></th>\n",
       "      <th></th>\n",
       "    </tr>\n",
       "  </thead>\n",
       "  <tbody>\n",
       "    <tr>\n",
       "      <th>169569</th>\n",
       "      <th>2007-2008</th>\n",
       "      <td>Monsieur</td>\n",
       "      <td>Arévalo Christian</td>\n",
       "      <td>Présent</td>\n",
       "      <td>Bachelor semestre 1</td>\n",
       "    </tr>\n",
       "    <tr>\n",
       "      <th>174905</th>\n",
       "      <th>2007-2008</th>\n",
       "      <td>Monsieur</td>\n",
       "      <td>Aubelle Flavien</td>\n",
       "      <td>Présent</td>\n",
       "      <td>Bachelor semestre 1</td>\n",
       "    </tr>\n",
       "    <tr>\n",
       "      <th>173922</th>\n",
       "      <th>2007-2008</th>\n",
       "      <td>Monsieur</td>\n",
       "      <td>Badoud Morgan</td>\n",
       "      <td>Présent</td>\n",
       "      <td>Bachelor semestre 1</td>\n",
       "    </tr>\n",
       "    <tr>\n",
       "      <th>179406</th>\n",
       "      <th>2007-2008</th>\n",
       "      <td>Monsieur</td>\n",
       "      <td>Baeriswyl Jonathan</td>\n",
       "      <td>Présent</td>\n",
       "      <td>Bachelor semestre 1</td>\n",
       "    </tr>\n",
       "    <tr>\n",
       "      <th>179428</th>\n",
       "      <th>2007-2008</th>\n",
       "      <td>Monsieur</td>\n",
       "      <td>Barroco Michael</td>\n",
       "      <td>Présent</td>\n",
       "      <td>Bachelor semestre 1</td>\n",
       "    </tr>\n",
       "  </tbody>\n",
       "</table>\n",
       "</div>"
      ],
      "text/plain": [
       "                         Civilité          Nom Prénom   Statut  \\\n",
       "No Sciper academic_year                                          \n",
       "169569    2007-2008      Monsieur   Arévalo Christian  Présent   \n",
       "174905    2007-2008      Monsieur     Aubelle Flavien  Présent   \n",
       "173922    2007-2008      Monsieur       Badoud Morgan  Présent   \n",
       "179406    2007-2008      Monsieur  Baeriswyl Jonathan  Présent   \n",
       "179428    2007-2008      Monsieur     Barroco Michael  Présent   \n",
       "\n",
       "                                    Semester  \n",
       "No Sciper academic_year                       \n",
       "169569    2007-2008      Bachelor semestre 1  \n",
       "174905    2007-2008      Bachelor semestre 1  \n",
       "173922    2007-2008      Bachelor semestre 1  \n",
       "179406    2007-2008      Bachelor semestre 1  \n",
       "179428    2007-2008      Bachelor semestre 1  "
      ]
     },
     "execution_count": 14,
     "metadata": {},
     "output_type": "execute_result"
    }
   ],
   "source": [
    "df_semester_1.head()"
   ]
  },
  {
   "cell_type": "markdown",
   "metadata": {},
   "source": [
    "As there are some students have two or more bachelor semeseter 1s and bachelor semeseter 6s, we would like to find the *earliest* bacholor semester 1 and *last* bacholor semester 6 in EPFL."
   ]
  },
  {
   "cell_type": "code",
   "execution_count": 15,
   "metadata": {
    "collapsed": false
   },
   "outputs": [],
   "source": [
    "def find_beg_end_year(df_semester, unique_idx, find_end):\n",
    "    \"\"\"Return a dataframe with first year or last year in EPFL\"\"\"\n",
    "    unique_index = unique_idx\n",
    "    \n",
    "    # Sort dataframe so that the academic years are in the order `2007-2008`, `2008-2009`, ...\n",
    "    sorted_dataframe = df_semester.sort_index()\n",
    "    \n",
    "    list_year = []\n",
    "    list_Sciper = unique_idx\n",
    "    list_sex = []\n",
    "\n",
    "    # If we want to `find_end`, then `required_year_idx == -1` refers to the last element\n",
    "    # of sorted year, that is, the last year in a given semester\n",
    "    required_year_idx = -1 if find_end else 0\n",
    "    for i in unique_index:\n",
    "        academic_year = sorted_dataframe.loc[i,:].iloc[required_year_idx].name\n",
    "        list_year.append(academic_year)\n",
    "        list_sex.append(sorted_dataframe['Civilité'].loc[(i,academic_year)])\n",
    "    \n",
    "    dic = {'No Sciper':list_Sciper, 'academic_year':list_year, 'Civilité':list_sex}    \n",
    "    dataframe_dic = pd.DataFrame(dic)\n",
    "    \n",
    "    return dataframe_dic.set_index('No Sciper')"
   ]
  },
  {
   "cell_type": "code",
   "execution_count": 16,
   "metadata": {
    "collapsed": true
   },
   "outputs": [],
   "source": [
    "def find_beg_end_year1(df_semester, unique_sciper_idx, find_end):\n",
    "    \"\"\"Return a new dataframe with either first year or last year in EPFL\"\"\"    \n",
    "    if find_end:\n",
    "        grouped = df_semester.reset_index().groupby(['No Sciper']).max()\n",
    "    else:\n",
    "        grouped = df_semester.reset_index().groupby(['No Sciper']).min()\n",
    "    \n",
    "    required_index = grouped.reset_index().set_index(['No Sciper', 'academic_year']).index\n",
    "    \n",
    "    return df_semester.loc[required_index].reset_index().set_index(['No Sciper'])"
   ]
  },
  {
   "cell_type": "markdown",
   "metadata": {},
   "source": [
    "In assignment 1, we calculate the bachelor 1 and bachelor 6"
   ]
  },
  {
   "cell_type": "code",
   "execution_count": 17,
   "metadata": {
    "collapsed": false
   },
   "outputs": [],
   "source": [
    "semester1_frame = find_beg_end_year1(df_semester_1,unique_index_1, find_end=False)\n",
    "semester6_frame = find_beg_end_year1(df_semester_6,unique_index_6, find_end=True)"
   ]
  },
  {
   "cell_type": "code",
   "execution_count": 18,
   "metadata": {
    "collapsed": false
   },
   "outputs": [
    {
     "data": {
      "text/html": [
       "<div>\n",
       "<table border=\"1\" class=\"dataframe\">\n",
       "  <thead>\n",
       "    <tr style=\"text-align: right;\">\n",
       "      <th></th>\n",
       "      <th>academic_year</th>\n",
       "      <th>Civilité</th>\n",
       "      <th>Nom Prénom</th>\n",
       "      <th>Statut</th>\n",
       "      <th>Semester</th>\n",
       "    </tr>\n",
       "    <tr>\n",
       "      <th>No Sciper</th>\n",
       "      <th></th>\n",
       "      <th></th>\n",
       "      <th></th>\n",
       "      <th></th>\n",
       "      <th></th>\n",
       "    </tr>\n",
       "  </thead>\n",
       "  <tbody>\n",
       "    <tr>\n",
       "      <th>147008</th>\n",
       "      <td>2008-2009</td>\n",
       "      <td>Monsieur</td>\n",
       "      <td>Good Xavier</td>\n",
       "      <td>Présent</td>\n",
       "      <td>Bachelor semestre 1</td>\n",
       "    </tr>\n",
       "    <tr>\n",
       "      <th>161212</th>\n",
       "      <td>2009-2010</td>\n",
       "      <td>Monsieur</td>\n",
       "      <td>Tamesna Rachid</td>\n",
       "      <td>Présent</td>\n",
       "      <td>Bachelor semestre 1</td>\n",
       "    </tr>\n",
       "    <tr>\n",
       "      <th>169569</th>\n",
       "      <td>2007-2008</td>\n",
       "      <td>Monsieur</td>\n",
       "      <td>Arévalo Christian</td>\n",
       "      <td>Présent</td>\n",
       "      <td>Bachelor semestre 1</td>\n",
       "    </tr>\n",
       "    <tr>\n",
       "      <th>169731</th>\n",
       "      <td>2007-2008</td>\n",
       "      <td>Monsieur</td>\n",
       "      <td>Knecht Mathieu</td>\n",
       "      <td>Présent</td>\n",
       "      <td>Bachelor semestre 1</td>\n",
       "    </tr>\n",
       "    <tr>\n",
       "      <th>169795</th>\n",
       "      <td>2007-2008</td>\n",
       "      <td>Monsieur</td>\n",
       "      <td>Scheiben Pascal</td>\n",
       "      <td>Présent</td>\n",
       "      <td>Bachelor semestre 1</td>\n",
       "    </tr>\n",
       "  </tbody>\n",
       "</table>\n",
       "</div>"
      ],
      "text/plain": [
       "          academic_year  Civilité         Nom Prénom   Statut  \\\n",
       "No Sciper                                                       \n",
       "147008        2008-2009  Monsieur        Good Xavier  Présent   \n",
       "161212        2009-2010  Monsieur     Tamesna Rachid  Présent   \n",
       "169569        2007-2008  Monsieur  Arévalo Christian  Présent   \n",
       "169731        2007-2008  Monsieur     Knecht Mathieu  Présent   \n",
       "169795        2007-2008  Monsieur    Scheiben Pascal  Présent   \n",
       "\n",
       "                      Semester  \n",
       "No Sciper                       \n",
       "147008     Bachelor semestre 1  \n",
       "161212     Bachelor semestre 1  \n",
       "169569     Bachelor semestre 1  \n",
       "169731     Bachelor semestre 1  \n",
       "169795     Bachelor semestre 1  "
      ]
     },
     "execution_count": 18,
     "metadata": {},
     "output_type": "execute_result"
    }
   ],
   "source": [
    "semester1_frame.head()"
   ]
  },
  {
   "cell_type": "code",
   "execution_count": 19,
   "metadata": {
    "collapsed": false
   },
   "outputs": [
    {
     "data": {
      "text/html": [
       "<div>\n",
       "<table border=\"1\" class=\"dataframe\">\n",
       "  <thead>\n",
       "    <tr style=\"text-align: right;\">\n",
       "      <th></th>\n",
       "      <th>start</th>\n",
       "      <th>end</th>\n",
       "      <th>Civilité</th>\n",
       "      <th>duration(month)</th>\n",
       "    </tr>\n",
       "    <tr>\n",
       "      <th>No Sciper</th>\n",
       "      <th></th>\n",
       "      <th></th>\n",
       "      <th></th>\n",
       "      <th></th>\n",
       "    </tr>\n",
       "  </thead>\n",
       "  <tbody>\n",
       "    <tr>\n",
       "      <th>169569</th>\n",
       "      <td>2007-2008</td>\n",
       "      <td>2009-2010</td>\n",
       "      <td>Monsieur</td>\n",
       "      <td>36</td>\n",
       "    </tr>\n",
       "    <tr>\n",
       "      <th>169731</th>\n",
       "      <td>2007-2008</td>\n",
       "      <td>2010-2011</td>\n",
       "      <td>Monsieur</td>\n",
       "      <td>48</td>\n",
       "    </tr>\n",
       "    <tr>\n",
       "      <th>169795</th>\n",
       "      <td>2007-2008</td>\n",
       "      <td>2010-2011</td>\n",
       "      <td>Monsieur</td>\n",
       "      <td>48</td>\n",
       "    </tr>\n",
       "    <tr>\n",
       "      <th>171195</th>\n",
       "      <td>2007-2008</td>\n",
       "      <td>2009-2010</td>\n",
       "      <td>Monsieur</td>\n",
       "      <td>36</td>\n",
       "    </tr>\n",
       "    <tr>\n",
       "      <th>171619</th>\n",
       "      <td>2007-2008</td>\n",
       "      <td>2009-2010</td>\n",
       "      <td>Monsieur</td>\n",
       "      <td>36</td>\n",
       "    </tr>\n",
       "  </tbody>\n",
       "</table>\n",
       "</div>"
      ],
      "text/plain": [
       "               start        end  Civilité  duration(month)\n",
       "No Sciper                                                 \n",
       "169569     2007-2008  2009-2010  Monsieur               36\n",
       "169731     2007-2008  2010-2011  Monsieur               48\n",
       "169795     2007-2008  2010-2011  Monsieur               48\n",
       "171195     2007-2008  2009-2010  Monsieur               36\n",
       "171619     2007-2008  2009-2010  Monsieur               36"
      ]
     },
     "execution_count": 19,
     "metadata": {},
     "output_type": "execute_result"
    }
   ],
   "source": [
    "# Select students who appears in both bachelor semeseter 1 and 6\n",
    "id = semester1_frame[semester1_frame.Statut == 'Présent'].index\\\n",
    "        .intersection(semester6_frame[semester6_frame.Statut == 'Présent'].index)\n",
    "\n",
    "# Concatenate two dataframes and compute the parse the academic year to \n",
    "result = pd.concat([semester1_frame[['academic_year']].loc[id], \n",
    "                    semester6_frame[['academic_year', 'Civilité']].loc[id]],axis = 1)\n",
    "\n",
    "result.columns = ['start', 'end', 'Civilité']\n",
    "\n",
    "# Parse string and calculate the duration in month\n",
    "year_in_months = 12\n",
    "result['duration(month)'] = result.apply(lambda x: year_in_months * \n",
    "                                         (int(x.iloc[1].split('-')[1])-int(x.iloc[0].split('-')[0])), axis=1)\n",
    "\n",
    "result.head()"
   ]
  },
  {
   "cell_type": "code",
   "execution_count": 20,
   "metadata": {
    "collapsed": true
   },
   "outputs": [],
   "source": [
    "import matplotlib.pyplot as plt\n",
    "import seaborn as sns\n",
    "%matplotlib inline"
   ]
  },
  {
   "cell_type": "code",
   "execution_count": 21,
   "metadata": {
    "collapsed": false
   },
   "outputs": [
    {
     "data": {
      "text/html": [
       "<div>\n",
       "<table border=\"1\" class=\"dataframe\">\n",
       "  <thead>\n",
       "    <tr>\n",
       "      <th></th>\n",
       "      <th colspan=\"2\" halign=\"left\">duration(month)</th>\n",
       "    </tr>\n",
       "    <tr>\n",
       "      <th></th>\n",
       "      <th>mean</th>\n",
       "      <th>std</th>\n",
       "    </tr>\n",
       "    <tr>\n",
       "      <th>start</th>\n",
       "      <th></th>\n",
       "      <th></th>\n",
       "    </tr>\n",
       "  </thead>\n",
       "  <tbody>\n",
       "    <tr>\n",
       "      <th>2007-2008</th>\n",
       "      <td>42.857143</td>\n",
       "      <td>8.901578</td>\n",
       "    </tr>\n",
       "    <tr>\n",
       "      <th>2008-2009</th>\n",
       "      <td>43.411765</td>\n",
       "      <td>10.239903</td>\n",
       "    </tr>\n",
       "    <tr>\n",
       "      <th>2009-2010</th>\n",
       "      <td>48.000000</td>\n",
       "      <td>12.828540</td>\n",
       "    </tr>\n",
       "    <tr>\n",
       "      <th>2010-2011</th>\n",
       "      <td>42.418605</td>\n",
       "      <td>8.006642</td>\n",
       "    </tr>\n",
       "    <tr>\n",
       "      <th>2011-2012</th>\n",
       "      <td>44.769231</td>\n",
       "      <td>9.831154</td>\n",
       "    </tr>\n",
       "    <tr>\n",
       "      <th>2012-2013</th>\n",
       "      <td>42.000000</td>\n",
       "      <td>6.052403</td>\n",
       "    </tr>\n",
       "    <tr>\n",
       "      <th>2013-2014</th>\n",
       "      <td>36.000000</td>\n",
       "      <td>0.000000</td>\n",
       "    </tr>\n",
       "  </tbody>\n",
       "</table>\n",
       "</div>"
      ],
      "text/plain": [
       "          duration(month)           \n",
       "                     mean        std\n",
       "start                               \n",
       "2007-2008       42.857143   8.901578\n",
       "2008-2009       43.411765  10.239903\n",
       "2009-2010       48.000000  12.828540\n",
       "2010-2011       42.418605   8.006642\n",
       "2011-2012       44.769231   9.831154\n",
       "2012-2013       42.000000   6.052403\n",
       "2013-2014       36.000000   0.000000"
      ]
     },
     "execution_count": 21,
     "metadata": {},
     "output_type": "execute_result"
    }
   ],
   "source": [
    "result.groupby(['start']).agg([np.mean, np.std])"
   ]
  },
  {
   "cell_type": "markdown",
   "metadata": {},
   "source": [
    "### Average time spend for 6 semesters\n",
    "Every year, student on average spend around `42` month on the 6 semesters. During `2009-2010`, people spend longer time (around 48 month). During `2013-2014`, on the other hand, all students graduated with 36 months."
   ]
  },
  {
   "cell_type": "code",
   "execution_count": 22,
   "metadata": {
    "collapsed": false
   },
   "outputs": [
    {
     "data": {
      "image/png": "[encoded data removed]",
      "text/plain": [
       "<matplotlib.figure.Figure at 0x10baae588>"
      ]
     },
     "metadata": {},
     "output_type": "display_data"
    }
   ],
   "source": [
    "l = []\n",
    "star_year = []\n",
    "for key, grp in result.groupby(['start']):\n",
    "    l.append(grp['duration(month)'])\n",
    "    star_year.append(key)\n",
    "\n",
    "plt.boxplot(l,labels=star_year,)\n",
    "plt.xlabel('start year')\n",
    "plt.ylabel('average duration (in month)')\n",
    "fig_size = plt.rcParams[\"figure.figsize\"]\n",
    "fig_size[0] = 22\n",
    "fig_size[1] = 9\n",
    "plt.show()"
   ]
  },
  {
   "cell_type": "markdown",
   "metadata": {},
   "source": [
    "### Discuss the relation between average stay time and sex\n",
    "Observe the following plot. Before `2011-2012`, females usually spend less times than males to graudate. After that, the difference become smaller. We first guess that female and male student have same expected graduate time and the deviation is due to the small number of females."
   ]
  },
  {
   "cell_type": "code",
   "execution_count": 23,
   "metadata": {
    "collapsed": false
   },
   "outputs": [
    {
     "data": {
      "text/plain": [
       "start      Civilité  duration(month)\n",
       "2007-2008  Monsieur  36                 15\n",
       "                     48                 11\n",
       "                     60                  1\n",
       "                     72                  1\n",
       "2008-2009  Madame    36                  3\n",
       "                     48                  1\n",
       "           Monsieur  36                 17\n",
       "                     48                  7\n",
       "                     60                  5\n",
       "                     72                  1\n",
       "2009-2010  Madame    36                  1\n",
       "                     48                  1\n",
       "           Monsieur  36                 14\n",
       "                     48                  9\n",
       "                     60                  8\n",
       "                     72                  2\n",
       "                     84                  1\n",
       "2010-2011  Madame    36                  2\n",
       "           Monsieur  36                 22\n",
       "                     48                 15\n",
       "                     60                  4\n",
       "2011-2012  Madame    36                  4\n",
       "                     48                  1\n",
       "                     60                  1\n",
       "           Monsieur  36                 22\n",
       "                     48                 13\n",
       "                     60                 11\n",
       "2012-2013  Madame    48                  2\n",
       "                     36                  1\n",
       "           Monsieur  36                 28\n",
       "                     48                 27\n",
       "2013-2014  Madame    36                  6\n",
       "           Monsieur  36                 30\n",
       "Name: duration(month), dtype: int64"
      ]
     },
     "execution_count": 23,
     "metadata": {},
     "output_type": "execute_result"
    }
   ],
   "source": [
    "gender_bachelor = result.reset_index().groupby(['start', 'Civilité'])['duration(month)'].value_counts()\n",
    "gender_bachelor"
   ]
  },
  {
   "cell_type": "code",
   "execution_count": 24,
   "metadata": {
    "collapsed": false
   },
   "outputs": [
    {
     "data": {
      "image/png": "[encoded data removed]",
      "text/plain": [
       "<matplotlib.figure.Figure at 0x10ceac550>"
      ]
     },
     "metadata": {},
     "output_type": "display_data"
    }
   ],
   "source": [
    "# plt.rcParams['figure.figsize']=(10,10)\n",
    "g = sns.FacetGrid(result.reset_index(), size=6, aspect=1.1)\n",
    "g = g.map(sns.violinplot, \"start\", \"duration(month)\",\"Civilité\",\n",
    "          inner=None, linewidth=1, scale=\"area\", split=True, width=0.75, size=12)\\\n",
    "        .despine(left=True).add_legend(title=\"sex\")"
   ]
  },
  {
   "cell_type": "markdown",
   "metadata": {},
   "source": [
    "#### Statistic Test\n",
    "The **null hypothesis** is: females and males spend same amount of time to get a bachelor's degree on average.\n",
    "\n",
    "It is reasonable to assume that admission standard of EPFL did not change a lot in between 2007 to now. Besides, we also would like to assume that the difficulty of the courses don't change over time. So the expected time spend on 6 semester should remain unchanged for both male and female. As a result, we focus on the relation between `sex` and `duration`, and didn't take `academic_year` into consideration. In this way, we can also avoid pitfall of the lack of female students. \n",
    "\n",
    "We use two sample T-test to reject/accept this hypothesis. \n",
    "We set **confidence level** to be 95%, that is, the pvalue is 5%."
   ]
  },
  {
   "cell_type": "code",
   "execution_count": 27,
   "metadata": {
    "collapsed": false
   },
   "outputs": [
    {
     "data": {
      "text/plain": [
       "Ttest_indResult(statistic=1.7339405546205549, pvalue=0.084010005783334576)"
      ]
     },
     "execution_count": 27,
     "metadata": {},
     "output_type": "execute_result"
    }
   ],
   "source": [
    "group_bachelor_sex = result.reset_index()[['Civilité', 'duration(month)']].groupby('Civilité')\n",
    "male_time = group_bachelor_sex.get_group('Monsieur')['duration(month)']\n",
    "female_time = group_bachelor_sex.get_group('Madame')['duration(month)']\n",
    "stats.ttest_ind(a= male_time,\n",
    "                b= female_time)"
   ]
  },
  {
   "cell_type": "markdown",
   "metadata": {},
   "source": [
    "As the pvalue is approximately 8.4% which is slightly larger than 5%, we believe the above case is not extreme event. Thus the null hypothesis hold under such confidence level. We believe, female students and male students have same expected duration between semester 1 and semester 6."
   ]
  },
  {
   "cell_type": "markdown",
   "metadata": {},
   "source": [
    "## Assignment 2"
   ]
  },
  {
   "cell_type": "markdown",
   "metadata": {},
   "source": [
    "The first part of the assginment, we request data from `'Master semestre 1','Master semestre 2','Master semestre 3','Projet Master automne','Projet Master printemps'`. The seasons can be uniquely determined for these semeseters. And the unite is fixed to be `informatique`. We parse the data from the webpage and build a datafram for all master students.\n",
    "\n",
    "Instead of paying additional attention to `Mineur` and `project`, we only count `Présent` of an student for the semeseter/project. If a student has a `Mineur`, then he will be included in `Master semestre 3`. The same logic applies to master projects. In this way, we can treat each semseter uniformly."
   ]
  },
  {
   "cell_type": "code",
   "execution_count": 282,
   "metadata": {
    "collapsed": false,
    "scrolled": true
   },
   "outputs": [],
   "source": [
    "# extract the semester 1 and semester 2 student list\n",
    "season_str = [\"Semestre d'automne\",\"Semestre de printemps\"]\n",
    "semester_str = ['Master semestre 1','Master semestre 2','Master semestre 3','Projet Master automne','Projet Master printemps']\n",
    "feature_list = ['Nom Prénom', 'No Sciper', 'Statut', 'Civilité','Spécialisation','Mineur']\n",
    "unite_faculty_str =  'Informatique'\n",
    "\n",
    "df_master_semester_1,unique_master_index_1 = func_get_semester_student(season_str[0],semester_str[0],unite_faculty_str, feature_list)\n",
    "df_master_semester_2,unique_master_index_2 = func_get_semester_student(season_str[1],semester_str[1],unite_faculty_str, feature_list)\n",
    "df_master_semester_3,unique_master_index_3 = func_get_semester_student(season_str[0],semester_str[2],unite_faculty_str, feature_list)\n",
    "df_master_project_1,unique_master_project_index_1 = func_get_semester_student(season_str[0],semester_str[3],unite_faculty_str, feature_list)\n",
    "df_master_project_2,unique_master_project_index_2 = func_get_semester_student(season_str[1],semester_str[4],unite_faculty_str, feature_list)"
   ]
  },
  {
   "cell_type": "code",
   "execution_count": 487,
   "metadata": {
    "collapsed": false
   },
   "outputs": [
    {
     "data": {
      "text/html": [
       "<div>\n",
       "<table border=\"1\" class=\"dataframe\">\n",
       "  <thead>\n",
       "    <tr style=\"text-align: right;\">\n",
       "      <th></th>\n",
       "      <th></th>\n",
       "      <th>Civilité</th>\n",
       "      <th>Mineur</th>\n",
       "      <th>Nom Prénom</th>\n",
       "      <th>Spécialisation</th>\n",
       "      <th>Statut</th>\n",
       "      <th>Semester</th>\n",
       "    </tr>\n",
       "    <tr>\n",
       "      <th>No Sciper</th>\n",
       "      <th>academic_year</th>\n",
       "      <th></th>\n",
       "      <th></th>\n",
       "      <th></th>\n",
       "      <th></th>\n",
       "      <th></th>\n",
       "      <th></th>\n",
       "    </tr>\n",
       "  </thead>\n",
       "  <tbody>\n",
       "    <tr>\n",
       "      <th>159852</th>\n",
       "      <th>2007-2008</th>\n",
       "      <td>Monsieur</td>\n",
       "      <td>None</td>\n",
       "      <td>Brutsche Florian</td>\n",
       "      <td>Internet computing</td>\n",
       "      <td>Congé</td>\n",
       "      <td>Projet Master printemps</td>\n",
       "    </tr>\n",
       "    <tr>\n",
       "      <th>153819</th>\n",
       "      <th>2007-2008</th>\n",
       "      <td>Monsieur</td>\n",
       "      <td>None</td>\n",
       "      <td>Dotta Mirco</td>\n",
       "      <td>None</td>\n",
       "      <td>Stage</td>\n",
       "      <td>Projet Master printemps</td>\n",
       "    </tr>\n",
       "    <tr>\n",
       "      <th>145957</th>\n",
       "      <th>2007-2008</th>\n",
       "      <td>Monsieur</td>\n",
       "      <td>None</td>\n",
       "      <td>Hügli Michael</td>\n",
       "      <td>None</td>\n",
       "      <td>Stage</td>\n",
       "      <td>Projet Master printemps</td>\n",
       "    </tr>\n",
       "    <tr>\n",
       "      <th>173257</th>\n",
       "      <th>2007-2008</th>\n",
       "      <td>Monsieur</td>\n",
       "      <td>None</td>\n",
       "      <td>Indra Saurabh</td>\n",
       "      <td>None</td>\n",
       "      <td>Présent</td>\n",
       "      <td>Projet Master printemps</td>\n",
       "    </tr>\n",
       "    <tr>\n",
       "      <th>160150</th>\n",
       "      <th>2007-2008</th>\n",
       "      <td>Monsieur</td>\n",
       "      <td>None</td>\n",
       "      <td>Lépine Simon</td>\n",
       "      <td>Biocomputing</td>\n",
       "      <td>Présent</td>\n",
       "      <td>Projet Master printemps</td>\n",
       "    </tr>\n",
       "  </tbody>\n",
       "</table>\n",
       "</div>"
      ],
      "text/plain": [
       "                         Civilité Mineur        Nom Prénom  \\\n",
       "No Sciper academic_year                                      \n",
       "159852    2007-2008      Monsieur   None  Brutsche Florian   \n",
       "153819    2007-2008      Monsieur   None       Dotta Mirco   \n",
       "145957    2007-2008      Monsieur   None     Hügli Michael   \n",
       "173257    2007-2008      Monsieur   None     Indra Saurabh   \n",
       "160150    2007-2008      Monsieur   None      Lépine Simon   \n",
       "\n",
       "                             Spécialisation   Statut                 Semester  \n",
       "No Sciper academic_year                                                        \n",
       "159852    2007-2008      Internet computing    Congé  Projet Master printemps  \n",
       "153819    2007-2008                    None    Stage  Projet Master printemps  \n",
       "145957    2007-2008                    None    Stage  Projet Master printemps  \n",
       "173257    2007-2008                    None  Présent  Projet Master printemps  \n",
       "160150    2007-2008            Biocomputing  Présent  Projet Master printemps  "
      ]
     },
     "execution_count": 487,
     "metadata": {},
     "output_type": "execute_result"
    }
   ],
   "source": [
    "df_master_project_2.head()"
   ]
  },
  {
   "cell_type": "code",
   "execution_count": 841,
   "metadata": {
    "collapsed": false
   },
   "outputs": [
    {
     "data": {
      "text/html": [
       "<div>\n",
       "<table border=\"1\" class=\"dataframe\">\n",
       "  <thead>\n",
       "    <tr style=\"text-align: right;\">\n",
       "      <th></th>\n",
       "      <th>No Sciper</th>\n",
       "      <th>academic_year</th>\n",
       "      <th>Civilité</th>\n",
       "      <th>Mineur</th>\n",
       "      <th>Nom Prénom</th>\n",
       "      <th>Spécialisation</th>\n",
       "      <th>Statut</th>\n",
       "      <th>Semester</th>\n",
       "    </tr>\n",
       "  </thead>\n",
       "  <tbody>\n",
       "    <tr>\n",
       "      <th>0</th>\n",
       "      <td>153066</td>\n",
       "      <td>2007-2008</td>\n",
       "      <td>Monsieur</td>\n",
       "      <td>None</td>\n",
       "      <td>Aeberhard François-Xavier</td>\n",
       "      <td>None</td>\n",
       "      <td>Présent</td>\n",
       "      <td>Master semestre 1</td>\n",
       "    </tr>\n",
       "    <tr>\n",
       "      <th>1</th>\n",
       "      <td>180027</td>\n",
       "      <td>2007-2008</td>\n",
       "      <td>Madame</td>\n",
       "      <td>None</td>\n",
       "      <td>Agarwal Megha</td>\n",
       "      <td>None</td>\n",
       "      <td>Présent</td>\n",
       "      <td>Master semestre 1</td>\n",
       "    </tr>\n",
       "    <tr>\n",
       "      <th>2</th>\n",
       "      <td>152232</td>\n",
       "      <td>2007-2008</td>\n",
       "      <td>Monsieur</td>\n",
       "      <td>None</td>\n",
       "      <td>Anagnostaras David</td>\n",
       "      <td>None</td>\n",
       "      <td>Présent</td>\n",
       "      <td>Master semestre 1</td>\n",
       "    </tr>\n",
       "    <tr>\n",
       "      <th>3</th>\n",
       "      <td>177395</td>\n",
       "      <td>2007-2008</td>\n",
       "      <td>Monsieur</td>\n",
       "      <td>None</td>\n",
       "      <td>Auroux Damien</td>\n",
       "      <td>None</td>\n",
       "      <td>Présent</td>\n",
       "      <td>Master semestre 1</td>\n",
       "    </tr>\n",
       "    <tr>\n",
       "      <th>4</th>\n",
       "      <td>161970</td>\n",
       "      <td>2007-2008</td>\n",
       "      <td>Monsieur</td>\n",
       "      <td>None</td>\n",
       "      <td>Awalebo Joseph</td>\n",
       "      <td>None</td>\n",
       "      <td>Présent</td>\n",
       "      <td>Master semestre 1</td>\n",
       "    </tr>\n",
       "  </tbody>\n",
       "</table>\n",
       "</div>"
      ],
      "text/plain": [
       "  No Sciper academic_year  Civilité Mineur                 Nom Prénom  \\\n",
       "0    153066     2007-2008  Monsieur   None  Aeberhard François-Xavier   \n",
       "1    180027     2007-2008    Madame   None              Agarwal Megha   \n",
       "2    152232     2007-2008  Monsieur   None         Anagnostaras David   \n",
       "3    177395     2007-2008  Monsieur   None              Auroux Damien   \n",
       "4    161970     2007-2008  Monsieur   None             Awalebo Joseph   \n",
       "\n",
       "  Spécialisation   Statut           Semester  \n",
       "0           None  Présent  Master semestre 1  \n",
       "1           None  Présent  Master semestre 1  \n",
       "2           None  Présent  Master semestre 1  \n",
       "3           None  Présent  Master semestre 1  \n",
       "4           None  Présent  Master semestre 1  "
      ]
     },
     "execution_count": 841,
     "metadata": {},
     "output_type": "execute_result"
    }
   ],
   "source": [
    "master_all_semesters = pd.concat([df_master_semester_1, df_master_semester_2,\\\n",
    "                                  df_master_semester_3, df_master_project_1, df_master_project_2]).reset_index()\n",
    "\n",
    "master_all_semesters.head()"
   ]
  },
  {
   "cell_type": "code",
   "execution_count": 603,
   "metadata": {
    "collapsed": false
   },
   "outputs": [],
   "source": [
    "semeseter_count = master_all_semesters[\n",
    "    master_all_semesters.Statut == \"Présent\"].groupby(['No Sciper']).count()['Civilité']"
   ]
  },
  {
   "cell_type": "code",
   "execution_count": 604,
   "metadata": {
    "collapsed": false
   },
   "outputs": [],
   "source": [
    "master_start_year = master_all_semesters[\n",
    "    master_all_semesters.Statut == \"Présent\"].groupby('No Sciper').min()[['academic_year', 'Civilité']]"
   ]
  },
  {
   "cell_type": "code",
   "execution_count": 605,
   "metadata": {
    "collapsed": false
   },
   "outputs": [],
   "source": [
    "master_start_and_counting = pd.concat([semeseter_count, master_start_year], axis=1)"
   ]
  },
  {
   "cell_type": "code",
   "execution_count": 606,
   "metadata": {
    "collapsed": false
   },
   "outputs": [
    {
     "data": {
      "text/html": [
       "<div>\n",
       "<table border=\"1\" class=\"dataframe\">\n",
       "  <thead>\n",
       "    <tr style=\"text-align: right;\">\n",
       "      <th></th>\n",
       "      <th>No Sciper</th>\n",
       "      <th>Civilité</th>\n",
       "      <th>academic_year</th>\n",
       "      <th>Civilité</th>\n",
       "    </tr>\n",
       "  </thead>\n",
       "  <tbody>\n",
       "    <tr>\n",
       "      <th>0</th>\n",
       "      <td>128911</td>\n",
       "      <td>2</td>\n",
       "      <td>2007-2008</td>\n",
       "      <td>Monsieur</td>\n",
       "    </tr>\n",
       "    <tr>\n",
       "      <th>1</th>\n",
       "      <td>129093</td>\n",
       "      <td>1</td>\n",
       "      <td>2007-2008</td>\n",
       "      <td>Monsieur</td>\n",
       "    </tr>\n",
       "    <tr>\n",
       "      <th>2</th>\n",
       "      <td>129326</td>\n",
       "      <td>2</td>\n",
       "      <td>2007-2008</td>\n",
       "      <td>Monsieur</td>\n",
       "    </tr>\n",
       "    <tr>\n",
       "      <th>3</th>\n",
       "      <td>138088</td>\n",
       "      <td>1</td>\n",
       "      <td>2007-2008</td>\n",
       "      <td>Monsieur</td>\n",
       "    </tr>\n",
       "    <tr>\n",
       "      <th>4</th>\n",
       "      <td>145546</td>\n",
       "      <td>1</td>\n",
       "      <td>2007-2008</td>\n",
       "      <td>Monsieur</td>\n",
       "    </tr>\n",
       "  </tbody>\n",
       "</table>\n",
       "</div>"
      ],
      "text/plain": [
       "  No Sciper Civilité academic_year  Civilité\n",
       "0    128911        2     2007-2008  Monsieur\n",
       "1    129093        1     2007-2008  Monsieur\n",
       "2    129326        2     2007-2008  Monsieur\n",
       "3    138088        1     2007-2008  Monsieur\n",
       "4    145546        1     2007-2008  Monsieur"
      ]
     },
     "execution_count": 606,
     "metadata": {},
     "output_type": "execute_result"
    }
   ],
   "source": [
    "temp = master_start_and_counting.reset_index()\n",
    "temp.head()"
   ]
  },
  {
   "cell_type": "code",
   "execution_count": 657,
   "metadata": {
    "collapsed": false
   },
   "outputs": [],
   "source": [
    "temp = master_start_and_counting.reset_index()\n",
    "temp.columns = ['No Sciper', 'duration', 'start_year', 'Civilité']\n",
    "temp.set_index('No Sciper', inplace=True)\n",
    "\n",
    "semester_in_month = 6\n",
    "temp['duration'] = temp['duration'] * semester_in_month"
   ]
  },
  {
   "cell_type": "code",
   "execution_count": 658,
   "metadata": {
    "collapsed": false
   },
   "outputs": [],
   "source": [
    "grouped_student = temp.groupby('start_year')\n",
    "epfl_informatique_master = grouped_student.mean()"
   ]
  },
  {
   "cell_type": "code",
   "execution_count": 659,
   "metadata": {
    "collapsed": false
   },
   "outputs": [
    {
     "data": {
      "text/html": [
       "<div>\n",
       "<table border=\"1\" class=\"dataframe\">\n",
       "  <thead>\n",
       "    <tr>\n",
       "      <th></th>\n",
       "      <th colspan=\"2\" halign=\"left\">duration</th>\n",
       "    </tr>\n",
       "    <tr>\n",
       "      <th></th>\n",
       "      <th>mean</th>\n",
       "      <th>std</th>\n",
       "    </tr>\n",
       "    <tr>\n",
       "      <th>start_year</th>\n",
       "      <th></th>\n",
       "      <th></th>\n",
       "    </tr>\n",
       "  </thead>\n",
       "  <tbody>\n",
       "    <tr>\n",
       "      <th>2007-2008</th>\n",
       "      <td>12.437956</td>\n",
       "      <td>6.285910</td>\n",
       "    </tr>\n",
       "    <tr>\n",
       "      <th>2008-2009</th>\n",
       "      <td>16.125000</td>\n",
       "      <td>6.207837</td>\n",
       "    </tr>\n",
       "    <tr>\n",
       "      <th>2009-2010</th>\n",
       "      <td>17.192308</td>\n",
       "      <td>5.317520</td>\n",
       "    </tr>\n",
       "    <tr>\n",
       "      <th>2010-2011</th>\n",
       "      <td>18.123711</td>\n",
       "      <td>5.808144</td>\n",
       "    </tr>\n",
       "    <tr>\n",
       "      <th>2011-2012</th>\n",
       "      <td>16.945055</td>\n",
       "      <td>4.524901</td>\n",
       "    </tr>\n",
       "    <tr>\n",
       "      <th>2012-2013</th>\n",
       "      <td>17.172414</td>\n",
       "      <td>4.856563</td>\n",
       "    </tr>\n",
       "    <tr>\n",
       "      <th>2013-2014</th>\n",
       "      <td>16.836735</td>\n",
       "      <td>5.493565</td>\n",
       "    </tr>\n",
       "    <tr>\n",
       "      <th>2014-2015</th>\n",
       "      <td>18.222222</td>\n",
       "      <td>3.927695</td>\n",
       "    </tr>\n",
       "    <tr>\n",
       "      <th>2015-2016</th>\n",
       "      <td>11.291339</td>\n",
       "      <td>1.944101</td>\n",
       "    </tr>\n",
       "  </tbody>\n",
       "</table>\n",
       "</div>"
      ],
      "text/plain": [
       "             duration          \n",
       "                 mean       std\n",
       "start_year                     \n",
       "2007-2008   12.437956  6.285910\n",
       "2008-2009   16.125000  6.207837\n",
       "2009-2010   17.192308  5.317520\n",
       "2010-2011   18.123711  5.808144\n",
       "2011-2012   16.945055  4.524901\n",
       "2012-2013   17.172414  4.856563\n",
       "2013-2014   16.836735  5.493565\n",
       "2014-2015   18.222222  3.927695\n",
       "2015-2016   11.291339  1.944101"
      ]
     },
     "execution_count": 659,
     "metadata": {},
     "output_type": "execute_result"
    }
   ],
   "source": [
    "grouped_student.agg([np.mean, np.std])"
   ]
  },
  {
   "cell_type": "markdown",
   "metadata": {},
   "source": [
    "### Average stay of master student versus time"
   ]
  },
  {
   "cell_type": "markdown",
   "metadata": {},
   "source": [
    "On average students will spend 18 month (3 semesters) in EPFL. After 2010, the averaged time becomes stable. "
   ]
  },
  {
   "cell_type": "code",
   "execution_count": 663,
   "metadata": {
    "collapsed": false
   },
   "outputs": [
    {
     "data": {
      "image/png": "[encoded data removed]",
      "text/plain": [
       "<matplotlib.figure.Figure at 0x11fddce10>"
      ]
     },
     "metadata": {},
     "output_type": "display_data"
    }
   ],
   "source": [
    "l = []\n",
    "start_year = []\n",
    "\n",
    "for key, grp in grouped_student:\n",
    "    l.append(grp['duration'])\n",
    "    start_year.append(key)\n",
    "\n",
    "plt.boxplot(l, labels=start_year)\n",
    "plt.xlabel('start year')\n",
    "plt.ylabel('average duration (in month)')\n",
    "fig_size = plt.rcParams[\"figure.figsize\"]\n",
    "fig_size[0] = 22\n",
    "fig_size[1] = 9\n",
    "plt.show()"
   ]
  },
  {
   "cell_type": "markdown",
   "metadata": {},
   "source": [
    "### Specialization"
   ]
  },
  {
   "cell_type": "markdown",
   "metadata": {},
   "source": [
    "For some students, they may not have specialisation for the first two semeseter, but they will have it from the third semester. So we need to complete those `None` values in the table"
   ]
  },
  {
   "cell_type": "code",
   "execution_count": 868,
   "metadata": {
    "collapsed": false
   },
   "outputs": [],
   "source": [
    "# Select students whose \"Spécialisation\" is not None\n",
    "people_with_spec_idx = master_all_semesters[(master_all_semesters.Statut == 'Présent') \n",
    "                     & (master_all_semesters.Spécialisation != 'None')]['No Sciper'].unique()"
   ]
  },
  {
   "cell_type": "code",
   "execution_count": 869,
   "metadata": {
    "collapsed": false
   },
   "outputs": [
    {
     "data": {
      "text/html": [
       "<div>\n",
       "<table border=\"1\" class=\"dataframe\">\n",
       "  <thead>\n",
       "    <tr style=\"text-align: right;\">\n",
       "      <th></th>\n",
       "      <th>academic_year</th>\n",
       "      <th>Civilité</th>\n",
       "      <th>Mineur</th>\n",
       "      <th>Nom Prénom</th>\n",
       "      <th>Spécialisation</th>\n",
       "      <th>Statut</th>\n",
       "      <th>Semester</th>\n",
       "    </tr>\n",
       "    <tr>\n",
       "      <th>No Sciper</th>\n",
       "      <th></th>\n",
       "      <th></th>\n",
       "      <th></th>\n",
       "      <th></th>\n",
       "      <th></th>\n",
       "      <th></th>\n",
       "      <th></th>\n",
       "    </tr>\n",
       "  </thead>\n",
       "  <tbody>\n",
       "    <tr>\n",
       "      <th>153066</th>\n",
       "      <td>2007-2008</td>\n",
       "      <td>Monsieur</td>\n",
       "      <td>None</td>\n",
       "      <td>Aeberhard François-Xavier</td>\n",
       "      <td>Internet computing</td>\n",
       "      <td>Présent</td>\n",
       "      <td>Master semestre 1</td>\n",
       "    </tr>\n",
       "    <tr>\n",
       "      <th>153066</th>\n",
       "      <td>2007-2008</td>\n",
       "      <td>Monsieur</td>\n",
       "      <td>None</td>\n",
       "      <td>Aeberhard François-Xavier</td>\n",
       "      <td>Internet computing</td>\n",
       "      <td>Présent</td>\n",
       "      <td>Master semestre 2</td>\n",
       "    </tr>\n",
       "    <tr>\n",
       "      <th>153066</th>\n",
       "      <td>2008-2009</td>\n",
       "      <td>Monsieur</td>\n",
       "      <td>None</td>\n",
       "      <td>Aeberhard François-Xavier</td>\n",
       "      <td>Internet computing</td>\n",
       "      <td>Stage</td>\n",
       "      <td>Master semestre 2</td>\n",
       "    </tr>\n",
       "    <tr>\n",
       "      <th>153066</th>\n",
       "      <td>2009-2010</td>\n",
       "      <td>Monsieur</td>\n",
       "      <td>None</td>\n",
       "      <td>Aeberhard François-Xavier</td>\n",
       "      <td>Internet computing</td>\n",
       "      <td>Présent</td>\n",
       "      <td>Master semestre 2</td>\n",
       "    </tr>\n",
       "    <tr>\n",
       "      <th>153066</th>\n",
       "      <td>2008-2009</td>\n",
       "      <td>Monsieur</td>\n",
       "      <td>None</td>\n",
       "      <td>Aeberhard François-Xavier</td>\n",
       "      <td>Internet computing</td>\n",
       "      <td>Présent</td>\n",
       "      <td>Master semestre 3</td>\n",
       "    </tr>\n",
       "  </tbody>\n",
       "</table>\n",
       "</div>"
      ],
      "text/plain": [
       "          academic_year  Civilité Mineur                 Nom Prénom  \\\n",
       "No Sciper                                                             \n",
       "153066        2007-2008  Monsieur   None  Aeberhard François-Xavier   \n",
       "153066        2007-2008  Monsieur   None  Aeberhard François-Xavier   \n",
       "153066        2008-2009  Monsieur   None  Aeberhard François-Xavier   \n",
       "153066        2009-2010  Monsieur   None  Aeberhard François-Xavier   \n",
       "153066        2008-2009  Monsieur   None  Aeberhard François-Xavier   \n",
       "\n",
       "               Spécialisation   Statut           Semester  \n",
       "No Sciper                                                  \n",
       "153066     Internet computing  Présent  Master semestre 1  \n",
       "153066     Internet computing  Présent  Master semestre 2  \n",
       "153066     Internet computing    Stage  Master semestre 2  \n",
       "153066     Internet computing  Présent  Master semestre 2  \n",
       "153066     Internet computing  Présent  Master semestre 3  "
      ]
     },
     "execution_count": 869,
     "metadata": {},
     "output_type": "execute_result"
    }
   ],
   "source": [
    "master_all_semesters.set_index('No Sciper').loc[people_with_spec_idx].head()"
   ]
  },
  {
   "cell_type": "markdown",
   "metadata": {},
   "source": [
    "Complete the blanks."
   ]
  },
  {
   "cell_type": "code",
   "execution_count": 847,
   "metadata": {
    "collapsed": false
   },
   "outputs": [],
   "source": [
    "spec_series = master_all_semesters['Spécialisation'].value_counts()\n",
    "for spec in spec_series.index[1:]:\n",
    "    if spec is None:\n",
    "        continue\n",
    "    value_people = master_all_semesters[master_all_semesters.Spécialisation == spec]\n",
    "    master_all_semesters.set_index('No Sciper', inplace=True)\n",
    "    value_people_index = value_people.set_index('No Sciper').index.unique()\n",
    "    for idx in value_people_index:\n",
    "        master_all_semesters.loc[idx, 'Spécialisation'] = spec\n",
    "    master_all_semesters.reset_index(inplace=True)"
   ]
  },
  {
   "cell_type": "code",
   "execution_count": 848,
   "metadata": {
    "collapsed": true
   },
   "outputs": [],
   "source": [
    "master_specialization = master_all_semesters[\n",
    "    master_all_semesters.Spécialisation != \"Présent\"].groupby('No Sciper').min()[['academic_year', 'Civilité']]"
   ]
  },
  {
   "cell_type": "code",
   "execution_count": 870,
   "metadata": {
    "collapsed": false
   },
   "outputs": [
    {
     "data": {
      "text/html": [
       "<div>\n",
       "<table border=\"1\" class=\"dataframe\">\n",
       "  <thead>\n",
       "    <tr style=\"text-align: right;\">\n",
       "      <th></th>\n",
       "      <th>Civilité</th>\n",
       "    </tr>\n",
       "    <tr>\n",
       "      <th>Spécialisation</th>\n",
       "      <th></th>\n",
       "    </tr>\n",
       "  </thead>\n",
       "  <tbody>\n",
       "    <tr>\n",
       "      <th>Biocomputing</th>\n",
       "      <td>13.500000</td>\n",
       "    </tr>\n",
       "    <tr>\n",
       "      <th>Computer Engineering - SP</th>\n",
       "      <td>19.428571</td>\n",
       "    </tr>\n",
       "    <tr>\n",
       "      <th>Computer Science Theory</th>\n",
       "      <td>12.000000</td>\n",
       "    </tr>\n",
       "    <tr>\n",
       "      <th>Data Analytics</th>\n",
       "      <td>10.800000</td>\n",
       "    </tr>\n",
       "    <tr>\n",
       "      <th>Foundations of Software</th>\n",
       "      <td>21.727273</td>\n",
       "    </tr>\n",
       "    <tr>\n",
       "      <th>Information Security - SP</th>\n",
       "      <td>15.428571</td>\n",
       "    </tr>\n",
       "    <tr>\n",
       "      <th>Internet Information Systems</th>\n",
       "      <td>12.000000</td>\n",
       "    </tr>\n",
       "    <tr>\n",
       "      <th>Internet computing</th>\n",
       "      <td>20.444444</td>\n",
       "    </tr>\n",
       "    <tr>\n",
       "      <th>None</th>\n",
       "      <td>16.694301</td>\n",
       "    </tr>\n",
       "    <tr>\n",
       "      <th>Service science</th>\n",
       "      <td>22.000000</td>\n",
       "    </tr>\n",
       "    <tr>\n",
       "      <th>Signals, Images and Interfaces</th>\n",
       "      <td>20.500000</td>\n",
       "    </tr>\n",
       "    <tr>\n",
       "      <th>Software Systems</th>\n",
       "      <td>17.647059</td>\n",
       "    </tr>\n",
       "  </tbody>\n",
       "</table>\n",
       "</div>"
      ],
      "text/plain": [
       "                                 Civilité\n",
       "Spécialisation                           \n",
       "Biocomputing                    13.500000\n",
       "Computer Engineering - SP       19.428571\n",
       "Computer Science Theory         12.000000\n",
       "Data Analytics                  10.800000\n",
       "Foundations of Software         21.727273\n",
       "Information Security - SP       15.428571\n",
       "Internet Information Systems    12.000000\n",
       "Internet computing              20.444444\n",
       "None                            16.694301\n",
       "Service science                 22.000000\n",
       "Signals, Images and Interfaces  20.500000\n",
       "Software Systems                17.647059"
      ]
     },
     "execution_count": 870,
     "metadata": {},
     "output_type": "execute_result"
    }
   ],
   "source": [
    "# Problem\n",
    "specialization_count = master_all_semesters.set_index('No Sciper').reset_index().groupby(['Spécialisation', 'No Sciper']).count()['Civilité']\n",
    "grouped_specialization = specialization_count.reset_index().groupby(['Spécialisation'])\n",
    "specialization_mean = grouped_specialization.mean() * semester_in_month\n",
    "specialization_mean"
   ]
  },
  {
   "cell_type": "markdown",
   "metadata": {},
   "source": [
    "For student with specialization, their number of semesters spend in EPFL is a bit of larger than those with `None`."
   ]
  },
  {
   "cell_type": "markdown",
   "metadata": {},
   "source": [
    "# Bonus"
   ]
  },
  {
   "cell_type": "markdown",
   "metadata": {},
   "source": [
    "We proceed with similar approach in Assignment 1."
   ]
  },
  {
   "cell_type": "code",
   "execution_count": 614,
   "metadata": {
    "collapsed": false
   },
   "outputs": [
    {
     "data": {
      "text/plain": [
       "start_year  Civilité  duration\n",
       "2007-2008   Madame    2            8\n",
       "                      1            7\n",
       "                      3            2\n",
       "                      6            1\n",
       "            Monsieur  1           44\n",
       "                      3           35\n",
       "                      2           31\n",
       "                      4            7\n",
       "                      5            2\n",
       "2008-2009   Madame    4            3\n",
       "                      3            2\n",
       "                      2            1\n",
       "            Monsieur  2           19\n",
       "                      3           11\n",
       "                      4            7\n",
       "                      1            4\n",
       "                      6            1\n",
       "2009-2010   Madame    3            3\n",
       "                      1            1\n",
       "            Monsieur  3           31\n",
       "                      2            8\n",
       "                      4            4\n",
       "                      1            3\n",
       "                      5            1\n",
       "                      6            1\n",
       "2010-2011   Madame    3            7\n",
       "                      2            4\n",
       "                      4            1\n",
       "                      5            1\n",
       "                      7            1\n",
       "                                  ..\n",
       "2011-2012   Monsieur  5            1\n",
       "2012-2013   Madame    3            6\n",
       "                      2            4\n",
       "                      4            3\n",
       "                      1            1\n",
       "            Monsieur  3           35\n",
       "                      2           23\n",
       "                      4           12\n",
       "                      5            2\n",
       "                      1            1\n",
       "2013-2014   Madame    2            7\n",
       "                      3            4\n",
       "                      4            2\n",
       "                      1            1\n",
       "                      5            1\n",
       "            Monsieur  3           35\n",
       "                      2           30\n",
       "                      4           13\n",
       "                      1            2\n",
       "                      5            2\n",
       "                      6            1\n",
       "2014-2015   Madame    3            7\n",
       "                      2            5\n",
       "                      4            2\n",
       "            Monsieur  3           55\n",
       "                      4           23\n",
       "                      2           16\n",
       "2015-2016   Madame    2           14\n",
       "            Monsieur  2           98\n",
       "                      1           15\n",
       "Name: duration, dtype: int64"
      ]
     },
     "execution_count": 614,
     "metadata": {},
     "output_type": "execute_result"
    }
   ],
   "source": [
    "gender_master = temp.reset_index().groupby(['start_year', 'Civilité'])['duration'].value_counts()\n",
    "gender_master"
   ]
  },
  {
   "cell_type": "code",
   "execution_count": 618,
   "metadata": {
    "collapsed": false
   },
   "outputs": [
    {
     "data": {
      "text/html": [
       "<div>\n",
       "<table border=\"1\" class=\"dataframe\">\n",
       "  <thead>\n",
       "    <tr style=\"text-align: right;\">\n",
       "      <th></th>\n",
       "      <th>duration</th>\n",
       "      <th>academic_year</th>\n",
       "      <th>Civilité</th>\n",
       "    </tr>\n",
       "    <tr>\n",
       "      <th>No Sciper</th>\n",
       "      <th></th>\n",
       "      <th></th>\n",
       "      <th></th>\n",
       "    </tr>\n",
       "  </thead>\n",
       "  <tbody>\n",
       "    <tr>\n",
       "      <th>128911</th>\n",
       "      <td>2</td>\n",
       "      <td>2007-2008</td>\n",
       "      <td>Monsieur</td>\n",
       "    </tr>\n",
       "    <tr>\n",
       "      <th>129093</th>\n",
       "      <td>1</td>\n",
       "      <td>2007-2008</td>\n",
       "      <td>Monsieur</td>\n",
       "    </tr>\n",
       "    <tr>\n",
       "      <th>129326</th>\n",
       "      <td>2</td>\n",
       "      <td>2007-2008</td>\n",
       "      <td>Monsieur</td>\n",
       "    </tr>\n",
       "    <tr>\n",
       "      <th>138088</th>\n",
       "      <td>1</td>\n",
       "      <td>2007-2008</td>\n",
       "      <td>Monsieur</td>\n",
       "    </tr>\n",
       "    <tr>\n",
       "      <th>145546</th>\n",
       "      <td>1</td>\n",
       "      <td>2007-2008</td>\n",
       "      <td>Monsieur</td>\n",
       "    </tr>\n",
       "  </tbody>\n",
       "</table>\n",
       "</div>"
      ],
      "text/plain": [
       "           duration academic_year  Civilité\n",
       "No Sciper                                  \n",
       "128911            2     2007-2008  Monsieur\n",
       "129093            1     2007-2008  Monsieur\n",
       "129326            2     2007-2008  Monsieur\n",
       "138088            1     2007-2008  Monsieur\n",
       "145546            1     2007-2008  Monsieur"
      ]
     },
     "execution_count": 618,
     "metadata": {},
     "output_type": "execute_result"
    }
   ],
   "source": [
    "temp.columns = ['duration', 'academic_year', 'Civilité']\n",
    "temp.head()"
   ]
  },
  {
   "cell_type": "code",
   "execution_count": 619,
   "metadata": {
    "collapsed": false
   },
   "outputs": [
    {
     "data": {
      "image/png": "[encoded data removed]",
      "text/plain": [
       "<matplotlib.figure.Figure at 0x121ce11d0>"
      ]
     },
     "metadata": {},
     "output_type": "display_data"
    }
   ],
   "source": [
    "# plt.rcParams['figure.figsize']=(10,10)\n",
    "g = sns.FacetGrid(temp.reset_index(), size=7, aspect=1.1)\n",
    "g = g.map(sns.violinplot, \"academic_year\", \"duration\",\"Civilité\",\n",
    "          inner=None, linewidth=1, scale=\"area\", split=True, width=0.75, size=12)\\\n",
    "        .despine(left=True).add_legend(title=\"sex\")"
   ]
  },
  {
   "cell_type": "markdown",
   "metadata": {},
   "source": [
    "## Analysis\n",
    "\n",
    "In this case, we observe that for each year, the expected time for both male and female master studen is quite symmetric. Thus we guess their means are same (null hypothesis).\n",
    "\n",
    "The confidence level we set is 95%, which corresponds to pvalue 5%"
   ]
  },
  {
   "cell_type": "code",
   "execution_count": 621,
   "metadata": {
    "collapsed": false,
    "scrolled": true
   },
   "outputs": [],
   "source": [
    "group_master_sex = temp[['Civilité', 'duration']].groupby('Civilité')\n",
    "male_time1 = group_master_sex.get_group('Monsieur')['duration']\n",
    "female_time1 = group_master_sex.get_group('Madame')['duration']"
   ]
  },
  {
   "cell_type": "code",
   "execution_count": 623,
   "metadata": {
    "collapsed": false
   },
   "outputs": [
    {
     "data": {
      "text/plain": [
       "Ttest_indResult(statistic=-0.057648379135949182, pvalue=0.95410694341719271)"
      ]
     },
     "execution_count": 623,
     "metadata": {},
     "output_type": "execute_result"
    }
   ],
   "source": [
    "stats.ttest_ind(a=male_time1, b=female_time1, equal_var=False)"
   ]
  },
  {
   "cell_type": "markdown",
   "metadata": {},
   "source": [
    "As we can see, in this case the pvalue is 95%, indicating that the average time spend on master is similar for both male and female."
   ]
  }
 ],
 "metadata": {
  "kernelspec": {
   "display_name": "Python 3",
   "language": "python",
   "name": "python3"
  },
  "language_info": {
   "codemirror_mode": {
    "name": "ipython",
    "version": 3
   },
   "file_extension": ".py",
   "mimetype": "text/x-python",
   "name": "python",
   "nbconvert_exporter": "python",
   "pygments_lexer": "ipython3",
   "version": "3.5.2"
  }
 },
 "nbformat": 4,
 "nbformat_minor": 0
}
