{
 "cells": [
  {
   "cell_type": "code",
   "execution_count": 1,
   "metadata": {
    "collapsed": true
   },
   "outputs": [],
   "source": [
    "import folium"
   ]
  },
  {
   "cell_type": "code",
   "execution_count": null,
   "metadata": {
    "collapsed": true
   },
   "outputs": [],
   "source": []
  },
  {
   "cell_type": "code",
   "execution_count": 3,
   "metadata": {
    "collapsed": false
   },
   "outputs": [
    {
     "ename": "NameError",
     "evalue": "name 'vis1' is not defined",
     "output_type": "error",
     "traceback": [
      "\u001b[1;31m---------------------------------------------------------------------------\u001b[0m",
      "\u001b[1;31mNameError\u001b[0m                                 Traceback (most recent call last)",
      "\u001b[1;32m<ipython-input-3-edb35fa12852>\u001b[0m in \u001b[0;36m<module>\u001b[1;34m()\u001b[0m\n\u001b[0;32m      2\u001b[0m                       tiles='Stamen Terrain')\n\u001b[0;32m      3\u001b[0m popup1 = folium.Popup(max_width=800,\n\u001b[1;32m----> 4\u001b[1;33m                      ).add_child(folium.Vega(vis1, width=500, height=250))\n\u001b[0m\u001b[0;32m      5\u001b[0m folium.RegularPolygonMarker([47.3489, -124.708],\n\u001b[0;32m      6\u001b[0m                      fill_color='#43d9de', radius=12, popup=popup1).add_to(buoy_map)\n",
      "\u001b[1;31mNameError\u001b[0m: name 'vis1' is not defined"
     ]
    }
   ],
   "source": [
    "buoy_map = folium.Map(location=[46.3014, -123.7390], zoom_start=7,\n",
    "                      tiles='Stamen Terrain')\n",
    "popup1 = folium.Popup(max_width=800,\n",
    "                     ).add_child(folium.Vega(vis1, width=500, height=250))\n",
    "folium.RegularPolygonMarker([47.3489, -124.708],\n",
    "                     fill_color='#43d9de', radius=12, popup=popup1).add_to(buoy_map)\n",
    "popup2 = folium.Popup(max_width=800,\n",
    "                     ).add_child(folium.Vega(vis2, width=500, height=250))\n",
    "folium.RegularPolygonMarker([44.639, -124.5339],\n",
    "                     fill_color='#43d9de', radius=12, popup=popup2).add_to(buoy_map)\n",
    "popup3 = folium.Popup(max_width=800,\n",
    "                     ).add_child(folium.Vega(vis3, width=500, height=250))\n",
    "folium.RegularPolygonMarker([46.216, -124.1280],\n",
    "                     fill_color='#43d9de', radius=12, popup=popup3).add_to(buoy_map)\n",
    "buoy_map.save('NOAA_buoys.html')"
   ]
  },
  {
   "cell_type": "code",
   "execution_count": null,
   "metadata": {
    "collapsed": true
   },
   "outputs": [],
   "source": []
  }
 ],
 "metadata": {
  "kernelspec": {
   "display_name": "Python 3",
   "language": "python",
   "name": "python3"
  },
  "language_info": {
   "codemirror_mode": {
    "name": "ipython",
    "version": 3
   },
   "file_extension": ".py",
   "mimetype": "text/x-python",
   "name": "python",
   "nbconvert_exporter": "python",
   "pygments_lexer": "ipython3",
   "version": "3.5.1"
  }
 },
 "nbformat": 4,
 "nbformat_minor": 0
}
