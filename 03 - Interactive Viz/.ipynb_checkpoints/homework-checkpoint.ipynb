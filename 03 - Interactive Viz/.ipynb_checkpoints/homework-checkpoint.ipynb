{
 "cells": [
  {
   "cell_type": "markdown",
   "metadata": {},
   "source": [
    "# Introduction to folium"
   ]
  },
  {
   "cell_type": "code",
   "execution_count": 2,
   "metadata": {
    "collapsed": true
   },
   "outputs": [],
   "source": [
    "import pandas as pd\n",
    "import folium\n",
    "import requests\n",
    "from bs4 import BeautifulSoup\n",
    "import numpy as np"
   ]
  },
  {
   "cell_type": "markdown",
   "metadata": {},
   "source": [
    "# Processing data"
   ]
  },
  {
   "cell_type": "code",
   "execution_count": 3,
   "metadata": {
    "collapsed": false
   },
   "outputs": [
    {
     "data": {
      "text/html": [
       "<div>\n",
       "<table border=\"1\" class=\"dataframe\">\n",
       "  <thead>\n",
       "    <tr style=\"text-align: right;\">\n",
       "      <th></th>\n",
       "      <th>Project Title</th>\n",
       "      <th>Project Title English</th>\n",
       "      <th>Responsible Applicant</th>\n",
       "      <th>Funding Instrument</th>\n",
       "      <th>Funding Instrument Hierarchy</th>\n",
       "      <th>Institution</th>\n",
       "      <th>University</th>\n",
       "      <th>Discipline Number</th>\n",
       "      <th>Discipline Name</th>\n",
       "      <th>Discipline Name Hierarchy</th>\n",
       "      <th>Start Date</th>\n",
       "      <th>End Date</th>\n",
       "      <th>Approved Amount</th>\n",
       "      <th>Keywords</th>\n",
       "    </tr>\n",
       "    <tr>\n",
       "      <th>Project Number</th>\n",
       "      <th></th>\n",
       "      <th></th>\n",
       "      <th></th>\n",
       "      <th></th>\n",
       "      <th></th>\n",
       "      <th></th>\n",
       "      <th></th>\n",
       "      <th></th>\n",
       "      <th></th>\n",
       "      <th></th>\n",
       "      <th></th>\n",
       "      <th></th>\n",
       "      <th></th>\n",
       "      <th></th>\n",
       "    </tr>\n",
       "  </thead>\n",
       "  <tbody>\n",
       "    <tr>\n",
       "      <th>1</th>\n",
       "      <td>Schlussband (Bd. VI) der Jacob Burckhardt-Biog...</td>\n",
       "      <td>NaN</td>\n",
       "      <td>Kaegi Werner</td>\n",
       "      <td>Project funding (Div. I-III)</td>\n",
       "      <td>Project funding</td>\n",
       "      <td>NaN</td>\n",
       "      <td>Nicht zuteilbar - NA</td>\n",
       "      <td>10302</td>\n",
       "      <td>Swiss history</td>\n",
       "      <td>Human and Social Sciences;Theology &amp; religious...</td>\n",
       "      <td>01.10.1975</td>\n",
       "      <td>30.09.1976</td>\n",
       "      <td>11619.00</td>\n",
       "      <td>NaN</td>\n",
       "    </tr>\n",
       "    <tr>\n",
       "      <th>4</th>\n",
       "      <td>Batterie de tests à l'usage des enseignants po...</td>\n",
       "      <td>NaN</td>\n",
       "      <td>Massarenti Léonard</td>\n",
       "      <td>Project funding (Div. I-III)</td>\n",
       "      <td>Project funding</td>\n",
       "      <td>Faculté de Psychologie et des Sciences de l'Ed...</td>\n",
       "      <td>Université de Genève - GE</td>\n",
       "      <td>10104</td>\n",
       "      <td>Educational science and Pedagogy</td>\n",
       "      <td>Human and Social Sciences;Psychology, educatio...</td>\n",
       "      <td>01.10.1975</td>\n",
       "      <td>30.09.1976</td>\n",
       "      <td>41022.00</td>\n",
       "      <td>NaN</td>\n",
       "    </tr>\n",
       "    <tr>\n",
       "      <th>5</th>\n",
       "      <td>Kritische Erstausgabe der \"Evidentiae contra D...</td>\n",
       "      <td>NaN</td>\n",
       "      <td>Kommission für das Corpus philosophorum medii ...</td>\n",
       "      <td>Project funding (Div. I-III)</td>\n",
       "      <td>Project funding</td>\n",
       "      <td>Kommission für das Corpus philosophorum medii ...</td>\n",
       "      <td>NPO (Biblioth., Museen, Verwalt.) - NPO</td>\n",
       "      <td>10101</td>\n",
       "      <td>Philosophy</td>\n",
       "      <td>Human and Social Sciences;Linguistics and lite...</td>\n",
       "      <td>01.03.1976</td>\n",
       "      <td>28.02.1985</td>\n",
       "      <td>79732.00</td>\n",
       "      <td>NaN</td>\n",
       "    </tr>\n",
       "    <tr>\n",
       "      <th>6</th>\n",
       "      <td>Katalog der datierten Handschriften in der Sch...</td>\n",
       "      <td>NaN</td>\n",
       "      <td>Burckhardt Max</td>\n",
       "      <td>Project funding (Div. I-III)</td>\n",
       "      <td>Project funding</td>\n",
       "      <td>Abt. Handschriften und Alte Drucke Bibliothek ...</td>\n",
       "      <td>Universität Basel - BS</td>\n",
       "      <td>10302</td>\n",
       "      <td>Swiss history</td>\n",
       "      <td>Human and Social Sciences;Theology &amp; religious...</td>\n",
       "      <td>01.10.1975</td>\n",
       "      <td>30.09.1976</td>\n",
       "      <td>52627.00</td>\n",
       "      <td>NaN</td>\n",
       "    </tr>\n",
       "    <tr>\n",
       "      <th>7</th>\n",
       "      <td>Wissenschaftliche Mitarbeit am Thesaurus Lingu...</td>\n",
       "      <td>NaN</td>\n",
       "      <td>Schweiz. Thesauruskommission</td>\n",
       "      <td>Project funding (Div. I-III)</td>\n",
       "      <td>Project funding</td>\n",
       "      <td>Schweiz. Thesauruskommission</td>\n",
       "      <td>NPO (Biblioth., Museen, Verwalt.) - NPO</td>\n",
       "      <td>10303</td>\n",
       "      <td>Ancient history and Classical studies</td>\n",
       "      <td>Human and Social Sciences;Theology &amp; religious...</td>\n",
       "      <td>01.01.1976</td>\n",
       "      <td>30.04.1978</td>\n",
       "      <td>120042.00</td>\n",
       "      <td>NaN</td>\n",
       "    </tr>\n",
       "  </tbody>\n",
       "</table>\n",
       "</div>"
      ],
      "text/plain": [
       "                                                    Project Title  \\\n",
       "Project Number                                                      \n",
       "1               Schlussband (Bd. VI) der Jacob Burckhardt-Biog...   \n",
       "4               Batterie de tests à l'usage des enseignants po...   \n",
       "5               Kritische Erstausgabe der \"Evidentiae contra D...   \n",
       "6               Katalog der datierten Handschriften in der Sch...   \n",
       "7               Wissenschaftliche Mitarbeit am Thesaurus Lingu...   \n",
       "\n",
       "               Project Title English  \\\n",
       "Project Number                         \n",
       "1                                NaN   \n",
       "4                                NaN   \n",
       "5                                NaN   \n",
       "6                                NaN   \n",
       "7                                NaN   \n",
       "\n",
       "                                            Responsible Applicant  \\\n",
       "Project Number                                                      \n",
       "1                                                    Kaegi Werner   \n",
       "4                                              Massarenti Léonard   \n",
       "5               Kommission für das Corpus philosophorum medii ...   \n",
       "6                                                  Burckhardt Max   \n",
       "7                                    Schweiz. Thesauruskommission   \n",
       "\n",
       "                          Funding Instrument Funding Instrument Hierarchy  \\\n",
       "Project Number                                                              \n",
       "1               Project funding (Div. I-III)              Project funding   \n",
       "4               Project funding (Div. I-III)              Project funding   \n",
       "5               Project funding (Div. I-III)              Project funding   \n",
       "6               Project funding (Div. I-III)              Project funding   \n",
       "7               Project funding (Div. I-III)              Project funding   \n",
       "\n",
       "                                                      Institution  \\\n",
       "Project Number                                                      \n",
       "1                                                             NaN   \n",
       "4               Faculté de Psychologie et des Sciences de l'Ed...   \n",
       "5               Kommission für das Corpus philosophorum medii ...   \n",
       "6               Abt. Handschriften und Alte Drucke Bibliothek ...   \n",
       "7                                    Schweiz. Thesauruskommission   \n",
       "\n",
       "                                             University  Discipline Number  \\\n",
       "Project Number                                                               \n",
       "1                                  Nicht zuteilbar - NA              10302   \n",
       "4                             Université de Genève - GE              10104   \n",
       "5               NPO (Biblioth., Museen, Verwalt.) - NPO              10101   \n",
       "6                                Universität Basel - BS              10302   \n",
       "7               NPO (Biblioth., Museen, Verwalt.) - NPO              10303   \n",
       "\n",
       "                                      Discipline Name  \\\n",
       "Project Number                                          \n",
       "1                                       Swiss history   \n",
       "4                    Educational science and Pedagogy   \n",
       "5                                          Philosophy   \n",
       "6                                       Swiss history   \n",
       "7               Ancient history and Classical studies   \n",
       "\n",
       "                                        Discipline Name Hierarchy  Start Date  \\\n",
       "Project Number                                                                  \n",
       "1               Human and Social Sciences;Theology & religious...  01.10.1975   \n",
       "4               Human and Social Sciences;Psychology, educatio...  01.10.1975   \n",
       "5               Human and Social Sciences;Linguistics and lite...  01.03.1976   \n",
       "6               Human and Social Sciences;Theology & religious...  01.10.1975   \n",
       "7               Human and Social Sciences;Theology & religious...  01.01.1976   \n",
       "\n",
       "                  End Date Approved Amount Keywords  \n",
       "Project Number                                       \n",
       "1               30.09.1976        11619.00      NaN  \n",
       "4               30.09.1976        41022.00      NaN  \n",
       "5               28.02.1985        79732.00      NaN  \n",
       "6               30.09.1976        52627.00      NaN  \n",
       "7               30.04.1978       120042.00      NaN  "
      ]
     },
     "execution_count": 3,
     "metadata": {},
     "output_type": "execute_result"
    }
   ],
   "source": [
    "df = pd.read_csv('P3_GrantExport.csv', delimiter=';',index_col=0)\n",
    "df.head()"
   ]
  },
  {
   "cell_type": "markdown",
   "metadata": {},
   "source": [
    "Deal with a special case"
   ]
  },
  {
   "cell_type": "code",
   "execution_count": 4,
   "metadata": {
    "collapsed": false
   },
   "outputs": [
    {
     "data": {
      "text/plain": [
       "Project Title                            SELECTS 2003: Eidgenössische Wahlen 2003\n",
       "Project Title English                        SELECTS 2003: Federal elections 2003\n",
       "Responsible Applicant                                            Malaguerra Carlo\n",
       "Funding Instrument                               Swiss Priority Programmes (SPPs)\n",
       "Funding Instrument Hierarchy                                           Programmes\n",
       "Institution                     Schweizerische Akademie der Geistes-und Sozial...\n",
       "University                                              Forschungskommission SAGW\n",
       "Discipline Number                                                           10202\n",
       "Discipline Name                                                 Political science\n",
       "Discipline Name Hierarchy       Human and Social Sciences;Sociology, social wo...\n",
       "Start Date                                                             01.02.2003\n",
       "End Date                                                               31.01.2004\n",
       "Approved Amount                                                         100000.00\n",
       "Keywords                                                                      NaN\n",
       "Name: 101005, dtype: object"
      ]
     },
     "execution_count": 4,
     "metadata": {},
     "output_type": "execute_result"
    }
   ],
   "source": [
    "df.loc[101005]"
   ]
  },
  {
   "cell_type": "markdown",
   "metadata": {},
   "source": [
    "Change from 'Forschungskommission SAGW' to 'Forschungskommission - SAGW'"
   ]
  },
  {
   "cell_type": "code",
   "execution_count": 5,
   "metadata": {
    "collapsed": false
   },
   "outputs": [],
   "source": [
    "df.loc[101005, 'University'] = 'Forschungskommission - SAGW'"
   ]
  },
  {
   "cell_type": "markdown",
   "metadata": {},
   "source": [
    "### Select universities applicable"
   ]
  },
  {
   "cell_type": "markdown",
   "metadata": {},
   "source": [
    "Not all of the universities in the columns `university` will be used. Some of the entries are not in Switzerland, and some of them didn't specifiy the universities. \n",
    "\n",
    "We will drop out some itmes:\n",
    "\n",
    "- foreign universities where df['University'] is NaN\n",
    "- 'Nicht zuteilbar' : not applicable\n",
    "- 'NPO (Biblioth., Museen, Verwalt.) - NPO' : the exact places of NPOs are not known\n",
    "- 'Weitere Institute - FINST' means other institutions\n",
    "- 'Weitere Spitäler - ASPIT' means other universities\n",
    "- 'Firmen/Privatwirtschaft - FP' means private/business\n",
    "- 'Istituto Svizzero di Roma - ISR' is a Italian university\n",
    "\n",
    "Besides, we will also negelect projects whose 'Approved Amount' is not given (`'data not included in P3'`)."
   ]
  },
  {
   "cell_type": "code",
   "execution_count": 6,
   "metadata": {
    "collapsed": true
   },
   "outputs": [],
   "source": [
    "foreign_institution = df['University'].isnull()\n",
    "na                  = df['University'] == 'Nicht zuteilbar - NA'\n",
    "npo                 = df['University'] == 'NPO (Biblioth., Museen, Verwalt.) - NPO'\n",
    "other_institution   = df['University'] == 'Weitere Institute - FINST'\n",
    "other_hospital      = df['University'] == 'Weitere Spitäler - ASPIT'\n",
    "private             = df['University'] == 'Firmen/Privatwirtschaft - FP'\n",
    "Italian_unvi        = df['University'] == 'Istituto Svizzero di Roma - ISR'\n",
    "\n",
    "fund_amount_included = df['Approved Amount'] == 'data not included in P3'\n",
    "\n",
    "swiss_univ_idx = df.index[(~foreign_institution) & (~npo) & (~fund_amount_included)\n",
    "                         & (~na) & (~other_institution) & (~other_hospital)\n",
    "                         & (~private) & (~Italian_unvi)]\n",
    "swiss_df = df.loc[swiss_univ_idx]"
   ]
  },
  {
   "cell_type": "markdown",
   "metadata": {},
   "source": [
    "Conver the money to float number"
   ]
  },
  {
   "cell_type": "code",
   "execution_count": 7,
   "metadata": {
    "collapsed": false
   },
   "outputs": [],
   "source": [
    "swiss_df['Approved Amount'] = swiss_df['Approved Amount'].astype(np.float64)"
   ]
  },
  {
   "cell_type": "markdown",
   "metadata": {},
   "source": [
    "#### Group the dataframe by their university"
   ]
  },
  {
   "cell_type": "code",
   "execution_count": 8,
   "metadata": {
    "collapsed": false
   },
   "outputs": [
    {
     "data": {
      "text/plain": [
       "University\n",
       "Université de Genève - GE       1.838237e+09\n",
       "Universität Zürich - ZH         1.826843e+09\n",
       "ETH Zürich - ETHZ               1.635597e+09\n",
       "Universität Bern - BE           1.519373e+09\n",
       "Universität Basel - BS          1.352251e+09\n",
       "Université de Lausanne - LA     1.183291e+09\n",
       "EPF Lausanne - EPFL             1.175316e+09\n",
       "Université de Fribourg - FR     4.575262e+08\n",
       "Université de Neuchâtel - NE    3.832046e+08\n",
       "Paul Scherrer Institut - PSI    1.152690e+08\n",
       "Name: Approved Amount, dtype: float64"
      ]
     },
     "execution_count": 8,
     "metadata": {},
     "output_type": "execute_result"
    }
   ],
   "source": [
    "univ_amount = swiss_df.groupby('University').sum()['Approved Amount']\n",
    "univ_amount.sort_values(ascending=False).head(10)"
   ]
  },
  {
   "cell_type": "markdown",
   "metadata": {},
   "source": [
    "#### Extract universities and their abbreviations"
   ]
  },
  {
   "cell_type": "code",
   "execution_count": 9,
   "metadata": {
    "collapsed": true
   },
   "outputs": [],
   "source": [
    "splited_names = swiss_df.loc[swiss_univ_idx].University.apply(lambda x: x.split(' - '))\n",
    "univ_name = splited_names.apply(lambda x: x[0])\n",
    "univ_abb  = splited_names.apply(lambda x: x[1])\n",
    "univ_name_unique = univ_name.unique()\n",
    "univ_abb_unqiue  = univ_abb.unique()\n",
    "name_to_univ = dict(zip(univ_name_unique, swiss_df.loc[swiss_univ_idx].University.unique()))"
   ]
  },
  {
   "cell_type": "markdown",
   "metadata": {},
   "source": [
    "# Map university to their Canton\n",
    "\n",
    "First, we use the api http://www.geonames.org/export/web-services.html to search the universities by their names. But not all of them can be found in this way.\n",
    "\n",
    "Second, for those universities whose name are not listed in `geonames.com`, we manually substitute them with other keywords which will get a desirable result in `geonames.com`. For instance, we can search the name of university, the abbreviation of university, and even the city(street) of the unviersity.\n",
    "\n",
    "As soon as we have obtained all the webpage results from `geonames.com`, we will parser the locations of universities. \n",
    "There are two kinds of possible results for each request:\n",
    "\n",
    "    1. results found in database\n",
    "    2. results found in wikipedia\n",
    "    \n",
    "Both of them contains `latitude` and `longitude` of a place, but the canton a university located can only be found in `database`. Thus we decide to use `reverse geocoding` to find the name of canton from the `latitude` and `longitude`.\n",
    "\n",
    "As the number of requests for google maps is limited, we use `http://nominatim.openstreetmap.org/search.php` to for `reverse geocoding`. "
   ]
  },
  {
   "cell_type": "code",
   "execution_count": 10,
   "metadata": {
    "collapsed": true
   },
   "outputs": [],
   "source": [
    "def request_geo_name(univ):\n",
    "    original_url = 'http://www.geonames.org/search.html?'\n",
    "    payload = {'q':univ,'country':'CH'}\n",
    "    get_url = requests.get(original_url, params=payload, timeout=30)\n",
    "    soup = BeautifulSoup(get_url.text,\"lxml\")\n",
    "    return soup\n",
    "\n",
    "def reverse_geocoding(lat, lng):\n",
    "    reverse_geocoding_url = 'http://nominatim.openstreetmap.org/search.php'\n",
    "    payload = {'q':lat+', '+lng}\n",
    "    get_url = requests.get(reverse_geocoding_url, params=payload, timeout=30)\n",
    "    soup = BeautifulSoup(get_url.text,\"lxml\")\n",
    "    return ((soup.select('div[id=content] span[class=name]')[0].string).split(', ')[-6])"
   ]
  },
  {
   "cell_type": "markdown",
   "metadata": {},
   "source": [
    "First, request with university names first"
   ]
  },
  {
   "cell_type": "code",
   "execution_count": 11,
   "metadata": {
    "collapsed": false
   },
   "outputs": [],
   "source": [
    "selectors = dict()\n",
    "for name in univ_name_unique:\n",
    "    soup = request_geo_name(name)\n",
    "    table_selector = soup.select('div table[class=restable]')\n",
    "    selectors[name] = table_selector"
   ]
  },
  {
   "cell_type": "code",
   "execution_count": 12,
   "metadata": {
    "collapsed": false
   },
   "outputs": [
    {
     "name": "stdout",
     "output_type": "stream",
     "text": [
      "22\n",
      "49\n"
     ]
    }
   ],
   "source": [
    "univ_found_by_name = [name for name in univ_name_unique if (selectors[name] != [])]\n",
    "not_found_by_name = list(filter(lambda x: x not in univ_found_by_name, univ_name_unique))\n",
    "print(len(univ_found_by_name))\n",
    "print(len(not_found_by_name))"
   ]
  },
  {
   "cell_type": "markdown",
   "metadata": {},
   "source": [
    "Modifiy the keywords in the request to get the accurate results."
   ]
  },
  {
   "cell_type": "code",
   "execution_count": null,
   "metadata": {
    "collapsed": true
   },
   "outputs": [],
   "source": [
    "modified_list = [\n",
    "\"WSL\", \"Graduate Institute of International and Development Studies\", \"Chur\", \"EPFL\", \n",
    "\"Zurich University of Applied Sciences/ZHAW\", \"Zürich\", \"University of Lugano edu\",\n",
    "\"Bern\", \"St. Gallen\", \"Swiss Federal Institute of Aquatic Science and Technology\",\n",
    "\"empa\", \"Davos\", \"Neuchâtel\", \"Davos\", \"University of Zürich\", \"frick\", \"agroscope\",\n",
    "\"Bellinzona\", \"Epalinges\", \"Zollikofen\", \"Winterthur\", \"Chur\", \"FHNW\", \"Schaffhauserstrasse\",\n",
    "\"Sion\", \"Bern\", \"Nottwil\", \"Avenue du Grand-Champsec\", \"HES-SO\", \"Chaux-de-Fonds\", \"HEP-BEJUNE\",\n",
    "\"University of applied sciences in Lucerne\", \"Bern\", \"SUPSI\", \"Fribourg\", \"Arth\", \"Kreuzlingen\",\n",
    "\"Kreuzlingen\", \"Zürich\", \"Lausanne\", \"Saint-Maurice valais\", \"Rorschach\", \"Zug\", \"Locarno\",\n",
    "\"Schaffhausen\", \"Nordwestschweiz\", \"Basel\", \"Lugano\",\"Brig\"]\n",
    "unmodified_to_modified = dict(zip(not_found_by_name, modified_list))"
   ]
  },
  {
   "cell_type": "code",
   "execution_count": null,
   "metadata": {
    "collapsed": false
   },
   "outputs": [],
   "source": [
    "for name in not_found_by_name:\n",
    "    modified_names = unmodified_to_modified[name]\n",
    "    soup = request_geo_name(modified_names)\n",
    "    table_selector = soup.select('div table[class=restable]')\n",
    "    selectors[name] = table_selector"
   ]
  },
  {
   "cell_type": "markdown",
   "metadata": {},
   "source": [
    "## Parse geo information"
   ]
  },
  {
   "cell_type": "markdown",
   "metadata": {},
   "source": [
    "For two kinds of results, parse them seperately."
   ]
  },
  {
   "cell_type": "code",
   "execution_count": null,
   "metadata": {
    "collapsed": false
   },
   "outputs": [],
   "source": [
    "univ_loc = dict()\n",
    "for name in univ_name_unique:\n",
    "    found_in_wiki = 'wikipedia' in list((selectors[name][0].contents)[1].strings)\n",
    "    if found_in_wiki:\n",
    "        lat_lng = selectors[name][0].select('tr')[1].select('td[nowrap=] a')[-1].string\n",
    "        univ_loc[name] = lat_lng.split(' / ')\n",
    "    else: # found in database\n",
    "        univ_loc[name] = [selectors[name][0].select('tr')[2].select('span[class=latitude]')[0].string,\n",
    "                         selectors[name][0].select('tr')[2].select('span[class=longitude]')[0].string]"
   ]
  },
  {
   "cell_type": "code",
   "execution_count": null,
   "metadata": {
    "collapsed": false
   },
   "outputs": [],
   "source": [
    "univ_loc"
   ]
  },
  {
   "cell_type": "markdown",
   "metadata": {},
   "source": [
    "## Build dataframe"
   ]
  },
  {
   "cell_type": "markdown",
   "metadata": {},
   "source": [
    "Build a datadrame based on each university."
   ]
  },
  {
   "cell_type": "code",
   "execution_count": null,
   "metadata": {
    "collapsed": false
   },
   "outputs": [],
   "source": [
    "lat = []\n",
    "lng = []\n",
    "uname = []\n",
    "amount = []\n",
    "for name in univ_name_unique:\n",
    "    lat.append(univ_loc[name][0])\n",
    "    lng.append(univ_loc[name][1])\n",
    "    uname.append(name)\n",
    "    amount.append(univ_amount[name_to_univ[name]])"
   ]
  },
  {
   "cell_type": "code",
   "execution_count": null,
   "metadata": {
    "collapsed": false
   },
   "outputs": [],
   "source": [
    "name_x_grant_x_geo = pd.DataFrame({'lat': lat, 'lng': lng, 'grant':amount },index=uname)"
   ]
  },
  {
   "cell_type": "code",
   "execution_count": null,
   "metadata": {
    "collapsed": false
   },
   "outputs": [],
   "source": [
    "name_x_grant_x_geo.iloc[0]"
   ]
  },
  {
   "cell_type": "markdown",
   "metadata": {},
   "source": [
    "# Reverse geocoding"
   ]
  },
  {
   "cell_type": "markdown",
   "metadata": {},
   "source": [
    "#### Parse the canton names from requested webpage, and map them to abbreviations"
   ]
  },
  {
   "cell_type": "code",
   "execution_count": null,
   "metadata": {
    "collapsed": true
   },
   "outputs": [],
   "source": [
    "cantons = [\"AG\",\"AR\",\"AI\",\"BL\",\"BS\",\"BE\",\"FR\",\"GE\",\"GL\",\"GR\",\n",
    " \"JU\",\"LU\",\"NE\",\"NW\",\"OW\",\"SG\",\"SH\",\"SZ\",\"SO\",\"TG\",\"TI\",\"UR\",\"VS\",\"VD\",\"ZG\",\"ZH\"]"
   ]
  },
  {
   "cell_type": "code",
   "execution_count": null,
   "metadata": {
    "collapsed": true
   },
   "outputs": [],
   "source": [
    "map_canton_name_to_abb = dict()\n",
    "map_canton_name_to_abb['Genève'] = 'GE'\n",
    "map_canton_name_to_abb['Basel-Stadt'] = 'BS'\n",
    "map_canton_name_to_abb['Fribourg - Freiburg'] = 'FR'\n",
    "map_canton_name_to_abb['Vaud'] = 'VD'\n",
    "map_canton_name_to_abb['Bern - Berne'] = 'BE'\n",
    "map_canton_name_to_abb['Neuchâtel'] = 'NE'\n",
    "map_canton_name_to_abb['Sankt Gallen'] = 'SG'\n",
    "map_canton_name_to_abb['Graubünden - Grigioni - Grischun'] = 'GR'\n",
    "map_canton_name_to_abb['Luzern'] = 'LU'\n",
    "map_canton_name_to_abb['Ticino'] = 'TI'\n",
    "map_canton_name_to_abb['Jura'] = 'JU'\n",
    "map_canton_name_to_abb['Schwyz'] = 'SZ'\n",
    "map_canton_name_to_abb['Aargau'] = 'AG'\n",
    "map_canton_name_to_abb['Basel-Landschaft'] = 'BL'\n",
    "map_canton_name_to_abb['Valais - Wallis'] = 'VS'\n",
    "map_canton_name_to_abb['Thurgau'] = 'TG'\n",
    "map_canton_name_to_abb['Schaffhausen'] = 'SH'\n",
    "map_canton_name_to_abb['Zug'] = 'ZG'\n",
    "map_canton_name_to_abb['Zürich'] = 'ZH'"
   ]
  },
  {
   "cell_type": "markdown",
   "metadata": {},
   "source": [
    "Requesting canton names by their positions"
   ]
  },
  {
   "cell_type": "code",
   "execution_count": null,
   "metadata": {
    "collapsed": false
   },
   "outputs": [],
   "source": [
    "unvi_canton = []\n",
    "for n in range(name_x_grant_x_geo.shape[0]):\n",
    "    unvi_canton.append(reverse_geocoding(name_x_grant_x_geo.iloc[n]['lat'], name_x_grant_x_geo.iloc[n]['lng']))"
   ]
  },
  {
   "cell_type": "code",
   "execution_count": null,
   "metadata": {
    "collapsed": false
   },
   "outputs": [],
   "source": [
    "unvi_canton[0:5]"
   ]
  },
  {
   "cell_type": "markdown",
   "metadata": {},
   "source": [
    "Map the name of university to their cantons"
   ]
  },
  {
   "cell_type": "code",
   "execution_count": null,
   "metadata": {
    "collapsed": false
   },
   "outputs": [],
   "source": [
    "univ_canton_abb = [map_canton_name_to_abb[place] for place in unvi_canton]"
   ]
  },
  {
   "cell_type": "markdown",
   "metadata": {},
   "source": [
    "Add a column to our dataframe called 'id' which coincides with those in topojson files"
   ]
  },
  {
   "cell_type": "code",
   "execution_count": null,
   "metadata": {
    "collapsed": false
   },
   "outputs": [],
   "source": [
    "name_x_grant_x_geo['id'] = univ_canton_abb"
   ]
  },
  {
   "cell_type": "markdown",
   "metadata": {},
   "source": [
    "Group the dataframe by their ids (cantons) and conver the unit to million francs"
   ]
  },
  {
   "cell_type": "code",
   "execution_count": null,
   "metadata": {
    "collapsed": false,
    "scrolled": false
   },
   "outputs": [],
   "source": [
    "series = name_x_grant_x_geo.groupby('id').sum().reset_index()\n",
    "series.grant = series.grant/10**6\n",
    "series"
   ]
  },
  {
   "cell_type": "markdown",
   "metadata": {},
   "source": [
    "# Plot"
   ]
  },
  {
   "cell_type": "markdown",
   "metadata": {},
   "source": [
    "Plot a map which combines the information from dataframe and topojson of Switzerland.\n",
    "\n",
    "The color of map reflects the amount of grants approved in each canton (in million francs).\n",
    "\n",
    "The location of each university is also marked in the map. Note that the `marker_cluster` we used will automatically \n",
    "aggragate the number of universities when zoomed."
   ]
  },
  {
   "cell_type": "code",
   "execution_count": null,
   "metadata": {
    "collapsed": false
   },
   "outputs": [],
   "source": [
    "topo_path1 = r'ch-cantons.topojson.json'\n",
    "ch_map = folium.Map(location=[46.8418522,7.9253733], tiles='Mapbox Bright', zoom_start=8)\n",
    "ch_map.choropleth(geo_path=topo_path1,\n",
    "                  data = series,\n",
    "                  columns=['id', 'grant'],\n",
    "                  key_on = \"feature.id\",\n",
    "                  fill_color='YlGn',\n",
    "                  fill_opacity=0.3,\n",
    "                  line_weight=2,\n",
    "                  threshold_scale=[600, 1200, 1800, 2400, 3000, 3600],\n",
    "                  legend_name='Grants approved (million francs)',\n",
    "                  topojson='objects.cantons')"
   ]
  },
  {
   "cell_type": "code",
   "execution_count": null,
   "metadata": {
    "collapsed": false,
    "scrolled": true
   },
   "outputs": [],
   "source": [
    "marker_cluster = folium.MarkerCluster().add_to(ch_map)\n",
    "\n",
    "for i in range(len(uname)):\n",
    "    folium.Marker(\n",
    "        location=[float(lat[i]), float(lng[i])],\n",
    "        popup=uname[i],\n",
    "        icon=folium.Icon(color='red', icon='ok-sign'),\n",
    "    ).add_to(marker_cluster)\n",
    "\n",
    "ch_map"
   ]
  },
  {
   "cell_type": "code",
   "execution_count": null,
   "metadata": {
    "collapsed": true
   },
   "outputs": [],
   "source": []
  },
  {
   "cell_type": "code",
   "execution_count": null,
   "metadata": {
    "collapsed": true
   },
   "outputs": [],
   "source": []
  },
  {
   "cell_type": "code",
   "execution_count": null,
   "metadata": {
    "collapsed": true
   },
   "outputs": [],
   "source": []
  },
  {
   "cell_type": "code",
   "execution_count": null,
   "metadata": {
    "collapsed": true
   },
   "outputs": [],
   "source": []
  },
  {
   "cell_type": "code",
   "execution_count": null,
   "metadata": {
    "collapsed": true
   },
   "outputs": [],
   "source": []
  },
  {
   "cell_type": "code",
   "execution_count": null,
   "metadata": {
    "collapsed": true
   },
   "outputs": [],
   "source": []
  },
  {
   "cell_type": "code",
   "execution_count": null,
   "metadata": {
    "collapsed": true
   },
   "outputs": [],
   "source": []
  },
  {
   "cell_type": "code",
   "execution_count": null,
   "metadata": {
    "collapsed": true
   },
   "outputs": [],
   "source": []
  }
 ],
 "metadata": {
  "kernelspec": {
   "display_name": "Python 3",
   "language": "python",
   "name": "python3"
  },
  "language_info": {
   "codemirror_mode": {
    "name": "ipython",
    "version": 3
   },
   "file_extension": ".py",
   "mimetype": "text/x-python",
   "name": "python",
   "nbconvert_exporter": "python",
   "pygments_lexer": "ipython3",
   "version": "3.5.2"
  },
  "widgets": {
   "state": {},
   "version": "1.1.1"
  }
 },
 "nbformat": 4,
 "nbformat_minor": 0
}
