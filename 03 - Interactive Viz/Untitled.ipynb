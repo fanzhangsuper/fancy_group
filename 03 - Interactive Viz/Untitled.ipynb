{
 "cells": [
  {
   "cell_type": "code",
   "execution_count": 1,
   "metadata": {
    "collapsed": true
   },
   "outputs": [],
   "source": [
    "import folium\n",
    "import pandas as pd"
   ]
  },
  {
   "cell_type": "code",
   "execution_count": 33,
   "metadata": {
    "collapsed": false
   },
   "outputs": [],
   "source": [
    "geo_path = r'data/antarctic_ice_edge.json'\n",
    "topo_path1 = r'ch-cantons.topojson.json'\n",
    "ch_map = folium.Map(location=[46.8418522,7.9253733],\n",
    "                   tiles='Mapbox Bright', zoom_start=8)\n",
    "ch_map.choropleth(geo_path=geo_path)\n",
    "ch_map.choropleth(geo_path=topo_path1,topojson='objects.cantons')\n",
    "ch_map.save('ch_map.html')"
   ]
  },
  {
   "cell_type": "code",
   "execution_count": 14,
   "metadata": {
    "collapsed": false
   },
   "outputs": [],
   "source": [
    "# read the data\n",
    "p3_grant = r'P3_GrantExport.csv'\n",
    "grant_data = pd.read_csv(p3_grant,sep = ';')"
   ]
  },
  {
   "cell_type": "code",
   "execution_count": 17,
   "metadata": {
    "collapsed": false
   },
   "outputs": [
    {
     "data": {
      "text/plain": [
       "array(['Nicht zuteilbar - NA', 'Université de Genève - GE',\n",
       "       'NPO (Biblioth., Museen, Verwalt.) - NPO', 'Universität Basel - BS',\n",
       "       'Université de Fribourg - FR', 'Universität Zürich - ZH',\n",
       "       'Université de Lausanne - LA', 'Universität Bern - BE',\n",
       "       'Eidg. Forschungsanstalt für Wald,Schnee,Land - WSL',\n",
       "       'Université de Neuchâtel - NE', 'ETH Zürich - ETHZ',\n",
       "       'Inst. de Hautes Etudes Internat. et du Dév - IHEID',\n",
       "       'Universität St. Gallen - SG', 'Weitere Institute - FINST',\n",
       "       'Firmen/Privatwirtschaft - FP',\n",
       "       'Pädagogische Hochschule Graubünden - PHGR', 'EPF Lausanne - EPFL',\n",
       "       'Pädagogische Hochschule Zürich - PHZFH', 'Universität Luzern - LU',\n",
       "       'Schweiz. Institut für Kunstwissenschaft - SIK-ISEA',\n",
       "       'SUP della Svizzera italiana - SUPSI',\n",
       "       'HES de Suisse occidentale - HES-SO',\n",
       "       'Robert Walser-Stiftung Bern - RWS', 'Paul Scherrer Institut - PSI',\n",
       "       'Pädagogische Hochschule St. Gallen - PHSG',\n",
       "       'Eidg. Anstalt für Wasserversorgung - EAWAG',\n",
       "       'Eidg. Material und Prüfungsanstalt - EMPA',\n",
       "       'Physikal.-Meteorolog. Observatorium Davos - PMOD',\n",
       "       'Berner Fachhochschule - BFH',\n",
       "       'Swiss Center for Electronics and Microtech. - CSEM',\n",
       "       'Weitere Spitäler - ASPIT', 'AO Research Institute - AORI',\n",
       "       'Allergie- und Asthmaforschung - SIAF',\n",
       "       'Forschungsinstitut für biologischen Landbau - FIBL',\n",
       "       'Friedrich Miescher Institute - FMI',\n",
       "       'Kantonsspital St. Gallen - KSPSG',\n",
       "       'Forschungsanstalten Agroscope - AGS',\n",
       "       'Ente Ospedaliero Cantonale - EOC',\n",
       "       'Inst. universit. romand de Santé au Travail - IST',\n",
       "       'Eidg. Hochschulinstitut für Berufsbildung - EHB',\n",
       "       'Zürcher Fachhochschule (ohne PH) - ZFH',\n",
       "       'Università della Svizzera italiana - USI',\n",
       "       'Institut für Kulturforschung Graubünden - IKG',\n",
       "       'Fachhochschule Nordwestschweiz (ohne PH) - FHNW',\n",
       "       'Interkant. Hochschule für Heilpädagogik ZH - HfH', nan,\n",
       "       \"Centre de rech. sur l'environnement alpin - CREALP\",\n",
       "       'Idiap Research Institute - IDIAP',\n",
       "       'Pädagogische Hochschule Bern - PHBern',\n",
       "       'Institut Universitaire Kurt Bösch - IUKB',\n",
       "       'Schweizer Paraplegiker Forschung - SPF',\n",
       "       'Hochschule Luzern - HSLU',\n",
       "       'Forschungsinstitut für Opthalmologie - IRO',\n",
       "       'Haute école pédagogique du canton de Vaud - HEPL',\n",
       "       'Fachhochschule Ostschweiz - FHO',\n",
       "       'Inst. Suisse de Spéléologie et Karstologie - ISSKA',\n",
       "       'Swiss Institute of Bioinformatics - SIB',\n",
       "       'Haute école pédagogique BE, JU, NE - HEPBEJUNE',\n",
       "       'Pädagogische Hochschule Luzern - PHLU',\n",
       "       'Forschungskommission SAGW', 'Istituto Svizzero di Roma - ISR',\n",
       "       'Pädag. Hochschule Tessin (Teilschule SUPSI) - ASP',\n",
       "       'Haute école pédagogique fribourgeoise - HEPFR',\n",
       "       'Pädagogische Hochschule Schwyz - PHSZ',\n",
       "       'Pädagogische Hochschule Thurgau - PHTG',\n",
       "       'Biotechnologie Institut Thurgau - BITG',\n",
       "       'Fachhochschule Kalaidos - FHKD',\n",
       "       'Schweizer Kompetenzzentrum Sozialwissensch. - FORS',\n",
       "       'Pädagogische Hochschule Wallis - PHVS',\n",
       "       'Schweiz. Hochschule für Logopädie Rorschach - SHLR',\n",
       "       'Pädagogische Hochschule Zug - PHZG',\n",
       "       'Instituto Ricerche Solari Locarno - IRSOL',\n",
       "       'Franklin University Switzerland - FUS',\n",
       "       'Pädagogische Hochschule Schaffhausen - PHSH',\n",
       "       'Pädagogische Hochschule Nordwestschweiz - PHFHNW',\n",
       "       'Staatsunabh. Theologische Hochschule Basel - STHB',\n",
       "       'Facoltà di Teologia di Lugano - FTL',\n",
       "       'Fernfachhochschule Schweiz (Mitglied SUPSI) - FFHS'], dtype=object)"
      ]
     },
     "execution_count": 17,
     "metadata": {},
     "output_type": "execute_result"
    }
   ],
   "source": [
    "grant_data['University'].unique()"
   ]
  },
  {
   "cell_type": "code",
   "execution_count": 21,
   "metadata": {
    "collapsed": true
   },
   "outputs": [],
   "source": [
    "import numpy as np\n",
    "import requests\n",
    "from bs4 import BeautifulSoup"
   ]
  },
  {
   "cell_type": "code",
   "execution_count": 35,
   "metadata": {
    "collapsed": false
   },
   "outputs": [],
   "source": [
    "# url\n",
    "original_url = 'http://www.geonames.org/search.html?'\n",
    "payload = {'q':'Université de Lausanne','country':'CH'}\n",
    "get_url = requests.get(original_url, params=payload, timeout=30)\n",
    "soup = BeautifulSoup(get_url.text,\"lxml\")"
   ]
  },
  {
   "cell_type": "code",
   "execution_count": 50,
   "metadata": {
    "collapsed": false
   },
   "outputs": [
    {
     "data": {
      "text/plain": [
       "<a href=\"/countries/CH/switzerland.html\">Switzerland</a>"
      ]
     },
     "execution_count": 50,
     "metadata": {},
     "output_type": "execute_result"
    }
   ],
   "source": [
    "l = soup.select('table tr td a')\n",
    "l[-1]"
   ]
  },
  {
   "cell_type": "code",
   "execution_count": null,
   "metadata": {
    "collapsed": true
   },
   "outputs": [],
   "source": [
    "l = soup.select('table tr')\n",
    "# The first row is the title of the table\n",
    "# The second row is the label of columns\n",
    "s = []\n",
    "\n",
    "for column in list_of_columns:\n",
    "    temp_s = []\n",
    "    for item in l[2:]:\n",
    "        content = item.contents[table_columns_dict[column]].contents\n",
    "        if (content == []):\n",
    "            temp_s.append('None')\n",
    "        else:\n",
    "            temp_s.append(content[0])\n",
    "    s.append(temp_s)\n",
    "\n",
    "column_dict = dict(zip(list_of_columns, s))\n",
    "df = pd.DataFrame(column_dict)"
   ]
  },
  {
   "cell_type": "code",
   "execution_count": null,
   "metadata": {
    "collapsed": true
   },
   "outputs": [],
   "source": []
  }
 ],
 "metadata": {
  "kernelspec": {
   "display_name": "Python 3",
   "language": "python",
   "name": "python3"
  },
  "language_info": {
   "codemirror_mode": {
    "name": "ipython",
    "version": 3
   },
   "file_extension": ".py",
   "mimetype": "text/x-python",
   "name": "python",
   "nbconvert_exporter": "python",
   "pygments_lexer": "ipython3",
   "version": "3.5.1"
  }
 },
 "nbformat": 4,
 "nbformat_minor": 0
}
